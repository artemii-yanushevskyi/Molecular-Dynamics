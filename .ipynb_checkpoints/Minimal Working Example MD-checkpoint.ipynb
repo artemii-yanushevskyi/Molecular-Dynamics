{
 "cells": [
  {
   "cell_type": "markdown",
   "metadata": {},
   "source": [
    "# Imports"
   ]
  },
  {
   "cell_type": "code",
   "execution_count": 1,
   "metadata": {},
   "outputs": [],
   "source": [
    "import numpy as np\n",
    "import unittest"
   ]
  },
  {
   "cell_type": "markdown",
   "metadata": {},
   "source": [
    "# Define Components"
   ]
  },
  {
   "cell_type": "markdown",
   "metadata": {},
   "source": [
    "## Vector Class"
   ]
  },
  {
   "cell_type": "code",
   "execution_count": 40,
   "metadata": {},
   "outputs": [],
   "source": [
    "class Vector2d:\n",
    "    def __init__(self, coords=None):\n",
    "        ''' coords is array of size two\n",
    "        if argument coords is not specified, then Vector2d will have random coordinates\n",
    "        '''\n",
    "        if coords is None:\n",
    "            self._coords = np.random.random(2)\n",
    "        else:\n",
    "            self._coords = np.array(coords)\n",
    "            \n",
    "    def get_x(self):\n",
    "        return self._coords[0]\n",
    "    \n",
    "    def set_x(self, value):\n",
    "        self._coords[0] = value\n",
    "\n",
    "    def get_y(self):\n",
    "        return self._coords[1]\n",
    "    \n",
    "    def set_y(self, value):\n",
    "        self._coords[1] = value\n",
    "    \n",
    "    x = property()\n",
    "    y = property()\n",
    "\n",
    "    x = x.getter(get_x)\n",
    "    x = x.setter(set_x)\n",
    "\n",
    "    y = y.getter(get_y)\n",
    "    y = y.setter(set_y)\n",
    "\n",
    "    def __str__(self):\n",
    "        return '[{0:,.3f}, {1:,.3f}] Vector2d'.format(self.x, self.y)\n",
    "    \n",
    "    def __repr__(self):\n",
    "        return '[{0}, {1}] Vector2d'.format(self.x, self.y)\n",
    "    \n",
    "    def __eq__(self, other):\n",
    "        return all(self._coords == other._coords)\n",
    "        \n",
    "    def __add__(self, other):\n",
    "        return Vector2d(self._coords + other._coords)\n",
    "    "
   ]
  },
  {
   "cell_type": "markdown",
   "metadata": {},
   "source": [
    "## Environment Class"
   ]
  },
  {
   "cell_type": "markdown",
   "metadata": {},
   "source": [
    "## Atom Class"
   ]
  },
  {
   "cell_type": "markdown",
   "metadata": {},
   "source": [
    "## Moleculalr Dynamics Class"
   ]
  },
  {
   "cell_type": "markdown",
   "metadata": {},
   "source": [
    "# Launching"
   ]
  },
  {
   "cell_type": "markdown",
   "metadata": {},
   "source": [
    "# Unit Testing"
   ]
  },
  {
   "cell_type": "markdown",
   "metadata": {},
   "source": [
    "## Vector Class"
   ]
  },
  {
   "cell_type": "code",
   "execution_count": 47,
   "metadata": {},
   "outputs": [
    {
     "name": "stderr",
     "output_type": "stream",
     "text": [
      "........."
     ]
    },
    {
     "name": "stdout",
     "output_type": "stream",
     "text": [
      "Make sure that the vectors are different:\n",
      " [array([0.44332233, 0.30750914]), array([0.30921199, 0.03306565]), array([0.83471502, 0.88774446])]\n"
     ]
    },
    {
     "name": "stderr",
     "output_type": "stream",
     "text": [
      "\n",
      "----------------------------------------------------------------------\n",
      "Ran 9 tests in 0.010s\n",
      "\n",
      "OK\n"
     ]
    }
   ],
   "source": [
    "class VectorTest(unittest.TestCase):\n",
    "    def setUp(self):\n",
    "        self.arr = [Vector2d(), Vector2d(), Vector2d()]\n",
    "        self.v2 = Vector2d([3,4.4])\n",
    "        \n",
    "    def test_coords(self):\n",
    "        self.assertEqual(np.testing.assert_array_equal(np.array([3,4.4]), self.v2._coords), None)\n",
    "        \n",
    "    def test_random_vectors(self):\n",
    "        print('Make sure that the vectors are different:\\n',[v._coords for v in self.arr])\n",
    "        self.assertEqual(9,9)\n",
    "\n",
    "\n",
    "class VectorGetSet(unittest.TestCase):\n",
    "    def setUp(self):\n",
    "        self.v = Vector2d([10.2, 4.154])\n",
    "    \n",
    "    def test_set(self):\n",
    "        self.v.x = 3\n",
    "        self.v.y = 5\n",
    "        self.assertEqual(np.testing.assert_array_equal(np.array([3,5]), self.v._coords), None)\n",
    "\n",
    "    def test_get(self):\n",
    "        self.assertEqual(self.v.x, 10.2)\n",
    "        self.assertEqual(self.v.y, 4.154)\n",
    "\n",
    "\n",
    "\n",
    "class VectorTestStrRepr(unittest.TestCase):\n",
    "    def setUp(self):\n",
    "        self.v = Vector2d([22.351355, -44.343143])\n",
    "        \n",
    "    def test_str(self):\n",
    "        self.assertEqual(str(self.v), '[22.351, -44.343] Vector2d')\n",
    "        \n",
    "    def test_repr(self):\n",
    "        self.assertEqual((self.v.__repr__()), '[22.351355, -44.343143] Vector2d')\n",
    "\n",
    "\n",
    "class VectorEquality(unittest.TestCase):\n",
    "    def setUp(self):\n",
    "        self.v1 = Vector2d([22.351355, -44.343143])\n",
    "        self.v2 = Vector2d([22.351355, -44.343143])\n",
    "        self.v3 = Vector2d([33.3, -22.343143])\n",
    "        \n",
    "    def test_eq(self):\n",
    "        self.assertEqual(self.v1, self.v2)\n",
    "        \n",
    "    def test_neq(self):\n",
    "        self.assertNotEqual(self.v1, self.v3)\n",
    "\n",
    "class VectorAddition(unittest.TestCase):\n",
    "    def setUp(self):\n",
    "        self.v1 = Vector2d([22.3, -44])\n",
    "        self.v2 = Vector2d([2,4])\n",
    "        \n",
    "    def test_add(self):\n",
    "        result = Vector2d([24.3, -40])\n",
    "        self.assertEqual(self.v1 + self.v2, result)\n",
    "\n",
    "        \n",
    "unittest.main(argv=['first-arg-is-ignored'], exit=False);"
   ]
  },
  {
   "cell_type": "markdown",
   "metadata": {},
   "source": [
    "## Environment Class"
   ]
  },
  {
   "cell_type": "markdown",
   "metadata": {},
   "source": [
    "## Atom Class"
   ]
  },
  {
   "cell_type": "markdown",
   "metadata": {},
   "source": [
    "## Moleculalr Dynamics Class"
   ]
  }
 ],
 "metadata": {
  "kernelspec": {
   "display_name": "Python 3",
   "language": "python",
   "name": "python3"
  },
  "language_info": {
   "codemirror_mode": {
    "name": "ipython",
    "version": 3
   },
   "file_extension": ".py",
   "mimetype": "text/x-python",
   "name": "python",
   "nbconvert_exporter": "python",
   "pygments_lexer": "ipython3",
   "version": "3.7.0"
  }
 },
 "nbformat": 4,
 "nbformat_minor": 2
}
