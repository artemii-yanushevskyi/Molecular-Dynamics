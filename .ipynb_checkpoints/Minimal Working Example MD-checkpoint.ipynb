{
 "cells": [
  {
   "cell_type": "markdown",
   "metadata": {},
   "source": [
    "# Imports"
   ]
  },
  {
   "cell_type": "code",
   "execution_count": 50,
   "metadata": {},
   "outputs": [
    {
     "data": {
      "text/html": [
       "<script type=\"text/javascript\">window.PlotlyConfig = {MathJaxConfig: 'local'};</script><script type=\"text/javascript\">if (window.MathJax) {MathJax.Hub.Config({SVG: {font: \"STIX-Web\"}});}</script><script>requirejs.config({paths: { 'plotly': ['https://cdn.plot.ly/plotly-latest.min']},});if(!window._Plotly) {require(['plotly'],function(plotly) {window._Plotly=plotly;});}</script>"
      ],
      "text/vnd.plotly.v1+html": [
       "<script type=\"text/javascript\">window.PlotlyConfig = {MathJaxConfig: 'local'};</script><script type=\"text/javascript\">if (window.MathJax) {MathJax.Hub.Config({SVG: {font: \"STIX-Web\"}});}</script><script>requirejs.config({paths: { 'plotly': ['https://cdn.plot.ly/plotly-latest.min']},});if(!window._Plotly) {require(['plotly'],function(plotly) {window._Plotly=plotly;});}</script>"
      ]
     },
     "metadata": {},
     "output_type": "display_data"
    }
   ],
   "source": [
    "import numpy as np\n",
    "import unittest\n",
    "import math\n",
    "\n",
    "from plotly.offline import init_notebook_mode, iplot\n",
    "from IPython.display import display, HTML\n",
    "init_notebook_mode(connected=True)"
   ]
  },
  {
   "cell_type": "markdown",
   "metadata": {},
   "source": [
    "# Define Components"
   ]
  },
  {
   "cell_type": "markdown",
   "metadata": {},
   "source": [
    "## Vector Class"
   ]
  },
  {
   "cell_type": "code",
   "execution_count": 2,
   "metadata": {},
   "outputs": [],
   "source": [
    "class Vector2d:\n",
    "    def __init__(self, coords=None):\n",
    "        ''' coords is array of size two\n",
    "        if argument coords is not specified, then Vector2d will have random coordinates\n",
    "        '''\n",
    "        if type(coords) is Vector2d:\n",
    "            raise ValueError('coords parameter is already a Vector2d object')\n",
    "        \n",
    "        if coords is None:\n",
    "            self._coords = np.random.random(2)\n",
    "        else:\n",
    "            self._coords = np.array(coords)\n",
    "            \n",
    "    def get_x(self):\n",
    "        return self._coords[0]\n",
    "    \n",
    "    def set_x(self, value):\n",
    "        self._coords[0] = value\n",
    "\n",
    "    def get_y(self):\n",
    "        return self._coords[1]\n",
    "    \n",
    "    def set_y(self, value):\n",
    "        self._coords[1] = value\n",
    "    \n",
    "    x = property()\n",
    "    y = property()\n",
    "\n",
    "    x = x.getter(get_x)\n",
    "    x = x.setter(set_x)\n",
    "\n",
    "    y = y.getter(get_y)\n",
    "    y = y.setter(set_y)\n",
    "\n",
    "    def __str__(self):\n",
    "        return '[{0:,.3f}, {1:,.3f}] Vector2d'.format(self.x, self.y)\n",
    "    \n",
    "    def __repr__(self):\n",
    "        return '[{0}, {1}] Vector2d'.format(self.x, self.y)\n",
    "    \n",
    "    def __eq__(self, other):\n",
    "        return all(self._coords == other._coords)\n",
    "        \n",
    "    def __add__(self, other):\n",
    "        return Vector2d(self._coords + other._coords)\n",
    "    \n",
    "    def __sub__(self, other):\n",
    "        return Vector2d(self._coords - other._coords)\n",
    "    \n",
    "    @classmethod\n",
    "    def dot(cls, v1, v2):\n",
    "        return np.vdot(v1._coords, v2._coords)\n",
    "    \n",
    "    @classmethod\n",
    "    def distance(cls, v1, v2):\n",
    "        return math.sqrt(Vector2d.dot(v2 - v1, v2 - v1))\n",
    "    \n",
    "    def __rmul__(self, scalar):\n",
    "        return Vector2d(scalar * self._coords)\n",
    "    "
   ]
  },
  {
   "cell_type": "markdown",
   "metadata": {},
   "source": [
    "## Environment Class"
   ]
  },
  {
   "cell_type": "code",
   "execution_count": 3,
   "metadata": {},
   "outputs": [],
   "source": [
    "class Environment:\n",
    "    def __init__(self, x, y):\n",
    "        ''' \n",
    "        x and y are the size of our rectangular region.\n",
    "        The center of the region is located at the (0, 0).\n",
    "        The corners of the region are: (x/2, y/2), (x/2, -y/2), (-x/2, -y/2), (-x/2, y/2)\n",
    "        (from top right, clockwise)\n",
    "        '''\n",
    "        self.width = x\n",
    "        self.hight = y"
   ]
  },
  {
   "cell_type": "markdown",
   "metadata": {},
   "source": [
    "## Atom Class"
   ]
  },
  {
   "cell_type": "code",
   "execution_count": 4,
   "metadata": {},
   "outputs": [],
   "source": [
    "class Atom:\n",
    "    count = 0\n",
    "    def __init__(self, weight, r=None, v=None, a=None):\n",
    "        ''' Initialize r, v and a with random vectors if nothing is specified'''\n",
    "        self.weight = weight\n",
    "        self.n = Atom.count\n",
    "        if r is None:\n",
    "            self.r = Vector2d()\n",
    "        else:\n",
    "            self.r = Vector2d(r)\n",
    "        \n",
    "        if v is None:\n",
    "            self.v = Vector2d()\n",
    "        else:\n",
    "            self.v = Vector2d(v)\n",
    "            \n",
    "        if a is None:\n",
    "            self.a = Vector2d()\n",
    "        else:\n",
    "            self.a = Vector2d(a)\n",
    "        \n",
    "        Atom.count += 1"
   ]
  },
  {
   "cell_type": "markdown",
   "metadata": {},
   "source": [
    "## Moleculalr Dynamics Class"
   ]
  },
  {
   "cell_type": "code",
   "execution_count": 45,
   "metadata": {},
   "outputs": [],
   "source": [
    "class MolecularDynamics:\n",
    "    def __init__(self, environment):\n",
    "        self.env = environment\n",
    "        self.mols = [\n",
    "            Atom(0.1, [0.5,0], [1,1], [0,0]),\n",
    "            Atom(0.1, [0,0.3], [-1,1], [0,0]),\n",
    "            Atom(0.1, [1,1], [-1,-1], [0,0]),\n",
    "        ]\n",
    "        self.time = 0\n",
    "        self.dt = 0.1\n",
    "        self.u = 0 # energy in the system\n",
    "    \n",
    "    def leapfrog(self, part):\n",
    "        if part == 1:\n",
    "            for m in self.mols:\n",
    "                m.v = m.v + 0.5 * self.dt * m.a\n",
    "                m.r = m.r + self.dt * m.v\n",
    "        elif part == 2:\n",
    "            for m in self.mols:\n",
    "                m.v = m.v + 0.5 * self.dt * m.a\n",
    "    \n",
    "    def leapfrogs(self):\n",
    "        self.leapfrog(1)\n",
    "        self.leapfrog(2)\n",
    "        return ''\n",
    "    \n",
    "    def plot(self):\n",
    "        mols_x = [m.r.x for m in self.mols]\n",
    "        mols_y = [m.r.y for m in self.mols]\n",
    "        \n",
    "        trace = go.Scatter(\n",
    "            x = mols_x,\n",
    "            y = mols_y,\n",
    "            mode = 'markers+text',\n",
    "            text = ['1', '2', '3'],\n",
    "            textposition='bottom right',\n",
    "            textfont=dict(\n",
    "                family='sans serif',\n",
    "                size=8,\n",
    "                color='#ff7f0e'\n",
    "            )\n",
    "        )\n",
    "        \n",
    "        data = [trace]\n",
    "        # Plot and embed in ipython notebook!\n",
    "        iplot(data)"
   ]
  },
  {
   "cell_type": "markdown",
   "metadata": {},
   "source": [
    "# Launching"
   ]
  },
  {
   "cell_type": "code",
   "execution_count": 54,
   "metadata": {},
   "outputs": [
    {
     "data": {
      "application/vnd.plotly.v1+json": {
       "config": {
        "linkText": "Export to plot.ly",
        "plotlyServerURL": "https://plot.ly",
        "showLink": false
       },
       "data": [
        {
         "line": {
          "color": "blue",
          "width": 2
         },
         "mode": "markers",
         "type": "scatter",
         "uid": "06ba660f-58b4-4930-8e06-9545236b65be",
         "x": [
          0.5,
          0,
          1
         ],
         "y": [
          0,
          0.3,
          1
         ]
        }
       ],
       "frames": [
        {
         "data": [
          {
           "marker": {
            "color": "red",
            "size": 10
           },
           "mode": "markers",
           "type": "scatter",
           "x": [
            0.5,
            0,
            1
           ],
           "y": [
            0,
            0.3,
            1
           ]
          }
         ]
        },
        {
         "data": [
          {
           "marker": {
            "color": "red",
            "size": 10
           },
           "mode": "markers",
           "type": "scatter",
           "x": [
            0.6,
            -0.1,
            0.9
           ],
           "y": [
            0.1,
            0.4,
            0.9
           ]
          }
         ]
        },
        {
         "data": [
          {
           "marker": {
            "color": "red",
            "size": 10
           },
           "mode": "markers",
           "type": "scatter",
           "x": [
            0.7,
            -0.2,
            0.8
           ],
           "y": [
            0.2,
            0.5,
            0.8
           ]
          }
         ]
        },
        {
         "data": [
          {
           "marker": {
            "color": "red",
            "size": 10
           },
           "mode": "markers",
           "type": "scatter",
           "x": [
            0.7999999999999999,
            -0.30000000000000004,
            0.7000000000000001
           ],
           "y": [
            0.30000000000000004,
            0.6,
            0.7000000000000001
           ]
          }
         ]
        },
        {
         "data": [
          {
           "marker": {
            "color": "red",
            "size": 10
           },
           "mode": "markers",
           "type": "scatter",
           "x": [
            0.8999999999999999,
            -0.4,
            0.6000000000000001
           ],
           "y": [
            0.4,
            0.7,
            0.6000000000000001
           ]
          }
         ]
        },
        {
         "data": [
          {
           "marker": {
            "color": "red",
            "size": 10
           },
           "mode": "markers",
           "type": "scatter",
           "x": [
            0.9999999999999999,
            -0.5,
            0.5000000000000001
           ],
           "y": [
            0.5,
            0.7999999999999999,
            0.5000000000000001
           ]
          }
         ]
        },
        {
         "data": [
          {
           "marker": {
            "color": "red",
            "size": 10
           },
           "mode": "markers",
           "type": "scatter",
           "x": [
            1.0999999999999999,
            -0.6,
            0.40000000000000013
           ],
           "y": [
            0.6,
            0.8999999999999999,
            0.40000000000000013
           ]
          }
         ]
        },
        {
         "data": [
          {
           "marker": {
            "color": "red",
            "size": 10
           },
           "mode": "markers",
           "type": "scatter",
           "x": [
            1.2,
            -0.7,
            0.30000000000000016
           ],
           "y": [
            0.7,
            0.9999999999999999,
            0.30000000000000016
           ]
          }
         ]
        },
        {
         "data": [
          {
           "marker": {
            "color": "red",
            "size": 10
           },
           "mode": "markers",
           "type": "scatter",
           "x": [
            1.3,
            -0.7999999999999999,
            0.20000000000000015
           ],
           "y": [
            0.7999999999999999,
            1.0999999999999999,
            0.20000000000000015
           ]
          }
         ]
        },
        {
         "data": [
          {
           "marker": {
            "color": "red",
            "size": 10
           },
           "mode": "markers",
           "type": "scatter",
           "x": [
            1.4000000000000001,
            -0.8999999999999999,
            0.10000000000000014
           ],
           "y": [
            0.8999999999999999,
            1.2,
            0.10000000000000014
           ]
          }
         ]
        },
        {
         "data": [
          {
           "marker": {
            "color": "red",
            "size": 10
           },
           "mode": "markers",
           "type": "scatter",
           "x": [
            1.5000000000000002,
            -0.9999999999999999,
            1.3877787807814457e-16
           ],
           "y": [
            0.9999999999999999,
            1.3,
            1.3877787807814457e-16
           ]
          }
         ]
        },
        {
         "data": [
          {
           "marker": {
            "color": "red",
            "size": 10
           },
           "mode": "markers",
           "type": "scatter",
           "x": [
            1.6000000000000003,
            -1.0999999999999999,
            -0.09999999999999987
           ],
           "y": [
            1.0999999999999999,
            1.4000000000000001,
            -0.09999999999999987
           ]
          }
         ]
        },
        {
         "data": [
          {
           "marker": {
            "color": "red",
            "size": 10
           },
           "mode": "markers",
           "type": "scatter",
           "x": [
            1.7000000000000004,
            -1.2,
            -0.19999999999999987
           ],
           "y": [
            1.2,
            1.5000000000000002,
            -0.19999999999999987
           ]
          }
         ]
        },
        {
         "data": [
          {
           "marker": {
            "color": "red",
            "size": 10
           },
           "mode": "markers",
           "type": "scatter",
           "x": [
            1.8000000000000005,
            -1.3,
            -0.2999999999999999
           ],
           "y": [
            1.3,
            1.6000000000000003,
            -0.2999999999999999
           ]
          }
         ]
        },
        {
         "data": [
          {
           "marker": {
            "color": "red",
            "size": 10
           },
           "mode": "markers",
           "type": "scatter",
           "x": [
            1.9000000000000006,
            -1.4000000000000001,
            -0.3999999999999999
           ],
           "y": [
            1.4000000000000001,
            1.7000000000000004,
            -0.3999999999999999
           ]
          }
         ]
        },
        {
         "data": [
          {
           "marker": {
            "color": "red",
            "size": 10
           },
           "mode": "markers",
           "type": "scatter",
           "x": [
            2.0000000000000004,
            -1.5000000000000002,
            -0.4999999999999999
           ],
           "y": [
            1.5000000000000002,
            1.8000000000000005,
            -0.4999999999999999
           ]
          }
         ]
        },
        {
         "data": [
          {
           "marker": {
            "color": "red",
            "size": 10
           },
           "mode": "markers",
           "type": "scatter",
           "x": [
            2.1000000000000005,
            -1.6000000000000003,
            -0.5999999999999999
           ],
           "y": [
            1.6000000000000003,
            1.9000000000000006,
            -0.5999999999999999
           ]
          }
         ]
        },
        {
         "data": [
          {
           "marker": {
            "color": "red",
            "size": 10
           },
           "mode": "markers",
           "type": "scatter",
           "x": [
            2.2000000000000006,
            -1.7000000000000004,
            -0.6999999999999998
           ],
           "y": [
            1.7000000000000004,
            2.0000000000000004,
            -0.6999999999999998
           ]
          }
         ]
        },
        {
         "data": [
          {
           "marker": {
            "color": "red",
            "size": 10
           },
           "mode": "markers",
           "type": "scatter",
           "x": [
            2.3000000000000007,
            -1.8000000000000005,
            -0.7999999999999998
           ],
           "y": [
            1.8000000000000005,
            2.1000000000000005,
            -0.7999999999999998
           ]
          }
         ]
        },
        {
         "data": [
          {
           "marker": {
            "color": "red",
            "size": 10
           },
           "mode": "markers",
           "type": "scatter",
           "x": [
            2.400000000000001,
            -1.9000000000000006,
            -0.8999999999999998
           ],
           "y": [
            1.9000000000000006,
            2.2000000000000006,
            -0.8999999999999998
           ]
          }
         ]
        },
        {
         "data": [
          {
           "marker": {
            "color": "red",
            "size": 10
           },
           "mode": "markers",
           "type": "scatter",
           "x": [
            2.500000000000001,
            -2.0000000000000004,
            -0.9999999999999998
           ],
           "y": [
            2.0000000000000004,
            2.3000000000000007,
            -0.9999999999999998
           ]
          }
         ]
        },
        {
         "data": [
          {
           "marker": {
            "color": "red",
            "size": 10
           },
           "mode": "markers",
           "type": "scatter",
           "x": [
            2.600000000000001,
            -2.1000000000000005,
            -1.0999999999999999
           ],
           "y": [
            2.1000000000000005,
            2.400000000000001,
            -1.0999999999999999
           ]
          }
         ]
        },
        {
         "data": [
          {
           "marker": {
            "color": "red",
            "size": 10
           },
           "mode": "markers",
           "type": "scatter",
           "x": [
            2.700000000000001,
            -2.2000000000000006,
            -1.2
           ],
           "y": [
            2.2000000000000006,
            2.500000000000001,
            -1.2
           ]
          }
         ]
        },
        {
         "data": [
          {
           "marker": {
            "color": "red",
            "size": 10
           },
           "mode": "markers",
           "type": "scatter",
           "x": [
            2.800000000000001,
            -2.3000000000000007,
            -1.3
           ],
           "y": [
            2.3000000000000007,
            2.600000000000001,
            -1.3
           ]
          }
         ]
        },
        {
         "data": [
          {
           "marker": {
            "color": "red",
            "size": 10
           },
           "mode": "markers",
           "type": "scatter",
           "x": [
            2.9000000000000012,
            -2.400000000000001,
            -1.4000000000000001
           ],
           "y": [
            2.400000000000001,
            2.700000000000001,
            -1.4000000000000001
           ]
          }
         ]
        },
        {
         "data": [
          {
           "marker": {
            "color": "red",
            "size": 10
           },
           "mode": "markers",
           "type": "scatter",
           "x": [
            3.0000000000000013,
            -2.500000000000001,
            -1.5000000000000002
           ],
           "y": [
            2.500000000000001,
            2.800000000000001,
            -1.5000000000000002
           ]
          }
         ]
        },
        {
         "data": [
          {
           "marker": {
            "color": "red",
            "size": 10
           },
           "mode": "markers",
           "type": "scatter",
           "x": [
            3.1000000000000014,
            -2.600000000000001,
            -1.6000000000000003
           ],
           "y": [
            2.600000000000001,
            2.9000000000000012,
            -1.6000000000000003
           ]
          }
         ]
        },
        {
         "data": [
          {
           "marker": {
            "color": "red",
            "size": 10
           },
           "mode": "markers",
           "type": "scatter",
           "x": [
            3.2000000000000015,
            -2.700000000000001,
            -1.7000000000000004
           ],
           "y": [
            2.700000000000001,
            3.0000000000000013,
            -1.7000000000000004
           ]
          }
         ]
        },
        {
         "data": [
          {
           "marker": {
            "color": "red",
            "size": 10
           },
           "mode": "markers",
           "type": "scatter",
           "x": [
            3.3000000000000016,
            -2.800000000000001,
            -1.8000000000000005
           ],
           "y": [
            2.800000000000001,
            3.1000000000000014,
            -1.8000000000000005
           ]
          }
         ]
        },
        {
         "data": [
          {
           "marker": {
            "color": "red",
            "size": 10
           },
           "mode": "markers",
           "type": "scatter",
           "x": [
            3.4000000000000017,
            -2.9000000000000012,
            -1.9000000000000006
           ],
           "y": [
            2.9000000000000012,
            3.2000000000000015,
            -1.9000000000000006
           ]
          }
         ]
        },
        {
         "data": [
          {
           "marker": {
            "color": "red",
            "size": 10
           },
           "mode": "markers",
           "type": "scatter",
           "x": [
            3.5000000000000018,
            -3.0000000000000013,
            -2.0000000000000004
           ],
           "y": [
            3.0000000000000013,
            3.3000000000000016,
            -2.0000000000000004
           ]
          }
         ]
        },
        {
         "data": [
          {
           "marker": {
            "color": "red",
            "size": 10
           },
           "mode": "markers",
           "type": "scatter",
           "x": [
            3.600000000000002,
            -3.1000000000000014,
            -2.1000000000000005
           ],
           "y": [
            3.1000000000000014,
            3.4000000000000017,
            -2.1000000000000005
           ]
          }
         ]
        },
        {
         "data": [
          {
           "marker": {
            "color": "red",
            "size": 10
           },
           "mode": "markers",
           "type": "scatter",
           "x": [
            3.700000000000002,
            -3.2000000000000015,
            -2.2000000000000006
           ],
           "y": [
            3.2000000000000015,
            3.5000000000000018,
            -2.2000000000000006
           ]
          }
         ]
        },
        {
         "data": [
          {
           "marker": {
            "color": "red",
            "size": 10
           },
           "mode": "markers",
           "type": "scatter",
           "x": [
            3.800000000000002,
            -3.3000000000000016,
            -2.3000000000000007
           ],
           "y": [
            3.3000000000000016,
            3.600000000000002,
            -2.3000000000000007
           ]
          }
         ]
        },
        {
         "data": [
          {
           "marker": {
            "color": "red",
            "size": 10
           },
           "mode": "markers",
           "type": "scatter",
           "x": [
            3.900000000000002,
            -3.4000000000000017,
            -2.400000000000001
           ],
           "y": [
            3.4000000000000017,
            3.700000000000002,
            -2.400000000000001
           ]
          }
         ]
        },
        {
         "data": [
          {
           "marker": {
            "color": "red",
            "size": 10
           },
           "mode": "markers",
           "type": "scatter",
           "x": [
            4.000000000000002,
            -3.5000000000000018,
            -2.500000000000001
           ],
           "y": [
            3.5000000000000018,
            3.800000000000002,
            -2.500000000000001
           ]
          }
         ]
        },
        {
         "data": [
          {
           "marker": {
            "color": "red",
            "size": 10
           },
           "mode": "markers",
           "type": "scatter",
           "x": [
            4.100000000000001,
            -3.600000000000002,
            -2.600000000000001
           ],
           "y": [
            3.600000000000002,
            3.900000000000002,
            -2.600000000000001
           ]
          }
         ]
        },
        {
         "data": [
          {
           "marker": {
            "color": "red",
            "size": 10
           },
           "mode": "markers",
           "type": "scatter",
           "x": [
            4.200000000000001,
            -3.700000000000002,
            -2.700000000000001
           ],
           "y": [
            3.700000000000002,
            4.000000000000002,
            -2.700000000000001
           ]
          }
         ]
        },
        {
         "data": [
          {
           "marker": {
            "color": "red",
            "size": 10
           },
           "mode": "markers",
           "type": "scatter",
           "x": [
            4.300000000000001,
            -3.800000000000002,
            -2.800000000000001
           ],
           "y": [
            3.800000000000002,
            4.100000000000001,
            -2.800000000000001
           ]
          }
         ]
        },
        {
         "data": [
          {
           "marker": {
            "color": "red",
            "size": 10
           },
           "mode": "markers",
           "type": "scatter",
           "x": [
            4.4,
            -3.900000000000002,
            -2.9000000000000012
           ],
           "y": [
            3.900000000000002,
            4.200000000000001,
            -2.9000000000000012
           ]
          }
         ]
        },
        {
         "data": [
          {
           "marker": {
            "color": "red",
            "size": 10
           },
           "mode": "markers",
           "type": "scatter",
           "x": [
            4.5,
            -4.000000000000002,
            -3.0000000000000013
           ],
           "y": [
            4.000000000000002,
            4.300000000000001,
            -3.0000000000000013
           ]
          }
         ]
        },
        {
         "data": [
          {
           "marker": {
            "color": "red",
            "size": 10
           },
           "mode": "markers",
           "type": "scatter",
           "x": [
            4.6,
            -4.100000000000001,
            -3.1000000000000014
           ],
           "y": [
            4.100000000000001,
            4.4,
            -3.1000000000000014
           ]
          }
         ]
        },
        {
         "data": [
          {
           "marker": {
            "color": "red",
            "size": 10
           },
           "mode": "markers",
           "type": "scatter",
           "x": [
            4.699999999999999,
            -4.200000000000001,
            -3.2000000000000015
           ],
           "y": [
            4.200000000000001,
            4.5,
            -3.2000000000000015
           ]
          }
         ]
        },
        {
         "data": [
          {
           "marker": {
            "color": "red",
            "size": 10
           },
           "mode": "markers",
           "type": "scatter",
           "x": [
            4.799999999999999,
            -4.300000000000001,
            -3.3000000000000016
           ],
           "y": [
            4.300000000000001,
            4.6,
            -3.3000000000000016
           ]
          }
         ]
        },
        {
         "data": [
          {
           "marker": {
            "color": "red",
            "size": 10
           },
           "mode": "markers",
           "type": "scatter",
           "x": [
            4.899999999999999,
            -4.4,
            -3.4000000000000017
           ],
           "y": [
            4.4,
            4.699999999999999,
            -3.4000000000000017
           ]
          }
         ]
        },
        {
         "data": [
          {
           "marker": {
            "color": "red",
            "size": 10
           },
           "mode": "markers",
           "type": "scatter",
           "x": [
            4.999999999999998,
            -4.5,
            -3.5000000000000018
           ],
           "y": [
            4.5,
            4.799999999999999,
            -3.5000000000000018
           ]
          }
         ]
        },
        {
         "data": [
          {
           "marker": {
            "color": "red",
            "size": 10
           },
           "mode": "markers",
           "type": "scatter",
           "x": [
            5.099999999999998,
            -4.6,
            -3.600000000000002
           ],
           "y": [
            4.6,
            4.899999999999999,
            -3.600000000000002
           ]
          }
         ]
        },
        {
         "data": [
          {
           "marker": {
            "color": "red",
            "size": 10
           },
           "mode": "markers",
           "type": "scatter",
           "x": [
            5.1999999999999975,
            -4.699999999999999,
            -3.700000000000002
           ],
           "y": [
            4.699999999999999,
            4.999999999999998,
            -3.700000000000002
           ]
          }
         ]
        },
        {
         "data": [
          {
           "marker": {
            "color": "red",
            "size": 10
           },
           "mode": "markers",
           "type": "scatter",
           "x": [
            5.299999999999997,
            -4.799999999999999,
            -3.800000000000002
           ],
           "y": [
            4.799999999999999,
            5.099999999999998,
            -3.800000000000002
           ]
          }
         ]
        },
        {
         "data": [
          {
           "marker": {
            "color": "red",
            "size": 10
           },
           "mode": "markers",
           "type": "scatter",
           "x": [
            5.399999999999997,
            -4.899999999999999,
            -3.900000000000002
           ],
           "y": [
            4.899999999999999,
            5.1999999999999975,
            -3.900000000000002
           ]
          }
         ]
        },
        {
         "data": [
          {
           "marker": {
            "color": "red",
            "size": 10
           },
           "mode": "markers",
           "type": "scatter",
           "x": [
            5.4999999999999964,
            -4.999999999999998,
            -4.000000000000002
           ],
           "y": [
            4.999999999999998,
            5.299999999999997,
            -4.000000000000002
           ]
          }
         ]
        },
        {
         "data": [
          {
           "marker": {
            "color": "red",
            "size": 10
           },
           "mode": "markers",
           "type": "scatter",
           "x": [
            5.599999999999996,
            -5.099999999999998,
            -4.100000000000001
           ],
           "y": [
            5.099999999999998,
            5.399999999999997,
            -4.100000000000001
           ]
          }
         ]
        },
        {
         "data": [
          {
           "marker": {
            "color": "red",
            "size": 10
           },
           "mode": "markers",
           "type": "scatter",
           "x": [
            5.699999999999996,
            -5.1999999999999975,
            -4.200000000000001
           ],
           "y": [
            5.1999999999999975,
            5.4999999999999964,
            -4.200000000000001
           ]
          }
         ]
        },
        {
         "data": [
          {
           "marker": {
            "color": "red",
            "size": 10
           },
           "mode": "markers",
           "type": "scatter",
           "x": [
            5.799999999999995,
            -5.299999999999997,
            -4.300000000000001
           ],
           "y": [
            5.299999999999997,
            5.599999999999996,
            -4.300000000000001
           ]
          }
         ]
        },
        {
         "data": [
          {
           "marker": {
            "color": "red",
            "size": 10
           },
           "mode": "markers",
           "type": "scatter",
           "x": [
            5.899999999999995,
            -5.399999999999997,
            -4.4
           ],
           "y": [
            5.399999999999997,
            5.699999999999996,
            -4.4
           ]
          }
         ]
        },
        {
         "data": [
          {
           "marker": {
            "color": "red",
            "size": 10
           },
           "mode": "markers",
           "type": "scatter",
           "x": [
            5.999999999999995,
            -5.4999999999999964,
            -4.5
           ],
           "y": [
            5.4999999999999964,
            5.799999999999995,
            -4.5
           ]
          }
         ]
        },
        {
         "data": [
          {
           "marker": {
            "color": "red",
            "size": 10
           },
           "mode": "markers",
           "type": "scatter",
           "x": [
            6.099999999999994,
            -5.599999999999996,
            -4.6
           ],
           "y": [
            5.599999999999996,
            5.899999999999995,
            -4.6
           ]
          }
         ]
        },
        {
         "data": [
          {
           "marker": {
            "color": "red",
            "size": 10
           },
           "mode": "markers",
           "type": "scatter",
           "x": [
            6.199999999999994,
            -5.699999999999996,
            -4.699999999999999
           ],
           "y": [
            5.699999999999996,
            5.999999999999995,
            -4.699999999999999
           ]
          }
         ]
        },
        {
         "data": [
          {
           "marker": {
            "color": "red",
            "size": 10
           },
           "mode": "markers",
           "type": "scatter",
           "x": [
            6.299999999999994,
            -5.799999999999995,
            -4.799999999999999
           ],
           "y": [
            5.799999999999995,
            6.099999999999994,
            -4.799999999999999
           ]
          }
         ]
        },
        {
         "data": [
          {
           "marker": {
            "color": "red",
            "size": 10
           },
           "mode": "markers",
           "type": "scatter",
           "x": [
            6.399999999999993,
            -5.899999999999995,
            -4.899999999999999
           ],
           "y": [
            5.899999999999995,
            6.199999999999994,
            -4.899999999999999
           ]
          }
         ]
        },
        {
         "data": [
          {
           "marker": {
            "color": "red",
            "size": 10
           },
           "mode": "markers",
           "type": "scatter",
           "x": [
            6.499999999999993,
            -5.999999999999995,
            -4.999999999999998
           ],
           "y": [
            5.999999999999995,
            6.299999999999994,
            -4.999999999999998
           ]
          }
         ]
        },
        {
         "data": [
          {
           "marker": {
            "color": "red",
            "size": 10
           },
           "mode": "markers",
           "type": "scatter",
           "x": [
            6.5999999999999925,
            -6.099999999999994,
            -5.099999999999998
           ],
           "y": [
            6.099999999999994,
            6.399999999999993,
            -5.099999999999998
           ]
          }
         ]
        },
        {
         "data": [
          {
           "marker": {
            "color": "red",
            "size": 10
           },
           "mode": "markers",
           "type": "scatter",
           "x": [
            6.699999999999992,
            -6.199999999999994,
            -5.1999999999999975
           ],
           "y": [
            6.199999999999994,
            6.499999999999993,
            -5.1999999999999975
           ]
          }
         ]
        },
        {
         "data": [
          {
           "marker": {
            "color": "red",
            "size": 10
           },
           "mode": "markers",
           "type": "scatter",
           "x": [
            6.799999999999992,
            -6.299999999999994,
            -5.299999999999997
           ],
           "y": [
            6.299999999999994,
            6.5999999999999925,
            -5.299999999999997
           ]
          }
         ]
        },
        {
         "data": [
          {
           "marker": {
            "color": "red",
            "size": 10
           },
           "mode": "markers",
           "type": "scatter",
           "x": [
            6.8999999999999915,
            -6.399999999999993,
            -5.399999999999997
           ],
           "y": [
            6.399999999999993,
            6.699999999999992,
            -5.399999999999997
           ]
          }
         ]
        },
        {
         "data": [
          {
           "marker": {
            "color": "red",
            "size": 10
           },
           "mode": "markers",
           "type": "scatter",
           "x": [
            6.999999999999991,
            -6.499999999999993,
            -5.4999999999999964
           ],
           "y": [
            6.499999999999993,
            6.799999999999992,
            -5.4999999999999964
           ]
          }
         ]
        },
        {
         "data": [
          {
           "marker": {
            "color": "red",
            "size": 10
           },
           "mode": "markers",
           "type": "scatter",
           "x": [
            7.099999999999991,
            -6.5999999999999925,
            -5.599999999999996
           ],
           "y": [
            6.5999999999999925,
            6.8999999999999915,
            -5.599999999999996
           ]
          }
         ]
        },
        {
         "data": [
          {
           "marker": {
            "color": "red",
            "size": 10
           },
           "mode": "markers",
           "type": "scatter",
           "x": [
            7.19999999999999,
            -6.699999999999992,
            -5.699999999999996
           ],
           "y": [
            6.699999999999992,
            6.999999999999991,
            -5.699999999999996
           ]
          }
         ]
        },
        {
         "data": [
          {
           "marker": {
            "color": "red",
            "size": 10
           },
           "mode": "markers",
           "type": "scatter",
           "x": [
            7.29999999999999,
            -6.799999999999992,
            -5.799999999999995
           ],
           "y": [
            6.799999999999992,
            7.099999999999991,
            -5.799999999999995
           ]
          }
         ]
        },
        {
         "data": [
          {
           "marker": {
            "color": "red",
            "size": 10
           },
           "mode": "markers",
           "type": "scatter",
           "x": [
            7.39999999999999,
            -6.8999999999999915,
            -5.899999999999995
           ],
           "y": [
            6.8999999999999915,
            7.19999999999999,
            -5.899999999999995
           ]
          }
         ]
        },
        {
         "data": [
          {
           "marker": {
            "color": "red",
            "size": 10
           },
           "mode": "markers",
           "type": "scatter",
           "x": [
            7.499999999999989,
            -6.999999999999991,
            -5.999999999999995
           ],
           "y": [
            6.999999999999991,
            7.29999999999999,
            -5.999999999999995
           ]
          }
         ]
        },
        {
         "data": [
          {
           "marker": {
            "color": "red",
            "size": 10
           },
           "mode": "markers",
           "type": "scatter",
           "x": [
            7.599999999999989,
            -7.099999999999991,
            -6.099999999999994
           ],
           "y": [
            7.099999999999991,
            7.39999999999999,
            -6.099999999999994
           ]
          }
         ]
        },
        {
         "data": [
          {
           "marker": {
            "color": "red",
            "size": 10
           },
           "mode": "markers",
           "type": "scatter",
           "x": [
            7.699999999999989,
            -7.19999999999999,
            -6.199999999999994
           ],
           "y": [
            7.19999999999999,
            7.499999999999989,
            -6.199999999999994
           ]
          }
         ]
        },
        {
         "data": [
          {
           "marker": {
            "color": "red",
            "size": 10
           },
           "mode": "markers",
           "type": "scatter",
           "x": [
            7.799999999999988,
            -7.29999999999999,
            -6.299999999999994
           ],
           "y": [
            7.29999999999999,
            7.599999999999989,
            -6.299999999999994
           ]
          }
         ]
        },
        {
         "data": [
          {
           "marker": {
            "color": "red",
            "size": 10
           },
           "mode": "markers",
           "type": "scatter",
           "x": [
            7.899999999999988,
            -7.39999999999999,
            -6.399999999999993
           ],
           "y": [
            7.39999999999999,
            7.699999999999989,
            -6.399999999999993
           ]
          }
         ]
        },
        {
         "data": [
          {
           "marker": {
            "color": "red",
            "size": 10
           },
           "mode": "markers",
           "type": "scatter",
           "x": [
            7.999999999999988,
            -7.499999999999989,
            -6.499999999999993
           ],
           "y": [
            7.499999999999989,
            7.799999999999988,
            -6.499999999999993
           ]
          }
         ]
        },
        {
         "data": [
          {
           "marker": {
            "color": "red",
            "size": 10
           },
           "mode": "markers",
           "type": "scatter",
           "x": [
            8.099999999999987,
            -7.599999999999989,
            -6.5999999999999925
           ],
           "y": [
            7.599999999999989,
            7.899999999999988,
            -6.5999999999999925
           ]
          }
         ]
        },
        {
         "data": [
          {
           "marker": {
            "color": "red",
            "size": 10
           },
           "mode": "markers",
           "type": "scatter",
           "x": [
            8.199999999999987,
            -7.699999999999989,
            -6.699999999999992
           ],
           "y": [
            7.699999999999989,
            7.999999999999988,
            -6.699999999999992
           ]
          }
         ]
        },
        {
         "data": [
          {
           "marker": {
            "color": "red",
            "size": 10
           },
           "mode": "markers",
           "type": "scatter",
           "x": [
            8.299999999999986,
            -7.799999999999988,
            -6.799999999999992
           ],
           "y": [
            7.799999999999988,
            8.099999999999987,
            -6.799999999999992
           ]
          }
         ]
        },
        {
         "data": [
          {
           "marker": {
            "color": "red",
            "size": 10
           },
           "mode": "markers",
           "type": "scatter",
           "x": [
            8.399999999999986,
            -7.899999999999988,
            -6.8999999999999915
           ],
           "y": [
            7.899999999999988,
            8.199999999999987,
            -6.8999999999999915
           ]
          }
         ]
        },
        {
         "data": [
          {
           "marker": {
            "color": "red",
            "size": 10
           },
           "mode": "markers",
           "type": "scatter",
           "x": [
            8.499999999999986,
            -7.999999999999988,
            -6.999999999999991
           ],
           "y": [
            7.999999999999988,
            8.299999999999986,
            -6.999999999999991
           ]
          }
         ]
        },
        {
         "data": [
          {
           "marker": {
            "color": "red",
            "size": 10
           },
           "mode": "markers",
           "type": "scatter",
           "x": [
            8.599999999999985,
            -8.099999999999987,
            -7.099999999999991
           ],
           "y": [
            8.099999999999987,
            8.399999999999986,
            -7.099999999999991
           ]
          }
         ]
        },
        {
         "data": [
          {
           "marker": {
            "color": "red",
            "size": 10
           },
           "mode": "markers",
           "type": "scatter",
           "x": [
            8.699999999999985,
            -8.199999999999987,
            -7.19999999999999
           ],
           "y": [
            8.199999999999987,
            8.499999999999986,
            -7.19999999999999
           ]
          }
         ]
        },
        {
         "data": [
          {
           "marker": {
            "color": "red",
            "size": 10
           },
           "mode": "markers",
           "type": "scatter",
           "x": [
            8.799999999999985,
            -8.299999999999986,
            -7.29999999999999
           ],
           "y": [
            8.299999999999986,
            8.599999999999985,
            -7.29999999999999
           ]
          }
         ]
        },
        {
         "data": [
          {
           "marker": {
            "color": "red",
            "size": 10
           },
           "mode": "markers",
           "type": "scatter",
           "x": [
            8.899999999999984,
            -8.399999999999986,
            -7.39999999999999
           ],
           "y": [
            8.399999999999986,
            8.699999999999985,
            -7.39999999999999
           ]
          }
         ]
        },
        {
         "data": [
          {
           "marker": {
            "color": "red",
            "size": 10
           },
           "mode": "markers",
           "type": "scatter",
           "x": [
            8.999999999999984,
            -8.499999999999986,
            -7.499999999999989
           ],
           "y": [
            8.499999999999986,
            8.799999999999985,
            -7.499999999999989
           ]
          }
         ]
        },
        {
         "data": [
          {
           "marker": {
            "color": "red",
            "size": 10
           },
           "mode": "markers",
           "type": "scatter",
           "x": [
            9.099999999999984,
            -8.599999999999985,
            -7.599999999999989
           ],
           "y": [
            8.599999999999985,
            8.899999999999984,
            -7.599999999999989
           ]
          }
         ]
        },
        {
         "data": [
          {
           "marker": {
            "color": "red",
            "size": 10
           },
           "mode": "markers",
           "type": "scatter",
           "x": [
            9.199999999999983,
            -8.699999999999985,
            -7.699999999999989
           ],
           "y": [
            8.699999999999985,
            8.999999999999984,
            -7.699999999999989
           ]
          }
         ]
        },
        {
         "data": [
          {
           "marker": {
            "color": "red",
            "size": 10
           },
           "mode": "markers",
           "type": "scatter",
           "x": [
            9.299999999999983,
            -8.799999999999985,
            -7.799999999999988
           ],
           "y": [
            8.799999999999985,
            9.099999999999984,
            -7.799999999999988
           ]
          }
         ]
        },
        {
         "data": [
          {
           "marker": {
            "color": "red",
            "size": 10
           },
           "mode": "markers",
           "type": "scatter",
           "x": [
            9.399999999999983,
            -8.899999999999984,
            -7.899999999999988
           ],
           "y": [
            8.899999999999984,
            9.199999999999983,
            -7.899999999999988
           ]
          }
         ]
        },
        {
         "data": [
          {
           "marker": {
            "color": "red",
            "size": 10
           },
           "mode": "markers",
           "type": "scatter",
           "x": [
            9.499999999999982,
            -8.999999999999984,
            -7.999999999999988
           ],
           "y": [
            8.999999999999984,
            9.299999999999983,
            -7.999999999999988
           ]
          }
         ]
        },
        {
         "data": [
          {
           "marker": {
            "color": "red",
            "size": 10
           },
           "mode": "markers",
           "type": "scatter",
           "x": [
            9.599999999999982,
            -9.099999999999984,
            -8.099999999999987
           ],
           "y": [
            9.099999999999984,
            9.399999999999983,
            -8.099999999999987
           ]
          }
         ]
        },
        {
         "data": [
          {
           "marker": {
            "color": "red",
            "size": 10
           },
           "mode": "markers",
           "type": "scatter",
           "x": [
            9.699999999999982,
            -9.199999999999983,
            -8.199999999999987
           ],
           "y": [
            9.199999999999983,
            9.499999999999982,
            -8.199999999999987
           ]
          }
         ]
        },
        {
         "data": [
          {
           "marker": {
            "color": "red",
            "size": 10
           },
           "mode": "markers",
           "type": "scatter",
           "x": [
            9.799999999999981,
            -9.299999999999983,
            -8.299999999999986
           ],
           "y": [
            9.299999999999983,
            9.599999999999982,
            -8.299999999999986
           ]
          }
         ]
        },
        {
         "data": [
          {
           "marker": {
            "color": "red",
            "size": 10
           },
           "mode": "markers",
           "type": "scatter",
           "x": [
            9.89999999999998,
            -9.399999999999983,
            -8.399999999999986
           ],
           "y": [
            9.399999999999983,
            9.699999999999982,
            -8.399999999999986
           ]
          }
         ]
        },
        {
         "data": [
          {
           "marker": {
            "color": "red",
            "size": 10
           },
           "mode": "markers",
           "type": "scatter",
           "x": [
            9.99999999999998,
            -9.499999999999982,
            -8.499999999999986
           ],
           "y": [
            9.499999999999982,
            9.799999999999981,
            -8.499999999999986
           ]
          }
         ]
        },
        {
         "data": [
          {
           "marker": {
            "color": "red",
            "size": 10
           },
           "mode": "markers",
           "type": "scatter",
           "x": [
            10.09999999999998,
            -9.599999999999982,
            -8.599999999999985
           ],
           "y": [
            9.599999999999982,
            9.89999999999998,
            -8.599999999999985
           ]
          }
         ]
        },
        {
         "data": [
          {
           "marker": {
            "color": "red",
            "size": 10
           },
           "mode": "markers",
           "type": "scatter",
           "x": [
            10.19999999999998,
            -9.699999999999982,
            -8.699999999999985
           ],
           "y": [
            9.699999999999982,
            9.99999999999998,
            -8.699999999999985
           ]
          }
         ]
        },
        {
         "data": [
          {
           "marker": {
            "color": "red",
            "size": 10
           },
           "mode": "markers",
           "type": "scatter",
           "x": [
            10.29999999999998,
            -9.799999999999981,
            -8.799999999999985
           ],
           "y": [
            9.799999999999981,
            10.09999999999998,
            -8.799999999999985
           ]
          }
         ]
        },
        {
         "data": [
          {
           "marker": {
            "color": "red",
            "size": 10
           },
           "mode": "markers",
           "type": "scatter",
           "x": [
            10.399999999999979,
            -9.89999999999998,
            -8.899999999999984
           ],
           "y": [
            9.89999999999998,
            10.19999999999998,
            -8.899999999999984
           ]
          }
         ]
        }
       ],
       "layout": {
        "hovermode": "closest",
        "title": {
         "text": "Kinematic Generation"
        },
        "xaxis": {
         "autorange": false,
         "range": [
          -10,
          10
         ],
         "zeroline": false
        },
        "yaxis": {
         "autorange": false,
         "range": [
          -10,
          10
         ],
         "zeroline": false
        }
       }
      },
      "text/html": [
       "<div id=\"34e4af5a-7a3e-4135-8be6-3d97efe0f86a\" style=\"height: 525px; width: 100%;\" class=\"plotly-graph-div\"></div><script type=\"text/javascript\">require([\"plotly\"], function(Plotly) { window.PLOTLYENV=window.PLOTLYENV || {};window.PLOTLYENV.BASE_URL=\"https://plot.ly\";\n",
       "        Plotly.plot(\n",
       "            '34e4af5a-7a3e-4135-8be6-3d97efe0f86a',\n",
       "            [{\"line\": {\"color\": \"blue\", \"width\": 2}, \"mode\": \"markers\", \"x\": [0.5, 0.0, 1], \"y\": [0.0, 0.3, 1], \"type\": \"scatter\", \"uid\": \"16adb3b5-5d83-4451-ac3c-d9882ecb3753\"}],\n",
       "            {\"hovermode\": \"closest\", \"title\": {\"text\": \"Kinematic Generation\"}, \"xaxis\": {\"autorange\": false, \"range\": [-10, 10], \"zeroline\": false}, \"yaxis\": {\"autorange\": false, \"range\": [-10, 10], \"zeroline\": false}},\n",
       "            {\"showLink\": false, \"linkText\": \"Export to plot.ly\", \"plotlyServerURL\": \"https://plot.ly\"}\n",
       "        ).then(function () {return Plotly.addFrames('34e4af5a-7a3e-4135-8be6-3d97efe0f86a',[{\"data\": [{\"marker\": {\"color\": \"red\", \"size\": 10}, \"mode\": \"markers\", \"x\": [0.5, 0.0, 1], \"y\": [0.0, 0.3, 1], \"type\": \"scatter\"}]}, {\"data\": [{\"marker\": {\"color\": \"red\", \"size\": 10}, \"mode\": \"markers\", \"x\": [0.6, -0.1, 0.9], \"y\": [0.1, 0.4, 0.9], \"type\": \"scatter\"}]}, {\"data\": [{\"marker\": {\"color\": \"red\", \"size\": 10}, \"mode\": \"markers\", \"x\": [0.7, -0.2, 0.8], \"y\": [0.2, 0.5, 0.8], \"type\": \"scatter\"}]}, {\"data\": [{\"marker\": {\"color\": \"red\", \"size\": 10}, \"mode\": \"markers\", \"x\": [0.7999999999999999, -0.30000000000000004, 0.7000000000000001], \"y\": [0.30000000000000004, 0.6, 0.7000000000000001], \"type\": \"scatter\"}]}, {\"data\": [{\"marker\": {\"color\": \"red\", \"size\": 10}, \"mode\": \"markers\", \"x\": [0.8999999999999999, -0.4, 0.6000000000000001], \"y\": [0.4, 0.7, 0.6000000000000001], \"type\": \"scatter\"}]}, {\"data\": [{\"marker\": {\"color\": \"red\", \"size\": 10}, \"mode\": \"markers\", \"x\": [0.9999999999999999, -0.5, 0.5000000000000001], \"y\": [0.5, 0.7999999999999999, 0.5000000000000001], \"type\": \"scatter\"}]}, {\"data\": [{\"marker\": {\"color\": \"red\", \"size\": 10}, \"mode\": \"markers\", \"x\": [1.0999999999999999, -0.6, 0.40000000000000013], \"y\": [0.6, 0.8999999999999999, 0.40000000000000013], \"type\": \"scatter\"}]}, {\"data\": [{\"marker\": {\"color\": \"red\", \"size\": 10}, \"mode\": \"markers\", \"x\": [1.2, -0.7, 0.30000000000000016], \"y\": [0.7, 0.9999999999999999, 0.30000000000000016], \"type\": \"scatter\"}]}, {\"data\": [{\"marker\": {\"color\": \"red\", \"size\": 10}, \"mode\": \"markers\", \"x\": [1.3, -0.7999999999999999, 0.20000000000000015], \"y\": [0.7999999999999999, 1.0999999999999999, 0.20000000000000015], \"type\": \"scatter\"}]}, {\"data\": [{\"marker\": {\"color\": \"red\", \"size\": 10}, \"mode\": \"markers\", \"x\": [1.4000000000000001, -0.8999999999999999, 0.10000000000000014], \"y\": [0.8999999999999999, 1.2, 0.10000000000000014], \"type\": \"scatter\"}]}, {\"data\": [{\"marker\": {\"color\": \"red\", \"size\": 10}, \"mode\": \"markers\", \"x\": [1.5000000000000002, -0.9999999999999999, 1.3877787807814457e-16], \"y\": [0.9999999999999999, 1.3, 1.3877787807814457e-16], \"type\": \"scatter\"}]}, {\"data\": [{\"marker\": {\"color\": \"red\", \"size\": 10}, \"mode\": \"markers\", \"x\": [1.6000000000000003, -1.0999999999999999, -0.09999999999999987], \"y\": [1.0999999999999999, 1.4000000000000001, -0.09999999999999987], \"type\": \"scatter\"}]}, {\"data\": [{\"marker\": {\"color\": \"red\", \"size\": 10}, \"mode\": \"markers\", \"x\": [1.7000000000000004, -1.2, -0.19999999999999987], \"y\": [1.2, 1.5000000000000002, -0.19999999999999987], \"type\": \"scatter\"}]}, {\"data\": [{\"marker\": {\"color\": \"red\", \"size\": 10}, \"mode\": \"markers\", \"x\": [1.8000000000000005, -1.3, -0.2999999999999999], \"y\": [1.3, 1.6000000000000003, -0.2999999999999999], \"type\": \"scatter\"}]}, {\"data\": [{\"marker\": {\"color\": \"red\", \"size\": 10}, \"mode\": \"markers\", \"x\": [1.9000000000000006, -1.4000000000000001, -0.3999999999999999], \"y\": [1.4000000000000001, 1.7000000000000004, -0.3999999999999999], \"type\": \"scatter\"}]}, {\"data\": [{\"marker\": {\"color\": \"red\", \"size\": 10}, \"mode\": \"markers\", \"x\": [2.0000000000000004, -1.5000000000000002, -0.4999999999999999], \"y\": [1.5000000000000002, 1.8000000000000005, -0.4999999999999999], \"type\": \"scatter\"}]}, {\"data\": [{\"marker\": {\"color\": \"red\", \"size\": 10}, \"mode\": \"markers\", \"x\": [2.1000000000000005, -1.6000000000000003, -0.5999999999999999], \"y\": [1.6000000000000003, 1.9000000000000006, -0.5999999999999999], \"type\": \"scatter\"}]}, {\"data\": [{\"marker\": {\"color\": \"red\", \"size\": 10}, \"mode\": \"markers\", \"x\": [2.2000000000000006, -1.7000000000000004, -0.6999999999999998], \"y\": [1.7000000000000004, 2.0000000000000004, -0.6999999999999998], \"type\": \"scatter\"}]}, {\"data\": [{\"marker\": {\"color\": \"red\", \"size\": 10}, \"mode\": \"markers\", \"x\": [2.3000000000000007, -1.8000000000000005, -0.7999999999999998], \"y\": [1.8000000000000005, 2.1000000000000005, -0.7999999999999998], \"type\": \"scatter\"}]}, {\"data\": [{\"marker\": {\"color\": \"red\", \"size\": 10}, \"mode\": \"markers\", \"x\": [2.400000000000001, -1.9000000000000006, -0.8999999999999998], \"y\": [1.9000000000000006, 2.2000000000000006, -0.8999999999999998], \"type\": \"scatter\"}]}, {\"data\": [{\"marker\": {\"color\": \"red\", \"size\": 10}, \"mode\": \"markers\", \"x\": [2.500000000000001, -2.0000000000000004, -0.9999999999999998], \"y\": [2.0000000000000004, 2.3000000000000007, -0.9999999999999998], \"type\": \"scatter\"}]}, {\"data\": [{\"marker\": {\"color\": \"red\", \"size\": 10}, \"mode\": \"markers\", \"x\": [2.600000000000001, -2.1000000000000005, -1.0999999999999999], \"y\": [2.1000000000000005, 2.400000000000001, -1.0999999999999999], \"type\": \"scatter\"}]}, {\"data\": [{\"marker\": {\"color\": \"red\", \"size\": 10}, \"mode\": \"markers\", \"x\": [2.700000000000001, -2.2000000000000006, -1.2], \"y\": [2.2000000000000006, 2.500000000000001, -1.2], \"type\": \"scatter\"}]}, {\"data\": [{\"marker\": {\"color\": \"red\", \"size\": 10}, \"mode\": \"markers\", \"x\": [2.800000000000001, -2.3000000000000007, -1.3], \"y\": [2.3000000000000007, 2.600000000000001, -1.3], \"type\": \"scatter\"}]}, {\"data\": [{\"marker\": {\"color\": \"red\", \"size\": 10}, \"mode\": \"markers\", \"x\": [2.9000000000000012, -2.400000000000001, -1.4000000000000001], \"y\": [2.400000000000001, 2.700000000000001, -1.4000000000000001], \"type\": \"scatter\"}]}, {\"data\": [{\"marker\": {\"color\": \"red\", \"size\": 10}, \"mode\": \"markers\", \"x\": [3.0000000000000013, -2.500000000000001, -1.5000000000000002], \"y\": [2.500000000000001, 2.800000000000001, -1.5000000000000002], \"type\": \"scatter\"}]}, {\"data\": [{\"marker\": {\"color\": \"red\", \"size\": 10}, \"mode\": \"markers\", \"x\": [3.1000000000000014, -2.600000000000001, -1.6000000000000003], \"y\": [2.600000000000001, 2.9000000000000012, -1.6000000000000003], \"type\": \"scatter\"}]}, {\"data\": [{\"marker\": {\"color\": \"red\", \"size\": 10}, \"mode\": \"markers\", \"x\": [3.2000000000000015, -2.700000000000001, -1.7000000000000004], \"y\": [2.700000000000001, 3.0000000000000013, -1.7000000000000004], \"type\": \"scatter\"}]}, {\"data\": [{\"marker\": {\"color\": \"red\", \"size\": 10}, \"mode\": \"markers\", \"x\": [3.3000000000000016, -2.800000000000001, -1.8000000000000005], \"y\": [2.800000000000001, 3.1000000000000014, -1.8000000000000005], \"type\": \"scatter\"}]}, {\"data\": [{\"marker\": {\"color\": \"red\", \"size\": 10}, \"mode\": \"markers\", \"x\": [3.4000000000000017, -2.9000000000000012, -1.9000000000000006], \"y\": [2.9000000000000012, 3.2000000000000015, -1.9000000000000006], \"type\": \"scatter\"}]}, {\"data\": [{\"marker\": {\"color\": \"red\", \"size\": 10}, \"mode\": \"markers\", \"x\": [3.5000000000000018, -3.0000000000000013, -2.0000000000000004], \"y\": [3.0000000000000013, 3.3000000000000016, -2.0000000000000004], \"type\": \"scatter\"}]}, {\"data\": [{\"marker\": {\"color\": \"red\", \"size\": 10}, \"mode\": \"markers\", \"x\": [3.600000000000002, -3.1000000000000014, -2.1000000000000005], \"y\": [3.1000000000000014, 3.4000000000000017, -2.1000000000000005], \"type\": \"scatter\"}]}, {\"data\": [{\"marker\": {\"color\": \"red\", \"size\": 10}, \"mode\": \"markers\", \"x\": [3.700000000000002, -3.2000000000000015, -2.2000000000000006], \"y\": [3.2000000000000015, 3.5000000000000018, -2.2000000000000006], \"type\": \"scatter\"}]}, {\"data\": [{\"marker\": {\"color\": \"red\", \"size\": 10}, \"mode\": \"markers\", \"x\": [3.800000000000002, -3.3000000000000016, -2.3000000000000007], \"y\": [3.3000000000000016, 3.600000000000002, -2.3000000000000007], \"type\": \"scatter\"}]}, {\"data\": [{\"marker\": {\"color\": \"red\", \"size\": 10}, \"mode\": \"markers\", \"x\": [3.900000000000002, -3.4000000000000017, -2.400000000000001], \"y\": [3.4000000000000017, 3.700000000000002, -2.400000000000001], \"type\": \"scatter\"}]}, {\"data\": [{\"marker\": {\"color\": \"red\", \"size\": 10}, \"mode\": \"markers\", \"x\": [4.000000000000002, -3.5000000000000018, -2.500000000000001], \"y\": [3.5000000000000018, 3.800000000000002, -2.500000000000001], \"type\": \"scatter\"}]}, {\"data\": [{\"marker\": {\"color\": \"red\", \"size\": 10}, \"mode\": \"markers\", \"x\": [4.100000000000001, -3.600000000000002, -2.600000000000001], \"y\": [3.600000000000002, 3.900000000000002, -2.600000000000001], \"type\": \"scatter\"}]}, {\"data\": [{\"marker\": {\"color\": \"red\", \"size\": 10}, \"mode\": \"markers\", \"x\": [4.200000000000001, -3.700000000000002, -2.700000000000001], \"y\": [3.700000000000002, 4.000000000000002, -2.700000000000001], \"type\": \"scatter\"}]}, {\"data\": [{\"marker\": {\"color\": \"red\", \"size\": 10}, \"mode\": \"markers\", \"x\": [4.300000000000001, -3.800000000000002, -2.800000000000001], \"y\": [3.800000000000002, 4.100000000000001, -2.800000000000001], \"type\": \"scatter\"}]}, {\"data\": [{\"marker\": {\"color\": \"red\", \"size\": 10}, \"mode\": \"markers\", \"x\": [4.4, -3.900000000000002, -2.9000000000000012], \"y\": [3.900000000000002, 4.200000000000001, -2.9000000000000012], \"type\": \"scatter\"}]}, {\"data\": [{\"marker\": {\"color\": \"red\", \"size\": 10}, \"mode\": \"markers\", \"x\": [4.5, -4.000000000000002, -3.0000000000000013], \"y\": [4.000000000000002, 4.300000000000001, -3.0000000000000013], \"type\": \"scatter\"}]}, {\"data\": [{\"marker\": {\"color\": \"red\", \"size\": 10}, \"mode\": \"markers\", \"x\": [4.6, -4.100000000000001, -3.1000000000000014], \"y\": [4.100000000000001, 4.4, -3.1000000000000014], \"type\": \"scatter\"}]}, {\"data\": [{\"marker\": {\"color\": \"red\", \"size\": 10}, \"mode\": \"markers\", \"x\": [4.699999999999999, -4.200000000000001, -3.2000000000000015], \"y\": [4.200000000000001, 4.5, -3.2000000000000015], \"type\": \"scatter\"}]}, {\"data\": [{\"marker\": {\"color\": \"red\", \"size\": 10}, \"mode\": \"markers\", \"x\": [4.799999999999999, -4.300000000000001, -3.3000000000000016], \"y\": [4.300000000000001, 4.6, -3.3000000000000016], \"type\": \"scatter\"}]}, {\"data\": [{\"marker\": {\"color\": \"red\", \"size\": 10}, \"mode\": \"markers\", \"x\": [4.899999999999999, -4.4, -3.4000000000000017], \"y\": [4.4, 4.699999999999999, -3.4000000000000017], \"type\": \"scatter\"}]}, {\"data\": [{\"marker\": {\"color\": \"red\", \"size\": 10}, \"mode\": \"markers\", \"x\": [4.999999999999998, -4.5, -3.5000000000000018], \"y\": [4.5, 4.799999999999999, -3.5000000000000018], \"type\": \"scatter\"}]}, {\"data\": [{\"marker\": {\"color\": \"red\", \"size\": 10}, \"mode\": \"markers\", \"x\": [5.099999999999998, -4.6, -3.600000000000002], \"y\": [4.6, 4.899999999999999, -3.600000000000002], \"type\": \"scatter\"}]}, {\"data\": [{\"marker\": {\"color\": \"red\", \"size\": 10}, \"mode\": \"markers\", \"x\": [5.1999999999999975, -4.699999999999999, -3.700000000000002], \"y\": [4.699999999999999, 4.999999999999998, -3.700000000000002], \"type\": \"scatter\"}]}, {\"data\": [{\"marker\": {\"color\": \"red\", \"size\": 10}, \"mode\": \"markers\", \"x\": [5.299999999999997, -4.799999999999999, -3.800000000000002], \"y\": [4.799999999999999, 5.099999999999998, -3.800000000000002], \"type\": \"scatter\"}]}, {\"data\": [{\"marker\": {\"color\": \"red\", \"size\": 10}, \"mode\": \"markers\", \"x\": [5.399999999999997, -4.899999999999999, -3.900000000000002], \"y\": [4.899999999999999, 5.1999999999999975, -3.900000000000002], \"type\": \"scatter\"}]}, {\"data\": [{\"marker\": {\"color\": \"red\", \"size\": 10}, \"mode\": \"markers\", \"x\": [5.4999999999999964, -4.999999999999998, -4.000000000000002], \"y\": [4.999999999999998, 5.299999999999997, -4.000000000000002], \"type\": \"scatter\"}]}, {\"data\": [{\"marker\": {\"color\": \"red\", \"size\": 10}, \"mode\": \"markers\", \"x\": [5.599999999999996, -5.099999999999998, -4.100000000000001], \"y\": [5.099999999999998, 5.399999999999997, -4.100000000000001], \"type\": \"scatter\"}]}, {\"data\": [{\"marker\": {\"color\": \"red\", \"size\": 10}, \"mode\": \"markers\", \"x\": [5.699999999999996, -5.1999999999999975, -4.200000000000001], \"y\": [5.1999999999999975, 5.4999999999999964, -4.200000000000001], \"type\": \"scatter\"}]}, {\"data\": [{\"marker\": {\"color\": \"red\", \"size\": 10}, \"mode\": \"markers\", \"x\": [5.799999999999995, -5.299999999999997, -4.300000000000001], \"y\": [5.299999999999997, 5.599999999999996, -4.300000000000001], \"type\": \"scatter\"}]}, {\"data\": [{\"marker\": {\"color\": \"red\", \"size\": 10}, \"mode\": \"markers\", \"x\": [5.899999999999995, -5.399999999999997, -4.4], \"y\": [5.399999999999997, 5.699999999999996, -4.4], \"type\": \"scatter\"}]}, {\"data\": [{\"marker\": {\"color\": \"red\", \"size\": 10}, \"mode\": \"markers\", \"x\": [5.999999999999995, -5.4999999999999964, -4.5], \"y\": [5.4999999999999964, 5.799999999999995, -4.5], \"type\": \"scatter\"}]}, {\"data\": [{\"marker\": {\"color\": \"red\", \"size\": 10}, \"mode\": \"markers\", \"x\": [6.099999999999994, -5.599999999999996, -4.6], \"y\": [5.599999999999996, 5.899999999999995, -4.6], \"type\": \"scatter\"}]}, {\"data\": [{\"marker\": {\"color\": \"red\", \"size\": 10}, \"mode\": \"markers\", \"x\": [6.199999999999994, -5.699999999999996, -4.699999999999999], \"y\": [5.699999999999996, 5.999999999999995, -4.699999999999999], \"type\": \"scatter\"}]}, {\"data\": [{\"marker\": {\"color\": \"red\", \"size\": 10}, \"mode\": \"markers\", \"x\": [6.299999999999994, -5.799999999999995, -4.799999999999999], \"y\": [5.799999999999995, 6.099999999999994, -4.799999999999999], \"type\": \"scatter\"}]}, {\"data\": [{\"marker\": {\"color\": \"red\", \"size\": 10}, \"mode\": \"markers\", \"x\": [6.399999999999993, -5.899999999999995, -4.899999999999999], \"y\": [5.899999999999995, 6.199999999999994, -4.899999999999999], \"type\": \"scatter\"}]}, {\"data\": [{\"marker\": {\"color\": \"red\", \"size\": 10}, \"mode\": \"markers\", \"x\": [6.499999999999993, -5.999999999999995, -4.999999999999998], \"y\": [5.999999999999995, 6.299999999999994, -4.999999999999998], \"type\": \"scatter\"}]}, {\"data\": [{\"marker\": {\"color\": \"red\", \"size\": 10}, \"mode\": \"markers\", \"x\": [6.5999999999999925, -6.099999999999994, -5.099999999999998], \"y\": [6.099999999999994, 6.399999999999993, -5.099999999999998], \"type\": \"scatter\"}]}, {\"data\": [{\"marker\": {\"color\": \"red\", \"size\": 10}, \"mode\": \"markers\", \"x\": [6.699999999999992, -6.199999999999994, -5.1999999999999975], \"y\": [6.199999999999994, 6.499999999999993, -5.1999999999999975], \"type\": \"scatter\"}]}, {\"data\": [{\"marker\": {\"color\": \"red\", \"size\": 10}, \"mode\": \"markers\", \"x\": [6.799999999999992, -6.299999999999994, -5.299999999999997], \"y\": [6.299999999999994, 6.5999999999999925, -5.299999999999997], \"type\": \"scatter\"}]}, {\"data\": [{\"marker\": {\"color\": \"red\", \"size\": 10}, \"mode\": \"markers\", \"x\": [6.8999999999999915, -6.399999999999993, -5.399999999999997], \"y\": [6.399999999999993, 6.699999999999992, -5.399999999999997], \"type\": \"scatter\"}]}, {\"data\": [{\"marker\": {\"color\": \"red\", \"size\": 10}, \"mode\": \"markers\", \"x\": [6.999999999999991, -6.499999999999993, -5.4999999999999964], \"y\": [6.499999999999993, 6.799999999999992, -5.4999999999999964], \"type\": \"scatter\"}]}, {\"data\": [{\"marker\": {\"color\": \"red\", \"size\": 10}, \"mode\": \"markers\", \"x\": [7.099999999999991, -6.5999999999999925, -5.599999999999996], \"y\": [6.5999999999999925, 6.8999999999999915, -5.599999999999996], \"type\": \"scatter\"}]}, {\"data\": [{\"marker\": {\"color\": \"red\", \"size\": 10}, \"mode\": \"markers\", \"x\": [7.19999999999999, -6.699999999999992, -5.699999999999996], \"y\": [6.699999999999992, 6.999999999999991, -5.699999999999996], \"type\": \"scatter\"}]}, {\"data\": [{\"marker\": {\"color\": \"red\", \"size\": 10}, \"mode\": \"markers\", \"x\": [7.29999999999999, -6.799999999999992, -5.799999999999995], \"y\": [6.799999999999992, 7.099999999999991, -5.799999999999995], \"type\": \"scatter\"}]}, {\"data\": [{\"marker\": {\"color\": \"red\", \"size\": 10}, \"mode\": \"markers\", \"x\": [7.39999999999999, -6.8999999999999915, -5.899999999999995], \"y\": [6.8999999999999915, 7.19999999999999, -5.899999999999995], \"type\": \"scatter\"}]}, {\"data\": [{\"marker\": {\"color\": \"red\", \"size\": 10}, \"mode\": \"markers\", \"x\": [7.499999999999989, -6.999999999999991, -5.999999999999995], \"y\": [6.999999999999991, 7.29999999999999, -5.999999999999995], \"type\": \"scatter\"}]}, {\"data\": [{\"marker\": {\"color\": \"red\", \"size\": 10}, \"mode\": \"markers\", \"x\": [7.599999999999989, -7.099999999999991, -6.099999999999994], \"y\": [7.099999999999991, 7.39999999999999, -6.099999999999994], \"type\": \"scatter\"}]}, {\"data\": [{\"marker\": {\"color\": \"red\", \"size\": 10}, \"mode\": \"markers\", \"x\": [7.699999999999989, -7.19999999999999, -6.199999999999994], \"y\": [7.19999999999999, 7.499999999999989, -6.199999999999994], \"type\": \"scatter\"}]}, {\"data\": [{\"marker\": {\"color\": \"red\", \"size\": 10}, \"mode\": \"markers\", \"x\": [7.799999999999988, -7.29999999999999, -6.299999999999994], \"y\": [7.29999999999999, 7.599999999999989, -6.299999999999994], \"type\": \"scatter\"}]}, {\"data\": [{\"marker\": {\"color\": \"red\", \"size\": 10}, \"mode\": \"markers\", \"x\": [7.899999999999988, -7.39999999999999, -6.399999999999993], \"y\": [7.39999999999999, 7.699999999999989, -6.399999999999993], \"type\": \"scatter\"}]}, {\"data\": [{\"marker\": {\"color\": \"red\", \"size\": 10}, \"mode\": \"markers\", \"x\": [7.999999999999988, -7.499999999999989, -6.499999999999993], \"y\": [7.499999999999989, 7.799999999999988, -6.499999999999993], \"type\": \"scatter\"}]}, {\"data\": [{\"marker\": {\"color\": \"red\", \"size\": 10}, \"mode\": \"markers\", \"x\": [8.099999999999987, -7.599999999999989, -6.5999999999999925], \"y\": [7.599999999999989, 7.899999999999988, -6.5999999999999925], \"type\": \"scatter\"}]}, {\"data\": [{\"marker\": {\"color\": \"red\", \"size\": 10}, \"mode\": \"markers\", \"x\": [8.199999999999987, -7.699999999999989, -6.699999999999992], \"y\": [7.699999999999989, 7.999999999999988, -6.699999999999992], \"type\": \"scatter\"}]}, {\"data\": [{\"marker\": {\"color\": \"red\", \"size\": 10}, \"mode\": \"markers\", \"x\": [8.299999999999986, -7.799999999999988, -6.799999999999992], \"y\": [7.799999999999988, 8.099999999999987, -6.799999999999992], \"type\": \"scatter\"}]}, {\"data\": [{\"marker\": {\"color\": \"red\", \"size\": 10}, \"mode\": \"markers\", \"x\": [8.399999999999986, -7.899999999999988, -6.8999999999999915], \"y\": [7.899999999999988, 8.199999999999987, -6.8999999999999915], \"type\": \"scatter\"}]}, {\"data\": [{\"marker\": {\"color\": \"red\", \"size\": 10}, \"mode\": \"markers\", \"x\": [8.499999999999986, -7.999999999999988, -6.999999999999991], \"y\": [7.999999999999988, 8.299999999999986, -6.999999999999991], \"type\": \"scatter\"}]}, {\"data\": [{\"marker\": {\"color\": \"red\", \"size\": 10}, \"mode\": \"markers\", \"x\": [8.599999999999985, -8.099999999999987, -7.099999999999991], \"y\": [8.099999999999987, 8.399999999999986, -7.099999999999991], \"type\": \"scatter\"}]}, {\"data\": [{\"marker\": {\"color\": \"red\", \"size\": 10}, \"mode\": \"markers\", \"x\": [8.699999999999985, -8.199999999999987, -7.19999999999999], \"y\": [8.199999999999987, 8.499999999999986, -7.19999999999999], \"type\": \"scatter\"}]}, {\"data\": [{\"marker\": {\"color\": \"red\", \"size\": 10}, \"mode\": \"markers\", \"x\": [8.799999999999985, -8.299999999999986, -7.29999999999999], \"y\": [8.299999999999986, 8.599999999999985, -7.29999999999999], \"type\": \"scatter\"}]}, {\"data\": [{\"marker\": {\"color\": \"red\", \"size\": 10}, \"mode\": \"markers\", \"x\": [8.899999999999984, -8.399999999999986, -7.39999999999999], \"y\": [8.399999999999986, 8.699999999999985, -7.39999999999999], \"type\": \"scatter\"}]}, {\"data\": [{\"marker\": {\"color\": \"red\", \"size\": 10}, \"mode\": \"markers\", \"x\": [8.999999999999984, -8.499999999999986, -7.499999999999989], \"y\": [8.499999999999986, 8.799999999999985, -7.499999999999989], \"type\": \"scatter\"}]}, {\"data\": [{\"marker\": {\"color\": \"red\", \"size\": 10}, \"mode\": \"markers\", \"x\": [9.099999999999984, -8.599999999999985, -7.599999999999989], \"y\": [8.599999999999985, 8.899999999999984, -7.599999999999989], \"type\": \"scatter\"}]}, {\"data\": [{\"marker\": {\"color\": \"red\", \"size\": 10}, \"mode\": \"markers\", \"x\": [9.199999999999983, -8.699999999999985, -7.699999999999989], \"y\": [8.699999999999985, 8.999999999999984, -7.699999999999989], \"type\": \"scatter\"}]}, {\"data\": [{\"marker\": {\"color\": \"red\", \"size\": 10}, \"mode\": \"markers\", \"x\": [9.299999999999983, -8.799999999999985, -7.799999999999988], \"y\": [8.799999999999985, 9.099999999999984, -7.799999999999988], \"type\": \"scatter\"}]}, {\"data\": [{\"marker\": {\"color\": \"red\", \"size\": 10}, \"mode\": \"markers\", \"x\": [9.399999999999983, -8.899999999999984, -7.899999999999988], \"y\": [8.899999999999984, 9.199999999999983, -7.899999999999988], \"type\": \"scatter\"}]}, {\"data\": [{\"marker\": {\"color\": \"red\", \"size\": 10}, \"mode\": \"markers\", \"x\": [9.499999999999982, -8.999999999999984, -7.999999999999988], \"y\": [8.999999999999984, 9.299999999999983, -7.999999999999988], \"type\": \"scatter\"}]}, {\"data\": [{\"marker\": {\"color\": \"red\", \"size\": 10}, \"mode\": \"markers\", \"x\": [9.599999999999982, -9.099999999999984, -8.099999999999987], \"y\": [9.099999999999984, 9.399999999999983, -8.099999999999987], \"type\": \"scatter\"}]}, {\"data\": [{\"marker\": {\"color\": \"red\", \"size\": 10}, \"mode\": \"markers\", \"x\": [9.699999999999982, -9.199999999999983, -8.199999999999987], \"y\": [9.199999999999983, 9.499999999999982, -8.199999999999987], \"type\": \"scatter\"}]}, {\"data\": [{\"marker\": {\"color\": \"red\", \"size\": 10}, \"mode\": \"markers\", \"x\": [9.799999999999981, -9.299999999999983, -8.299999999999986], \"y\": [9.299999999999983, 9.599999999999982, -8.299999999999986], \"type\": \"scatter\"}]}, {\"data\": [{\"marker\": {\"color\": \"red\", \"size\": 10}, \"mode\": \"markers\", \"x\": [9.89999999999998, -9.399999999999983, -8.399999999999986], \"y\": [9.399999999999983, 9.699999999999982, -8.399999999999986], \"type\": \"scatter\"}]}, {\"data\": [{\"marker\": {\"color\": \"red\", \"size\": 10}, \"mode\": \"markers\", \"x\": [9.99999999999998, -9.499999999999982, -8.499999999999986], \"y\": [9.499999999999982, 9.799999999999981, -8.499999999999986], \"type\": \"scatter\"}]}, {\"data\": [{\"marker\": {\"color\": \"red\", \"size\": 10}, \"mode\": \"markers\", \"x\": [10.09999999999998, -9.599999999999982, -8.599999999999985], \"y\": [9.599999999999982, 9.89999999999998, -8.599999999999985], \"type\": \"scatter\"}]}, {\"data\": [{\"marker\": {\"color\": \"red\", \"size\": 10}, \"mode\": \"markers\", \"x\": [10.19999999999998, -9.699999999999982, -8.699999999999985], \"y\": [9.699999999999982, 9.99999999999998, -8.699999999999985], \"type\": \"scatter\"}]}, {\"data\": [{\"marker\": {\"color\": \"red\", \"size\": 10}, \"mode\": \"markers\", \"x\": [10.29999999999998, -9.799999999999981, -8.799999999999985], \"y\": [9.799999999999981, 10.09999999999998, -8.799999999999985], \"type\": \"scatter\"}]}, {\"data\": [{\"marker\": {\"color\": \"red\", \"size\": 10}, \"mode\": \"markers\", \"x\": [10.399999999999979, -9.89999999999998, -8.899999999999984], \"y\": [9.89999999999998, 10.19999999999998, -8.899999999999984], \"type\": \"scatter\"}]}]);}).then(function(){Plotly.animate('34e4af5a-7a3e-4135-8be6-3d97efe0f86a');})\n",
       "        });</script><script type=\"text/javascript\">window.addEventListener(\"resize\", function(){window._Plotly.Plots.resize(document.getElementById(\"34e4af5a-7a3e-4135-8be6-3d97efe0f86a\"));});</script>"
      ],
      "text/vnd.plotly.v1+html": [
       "<div id=\"34e4af5a-7a3e-4135-8be6-3d97efe0f86a\" style=\"height: 525px; width: 100%;\" class=\"plotly-graph-div\"></div><script type=\"text/javascript\">require([\"plotly\"], function(Plotly) { window.PLOTLYENV=window.PLOTLYENV || {};window.PLOTLYENV.BASE_URL=\"https://plot.ly\";\n",
       "        Plotly.plot(\n",
       "            '34e4af5a-7a3e-4135-8be6-3d97efe0f86a',\n",
       "            [{\"line\": {\"color\": \"blue\", \"width\": 2}, \"mode\": \"markers\", \"x\": [0.5, 0.0, 1], \"y\": [0.0, 0.3, 1], \"type\": \"scatter\", \"uid\": \"16adb3b5-5d83-4451-ac3c-d9882ecb3753\"}],\n",
       "            {\"hovermode\": \"closest\", \"title\": {\"text\": \"Kinematic Generation\"}, \"xaxis\": {\"autorange\": false, \"range\": [-10, 10], \"zeroline\": false}, \"yaxis\": {\"autorange\": false, \"range\": [-10, 10], \"zeroline\": false}},\n",
       "            {\"showLink\": false, \"linkText\": \"Export to plot.ly\", \"plotlyServerURL\": \"https://plot.ly\"}\n",
       "        ).then(function () {return Plotly.addFrames('34e4af5a-7a3e-4135-8be6-3d97efe0f86a',[{\"data\": [{\"marker\": {\"color\": \"red\", \"size\": 10}, \"mode\": \"markers\", \"x\": [0.5, 0.0, 1], \"y\": [0.0, 0.3, 1], \"type\": \"scatter\"}]}, {\"data\": [{\"marker\": {\"color\": \"red\", \"size\": 10}, \"mode\": \"markers\", \"x\": [0.6, -0.1, 0.9], \"y\": [0.1, 0.4, 0.9], \"type\": \"scatter\"}]}, {\"data\": [{\"marker\": {\"color\": \"red\", \"size\": 10}, \"mode\": \"markers\", \"x\": [0.7, -0.2, 0.8], \"y\": [0.2, 0.5, 0.8], \"type\": \"scatter\"}]}, {\"data\": [{\"marker\": {\"color\": \"red\", \"size\": 10}, \"mode\": \"markers\", \"x\": [0.7999999999999999, -0.30000000000000004, 0.7000000000000001], \"y\": [0.30000000000000004, 0.6, 0.7000000000000001], \"type\": \"scatter\"}]}, {\"data\": [{\"marker\": {\"color\": \"red\", \"size\": 10}, \"mode\": \"markers\", \"x\": [0.8999999999999999, -0.4, 0.6000000000000001], \"y\": [0.4, 0.7, 0.6000000000000001], \"type\": \"scatter\"}]}, {\"data\": [{\"marker\": {\"color\": \"red\", \"size\": 10}, \"mode\": \"markers\", \"x\": [0.9999999999999999, -0.5, 0.5000000000000001], \"y\": [0.5, 0.7999999999999999, 0.5000000000000001], \"type\": \"scatter\"}]}, {\"data\": [{\"marker\": {\"color\": \"red\", \"size\": 10}, \"mode\": \"markers\", \"x\": [1.0999999999999999, -0.6, 0.40000000000000013], \"y\": [0.6, 0.8999999999999999, 0.40000000000000013], \"type\": \"scatter\"}]}, {\"data\": [{\"marker\": {\"color\": \"red\", \"size\": 10}, \"mode\": \"markers\", \"x\": [1.2, -0.7, 0.30000000000000016], \"y\": [0.7, 0.9999999999999999, 0.30000000000000016], \"type\": \"scatter\"}]}, {\"data\": [{\"marker\": {\"color\": \"red\", \"size\": 10}, \"mode\": \"markers\", \"x\": [1.3, -0.7999999999999999, 0.20000000000000015], \"y\": [0.7999999999999999, 1.0999999999999999, 0.20000000000000015], \"type\": \"scatter\"}]}, {\"data\": [{\"marker\": {\"color\": \"red\", \"size\": 10}, \"mode\": \"markers\", \"x\": [1.4000000000000001, -0.8999999999999999, 0.10000000000000014], \"y\": [0.8999999999999999, 1.2, 0.10000000000000014], \"type\": \"scatter\"}]}, {\"data\": [{\"marker\": {\"color\": \"red\", \"size\": 10}, \"mode\": \"markers\", \"x\": [1.5000000000000002, -0.9999999999999999, 1.3877787807814457e-16], \"y\": [0.9999999999999999, 1.3, 1.3877787807814457e-16], \"type\": \"scatter\"}]}, {\"data\": [{\"marker\": {\"color\": \"red\", \"size\": 10}, \"mode\": \"markers\", \"x\": [1.6000000000000003, -1.0999999999999999, -0.09999999999999987], \"y\": [1.0999999999999999, 1.4000000000000001, -0.09999999999999987], \"type\": \"scatter\"}]}, {\"data\": [{\"marker\": {\"color\": \"red\", \"size\": 10}, \"mode\": \"markers\", \"x\": [1.7000000000000004, -1.2, -0.19999999999999987], \"y\": [1.2, 1.5000000000000002, -0.19999999999999987], \"type\": \"scatter\"}]}, {\"data\": [{\"marker\": {\"color\": \"red\", \"size\": 10}, \"mode\": \"markers\", \"x\": [1.8000000000000005, -1.3, -0.2999999999999999], \"y\": [1.3, 1.6000000000000003, -0.2999999999999999], \"type\": \"scatter\"}]}, {\"data\": [{\"marker\": {\"color\": \"red\", \"size\": 10}, \"mode\": \"markers\", \"x\": [1.9000000000000006, -1.4000000000000001, -0.3999999999999999], \"y\": [1.4000000000000001, 1.7000000000000004, -0.3999999999999999], \"type\": \"scatter\"}]}, {\"data\": [{\"marker\": {\"color\": \"red\", \"size\": 10}, \"mode\": \"markers\", \"x\": [2.0000000000000004, -1.5000000000000002, -0.4999999999999999], \"y\": [1.5000000000000002, 1.8000000000000005, -0.4999999999999999], \"type\": \"scatter\"}]}, {\"data\": [{\"marker\": {\"color\": \"red\", \"size\": 10}, \"mode\": \"markers\", \"x\": [2.1000000000000005, -1.6000000000000003, -0.5999999999999999], \"y\": [1.6000000000000003, 1.9000000000000006, -0.5999999999999999], \"type\": \"scatter\"}]}, {\"data\": [{\"marker\": {\"color\": \"red\", \"size\": 10}, \"mode\": \"markers\", \"x\": [2.2000000000000006, -1.7000000000000004, -0.6999999999999998], \"y\": [1.7000000000000004, 2.0000000000000004, -0.6999999999999998], \"type\": \"scatter\"}]}, {\"data\": [{\"marker\": {\"color\": \"red\", \"size\": 10}, \"mode\": \"markers\", \"x\": [2.3000000000000007, -1.8000000000000005, -0.7999999999999998], \"y\": [1.8000000000000005, 2.1000000000000005, -0.7999999999999998], \"type\": \"scatter\"}]}, {\"data\": [{\"marker\": {\"color\": \"red\", \"size\": 10}, \"mode\": \"markers\", \"x\": [2.400000000000001, -1.9000000000000006, -0.8999999999999998], \"y\": [1.9000000000000006, 2.2000000000000006, -0.8999999999999998], \"type\": \"scatter\"}]}, {\"data\": [{\"marker\": {\"color\": \"red\", \"size\": 10}, \"mode\": \"markers\", \"x\": [2.500000000000001, -2.0000000000000004, -0.9999999999999998], \"y\": [2.0000000000000004, 2.3000000000000007, -0.9999999999999998], \"type\": \"scatter\"}]}, {\"data\": [{\"marker\": {\"color\": \"red\", \"size\": 10}, \"mode\": \"markers\", \"x\": [2.600000000000001, -2.1000000000000005, -1.0999999999999999], \"y\": [2.1000000000000005, 2.400000000000001, -1.0999999999999999], \"type\": \"scatter\"}]}, {\"data\": [{\"marker\": {\"color\": \"red\", \"size\": 10}, \"mode\": \"markers\", \"x\": [2.700000000000001, -2.2000000000000006, -1.2], \"y\": [2.2000000000000006, 2.500000000000001, -1.2], \"type\": \"scatter\"}]}, {\"data\": [{\"marker\": {\"color\": \"red\", \"size\": 10}, \"mode\": \"markers\", \"x\": [2.800000000000001, -2.3000000000000007, -1.3], \"y\": [2.3000000000000007, 2.600000000000001, -1.3], \"type\": \"scatter\"}]}, {\"data\": [{\"marker\": {\"color\": \"red\", \"size\": 10}, \"mode\": \"markers\", \"x\": [2.9000000000000012, -2.400000000000001, -1.4000000000000001], \"y\": [2.400000000000001, 2.700000000000001, -1.4000000000000001], \"type\": \"scatter\"}]}, {\"data\": [{\"marker\": {\"color\": \"red\", \"size\": 10}, \"mode\": \"markers\", \"x\": [3.0000000000000013, -2.500000000000001, -1.5000000000000002], \"y\": [2.500000000000001, 2.800000000000001, -1.5000000000000002], \"type\": \"scatter\"}]}, {\"data\": [{\"marker\": {\"color\": \"red\", \"size\": 10}, \"mode\": \"markers\", \"x\": [3.1000000000000014, -2.600000000000001, -1.6000000000000003], \"y\": [2.600000000000001, 2.9000000000000012, -1.6000000000000003], \"type\": \"scatter\"}]}, {\"data\": [{\"marker\": {\"color\": \"red\", \"size\": 10}, \"mode\": \"markers\", \"x\": [3.2000000000000015, -2.700000000000001, -1.7000000000000004], \"y\": [2.700000000000001, 3.0000000000000013, -1.7000000000000004], \"type\": \"scatter\"}]}, {\"data\": [{\"marker\": {\"color\": \"red\", \"size\": 10}, \"mode\": \"markers\", \"x\": [3.3000000000000016, -2.800000000000001, -1.8000000000000005], \"y\": [2.800000000000001, 3.1000000000000014, -1.8000000000000005], \"type\": \"scatter\"}]}, {\"data\": [{\"marker\": {\"color\": \"red\", \"size\": 10}, \"mode\": \"markers\", \"x\": [3.4000000000000017, -2.9000000000000012, -1.9000000000000006], \"y\": [2.9000000000000012, 3.2000000000000015, -1.9000000000000006], \"type\": \"scatter\"}]}, {\"data\": [{\"marker\": {\"color\": \"red\", \"size\": 10}, \"mode\": \"markers\", \"x\": [3.5000000000000018, -3.0000000000000013, -2.0000000000000004], \"y\": [3.0000000000000013, 3.3000000000000016, -2.0000000000000004], \"type\": \"scatter\"}]}, {\"data\": [{\"marker\": {\"color\": \"red\", \"size\": 10}, \"mode\": \"markers\", \"x\": [3.600000000000002, -3.1000000000000014, -2.1000000000000005], \"y\": [3.1000000000000014, 3.4000000000000017, -2.1000000000000005], \"type\": \"scatter\"}]}, {\"data\": [{\"marker\": {\"color\": \"red\", \"size\": 10}, \"mode\": \"markers\", \"x\": [3.700000000000002, -3.2000000000000015, -2.2000000000000006], \"y\": [3.2000000000000015, 3.5000000000000018, -2.2000000000000006], \"type\": \"scatter\"}]}, {\"data\": [{\"marker\": {\"color\": \"red\", \"size\": 10}, \"mode\": \"markers\", \"x\": [3.800000000000002, -3.3000000000000016, -2.3000000000000007], \"y\": [3.3000000000000016, 3.600000000000002, -2.3000000000000007], \"type\": \"scatter\"}]}, {\"data\": [{\"marker\": {\"color\": \"red\", \"size\": 10}, \"mode\": \"markers\", \"x\": [3.900000000000002, -3.4000000000000017, -2.400000000000001], \"y\": [3.4000000000000017, 3.700000000000002, -2.400000000000001], \"type\": \"scatter\"}]}, {\"data\": [{\"marker\": {\"color\": \"red\", \"size\": 10}, \"mode\": \"markers\", \"x\": [4.000000000000002, -3.5000000000000018, -2.500000000000001], \"y\": [3.5000000000000018, 3.800000000000002, -2.500000000000001], \"type\": \"scatter\"}]}, {\"data\": [{\"marker\": {\"color\": \"red\", \"size\": 10}, \"mode\": \"markers\", \"x\": [4.100000000000001, -3.600000000000002, -2.600000000000001], \"y\": [3.600000000000002, 3.900000000000002, -2.600000000000001], \"type\": \"scatter\"}]}, {\"data\": [{\"marker\": {\"color\": \"red\", \"size\": 10}, \"mode\": \"markers\", \"x\": [4.200000000000001, -3.700000000000002, -2.700000000000001], \"y\": [3.700000000000002, 4.000000000000002, -2.700000000000001], \"type\": \"scatter\"}]}, {\"data\": [{\"marker\": {\"color\": \"red\", \"size\": 10}, \"mode\": \"markers\", \"x\": [4.300000000000001, -3.800000000000002, -2.800000000000001], \"y\": [3.800000000000002, 4.100000000000001, -2.800000000000001], \"type\": \"scatter\"}]}, {\"data\": [{\"marker\": {\"color\": \"red\", \"size\": 10}, \"mode\": \"markers\", \"x\": [4.4, -3.900000000000002, -2.9000000000000012], \"y\": [3.900000000000002, 4.200000000000001, -2.9000000000000012], \"type\": \"scatter\"}]}, {\"data\": [{\"marker\": {\"color\": \"red\", \"size\": 10}, \"mode\": \"markers\", \"x\": [4.5, -4.000000000000002, -3.0000000000000013], \"y\": [4.000000000000002, 4.300000000000001, -3.0000000000000013], \"type\": \"scatter\"}]}, {\"data\": [{\"marker\": {\"color\": \"red\", \"size\": 10}, \"mode\": \"markers\", \"x\": [4.6, -4.100000000000001, -3.1000000000000014], \"y\": [4.100000000000001, 4.4, -3.1000000000000014], \"type\": \"scatter\"}]}, {\"data\": [{\"marker\": {\"color\": \"red\", \"size\": 10}, \"mode\": \"markers\", \"x\": [4.699999999999999, -4.200000000000001, -3.2000000000000015], \"y\": [4.200000000000001, 4.5, -3.2000000000000015], \"type\": \"scatter\"}]}, {\"data\": [{\"marker\": {\"color\": \"red\", \"size\": 10}, \"mode\": \"markers\", \"x\": [4.799999999999999, -4.300000000000001, -3.3000000000000016], \"y\": [4.300000000000001, 4.6, -3.3000000000000016], \"type\": \"scatter\"}]}, {\"data\": [{\"marker\": {\"color\": \"red\", \"size\": 10}, \"mode\": \"markers\", \"x\": [4.899999999999999, -4.4, -3.4000000000000017], \"y\": [4.4, 4.699999999999999, -3.4000000000000017], \"type\": \"scatter\"}]}, {\"data\": [{\"marker\": {\"color\": \"red\", \"size\": 10}, \"mode\": \"markers\", \"x\": [4.999999999999998, -4.5, -3.5000000000000018], \"y\": [4.5, 4.799999999999999, -3.5000000000000018], \"type\": \"scatter\"}]}, {\"data\": [{\"marker\": {\"color\": \"red\", \"size\": 10}, \"mode\": \"markers\", \"x\": [5.099999999999998, -4.6, -3.600000000000002], \"y\": [4.6, 4.899999999999999, -3.600000000000002], \"type\": \"scatter\"}]}, {\"data\": [{\"marker\": {\"color\": \"red\", \"size\": 10}, \"mode\": \"markers\", \"x\": [5.1999999999999975, -4.699999999999999, -3.700000000000002], \"y\": [4.699999999999999, 4.999999999999998, -3.700000000000002], \"type\": \"scatter\"}]}, {\"data\": [{\"marker\": {\"color\": \"red\", \"size\": 10}, \"mode\": \"markers\", \"x\": [5.299999999999997, -4.799999999999999, -3.800000000000002], \"y\": [4.799999999999999, 5.099999999999998, -3.800000000000002], \"type\": \"scatter\"}]}, {\"data\": [{\"marker\": {\"color\": \"red\", \"size\": 10}, \"mode\": \"markers\", \"x\": [5.399999999999997, -4.899999999999999, -3.900000000000002], \"y\": [4.899999999999999, 5.1999999999999975, -3.900000000000002], \"type\": \"scatter\"}]}, {\"data\": [{\"marker\": {\"color\": \"red\", \"size\": 10}, \"mode\": \"markers\", \"x\": [5.4999999999999964, -4.999999999999998, -4.000000000000002], \"y\": [4.999999999999998, 5.299999999999997, -4.000000000000002], \"type\": \"scatter\"}]}, {\"data\": [{\"marker\": {\"color\": \"red\", \"size\": 10}, \"mode\": \"markers\", \"x\": [5.599999999999996, -5.099999999999998, -4.100000000000001], \"y\": [5.099999999999998, 5.399999999999997, -4.100000000000001], \"type\": \"scatter\"}]}, {\"data\": [{\"marker\": {\"color\": \"red\", \"size\": 10}, \"mode\": \"markers\", \"x\": [5.699999999999996, -5.1999999999999975, -4.200000000000001], \"y\": [5.1999999999999975, 5.4999999999999964, -4.200000000000001], \"type\": \"scatter\"}]}, {\"data\": [{\"marker\": {\"color\": \"red\", \"size\": 10}, \"mode\": \"markers\", \"x\": [5.799999999999995, -5.299999999999997, -4.300000000000001], \"y\": [5.299999999999997, 5.599999999999996, -4.300000000000001], \"type\": \"scatter\"}]}, {\"data\": [{\"marker\": {\"color\": \"red\", \"size\": 10}, \"mode\": \"markers\", \"x\": [5.899999999999995, -5.399999999999997, -4.4], \"y\": [5.399999999999997, 5.699999999999996, -4.4], \"type\": \"scatter\"}]}, {\"data\": [{\"marker\": {\"color\": \"red\", \"size\": 10}, \"mode\": \"markers\", \"x\": [5.999999999999995, -5.4999999999999964, -4.5], \"y\": [5.4999999999999964, 5.799999999999995, -4.5], \"type\": \"scatter\"}]}, {\"data\": [{\"marker\": {\"color\": \"red\", \"size\": 10}, \"mode\": \"markers\", \"x\": [6.099999999999994, -5.599999999999996, -4.6], \"y\": [5.599999999999996, 5.899999999999995, -4.6], \"type\": \"scatter\"}]}, {\"data\": [{\"marker\": {\"color\": \"red\", \"size\": 10}, \"mode\": \"markers\", \"x\": [6.199999999999994, -5.699999999999996, -4.699999999999999], \"y\": [5.699999999999996, 5.999999999999995, -4.699999999999999], \"type\": \"scatter\"}]}, {\"data\": [{\"marker\": {\"color\": \"red\", \"size\": 10}, \"mode\": \"markers\", \"x\": [6.299999999999994, -5.799999999999995, -4.799999999999999], \"y\": [5.799999999999995, 6.099999999999994, -4.799999999999999], \"type\": \"scatter\"}]}, {\"data\": [{\"marker\": {\"color\": \"red\", \"size\": 10}, \"mode\": \"markers\", \"x\": [6.399999999999993, -5.899999999999995, -4.899999999999999], \"y\": [5.899999999999995, 6.199999999999994, -4.899999999999999], \"type\": \"scatter\"}]}, {\"data\": [{\"marker\": {\"color\": \"red\", \"size\": 10}, \"mode\": \"markers\", \"x\": [6.499999999999993, -5.999999999999995, -4.999999999999998], \"y\": [5.999999999999995, 6.299999999999994, -4.999999999999998], \"type\": \"scatter\"}]}, {\"data\": [{\"marker\": {\"color\": \"red\", \"size\": 10}, \"mode\": \"markers\", \"x\": [6.5999999999999925, -6.099999999999994, -5.099999999999998], \"y\": [6.099999999999994, 6.399999999999993, -5.099999999999998], \"type\": \"scatter\"}]}, {\"data\": [{\"marker\": {\"color\": \"red\", \"size\": 10}, \"mode\": \"markers\", \"x\": [6.699999999999992, -6.199999999999994, -5.1999999999999975], \"y\": [6.199999999999994, 6.499999999999993, -5.1999999999999975], \"type\": \"scatter\"}]}, {\"data\": [{\"marker\": {\"color\": \"red\", \"size\": 10}, \"mode\": \"markers\", \"x\": [6.799999999999992, -6.299999999999994, -5.299999999999997], \"y\": [6.299999999999994, 6.5999999999999925, -5.299999999999997], \"type\": \"scatter\"}]}, {\"data\": [{\"marker\": {\"color\": \"red\", \"size\": 10}, \"mode\": \"markers\", \"x\": [6.8999999999999915, -6.399999999999993, -5.399999999999997], \"y\": [6.399999999999993, 6.699999999999992, -5.399999999999997], \"type\": \"scatter\"}]}, {\"data\": [{\"marker\": {\"color\": \"red\", \"size\": 10}, \"mode\": \"markers\", \"x\": [6.999999999999991, -6.499999999999993, -5.4999999999999964], \"y\": [6.499999999999993, 6.799999999999992, -5.4999999999999964], \"type\": \"scatter\"}]}, {\"data\": [{\"marker\": {\"color\": \"red\", \"size\": 10}, \"mode\": \"markers\", \"x\": [7.099999999999991, -6.5999999999999925, -5.599999999999996], \"y\": [6.5999999999999925, 6.8999999999999915, -5.599999999999996], \"type\": \"scatter\"}]}, {\"data\": [{\"marker\": {\"color\": \"red\", \"size\": 10}, \"mode\": \"markers\", \"x\": [7.19999999999999, -6.699999999999992, -5.699999999999996], \"y\": [6.699999999999992, 6.999999999999991, -5.699999999999996], \"type\": \"scatter\"}]}, {\"data\": [{\"marker\": {\"color\": \"red\", \"size\": 10}, \"mode\": \"markers\", \"x\": [7.29999999999999, -6.799999999999992, -5.799999999999995], \"y\": [6.799999999999992, 7.099999999999991, -5.799999999999995], \"type\": \"scatter\"}]}, {\"data\": [{\"marker\": {\"color\": \"red\", \"size\": 10}, \"mode\": \"markers\", \"x\": [7.39999999999999, -6.8999999999999915, -5.899999999999995], \"y\": [6.8999999999999915, 7.19999999999999, -5.899999999999995], \"type\": \"scatter\"}]}, {\"data\": [{\"marker\": {\"color\": \"red\", \"size\": 10}, \"mode\": \"markers\", \"x\": [7.499999999999989, -6.999999999999991, -5.999999999999995], \"y\": [6.999999999999991, 7.29999999999999, -5.999999999999995], \"type\": \"scatter\"}]}, {\"data\": [{\"marker\": {\"color\": \"red\", \"size\": 10}, \"mode\": \"markers\", \"x\": [7.599999999999989, -7.099999999999991, -6.099999999999994], \"y\": [7.099999999999991, 7.39999999999999, -6.099999999999994], \"type\": \"scatter\"}]}, {\"data\": [{\"marker\": {\"color\": \"red\", \"size\": 10}, \"mode\": \"markers\", \"x\": [7.699999999999989, -7.19999999999999, -6.199999999999994], \"y\": [7.19999999999999, 7.499999999999989, -6.199999999999994], \"type\": \"scatter\"}]}, {\"data\": [{\"marker\": {\"color\": \"red\", \"size\": 10}, \"mode\": \"markers\", \"x\": [7.799999999999988, -7.29999999999999, -6.299999999999994], \"y\": [7.29999999999999, 7.599999999999989, -6.299999999999994], \"type\": \"scatter\"}]}, {\"data\": [{\"marker\": {\"color\": \"red\", \"size\": 10}, \"mode\": \"markers\", \"x\": [7.899999999999988, -7.39999999999999, -6.399999999999993], \"y\": [7.39999999999999, 7.699999999999989, -6.399999999999993], \"type\": \"scatter\"}]}, {\"data\": [{\"marker\": {\"color\": \"red\", \"size\": 10}, \"mode\": \"markers\", \"x\": [7.999999999999988, -7.499999999999989, -6.499999999999993], \"y\": [7.499999999999989, 7.799999999999988, -6.499999999999993], \"type\": \"scatter\"}]}, {\"data\": [{\"marker\": {\"color\": \"red\", \"size\": 10}, \"mode\": \"markers\", \"x\": [8.099999999999987, -7.599999999999989, -6.5999999999999925], \"y\": [7.599999999999989, 7.899999999999988, -6.5999999999999925], \"type\": \"scatter\"}]}, {\"data\": [{\"marker\": {\"color\": \"red\", \"size\": 10}, \"mode\": \"markers\", \"x\": [8.199999999999987, -7.699999999999989, -6.699999999999992], \"y\": [7.699999999999989, 7.999999999999988, -6.699999999999992], \"type\": \"scatter\"}]}, {\"data\": [{\"marker\": {\"color\": \"red\", \"size\": 10}, \"mode\": \"markers\", \"x\": [8.299999999999986, -7.799999999999988, -6.799999999999992], \"y\": [7.799999999999988, 8.099999999999987, -6.799999999999992], \"type\": \"scatter\"}]}, {\"data\": [{\"marker\": {\"color\": \"red\", \"size\": 10}, \"mode\": \"markers\", \"x\": [8.399999999999986, -7.899999999999988, -6.8999999999999915], \"y\": [7.899999999999988, 8.199999999999987, -6.8999999999999915], \"type\": \"scatter\"}]}, {\"data\": [{\"marker\": {\"color\": \"red\", \"size\": 10}, \"mode\": \"markers\", \"x\": [8.499999999999986, -7.999999999999988, -6.999999999999991], \"y\": [7.999999999999988, 8.299999999999986, -6.999999999999991], \"type\": \"scatter\"}]}, {\"data\": [{\"marker\": {\"color\": \"red\", \"size\": 10}, \"mode\": \"markers\", \"x\": [8.599999999999985, -8.099999999999987, -7.099999999999991], \"y\": [8.099999999999987, 8.399999999999986, -7.099999999999991], \"type\": \"scatter\"}]}, {\"data\": [{\"marker\": {\"color\": \"red\", \"size\": 10}, \"mode\": \"markers\", \"x\": [8.699999999999985, -8.199999999999987, -7.19999999999999], \"y\": [8.199999999999987, 8.499999999999986, -7.19999999999999], \"type\": \"scatter\"}]}, {\"data\": [{\"marker\": {\"color\": \"red\", \"size\": 10}, \"mode\": \"markers\", \"x\": [8.799999999999985, -8.299999999999986, -7.29999999999999], \"y\": [8.299999999999986, 8.599999999999985, -7.29999999999999], \"type\": \"scatter\"}]}, {\"data\": [{\"marker\": {\"color\": \"red\", \"size\": 10}, \"mode\": \"markers\", \"x\": [8.899999999999984, -8.399999999999986, -7.39999999999999], \"y\": [8.399999999999986, 8.699999999999985, -7.39999999999999], \"type\": \"scatter\"}]}, {\"data\": [{\"marker\": {\"color\": \"red\", \"size\": 10}, \"mode\": \"markers\", \"x\": [8.999999999999984, -8.499999999999986, -7.499999999999989], \"y\": [8.499999999999986, 8.799999999999985, -7.499999999999989], \"type\": \"scatter\"}]}, {\"data\": [{\"marker\": {\"color\": \"red\", \"size\": 10}, \"mode\": \"markers\", \"x\": [9.099999999999984, -8.599999999999985, -7.599999999999989], \"y\": [8.599999999999985, 8.899999999999984, -7.599999999999989], \"type\": \"scatter\"}]}, {\"data\": [{\"marker\": {\"color\": \"red\", \"size\": 10}, \"mode\": \"markers\", \"x\": [9.199999999999983, -8.699999999999985, -7.699999999999989], \"y\": [8.699999999999985, 8.999999999999984, -7.699999999999989], \"type\": \"scatter\"}]}, {\"data\": [{\"marker\": {\"color\": \"red\", \"size\": 10}, \"mode\": \"markers\", \"x\": [9.299999999999983, -8.799999999999985, -7.799999999999988], \"y\": [8.799999999999985, 9.099999999999984, -7.799999999999988], \"type\": \"scatter\"}]}, {\"data\": [{\"marker\": {\"color\": \"red\", \"size\": 10}, \"mode\": \"markers\", \"x\": [9.399999999999983, -8.899999999999984, -7.899999999999988], \"y\": [8.899999999999984, 9.199999999999983, -7.899999999999988], \"type\": \"scatter\"}]}, {\"data\": [{\"marker\": {\"color\": \"red\", \"size\": 10}, \"mode\": \"markers\", \"x\": [9.499999999999982, -8.999999999999984, -7.999999999999988], \"y\": [8.999999999999984, 9.299999999999983, -7.999999999999988], \"type\": \"scatter\"}]}, {\"data\": [{\"marker\": {\"color\": \"red\", \"size\": 10}, \"mode\": \"markers\", \"x\": [9.599999999999982, -9.099999999999984, -8.099999999999987], \"y\": [9.099999999999984, 9.399999999999983, -8.099999999999987], \"type\": \"scatter\"}]}, {\"data\": [{\"marker\": {\"color\": \"red\", \"size\": 10}, \"mode\": \"markers\", \"x\": [9.699999999999982, -9.199999999999983, -8.199999999999987], \"y\": [9.199999999999983, 9.499999999999982, -8.199999999999987], \"type\": \"scatter\"}]}, {\"data\": [{\"marker\": {\"color\": \"red\", \"size\": 10}, \"mode\": \"markers\", \"x\": [9.799999999999981, -9.299999999999983, -8.299999999999986], \"y\": [9.299999999999983, 9.599999999999982, -8.299999999999986], \"type\": \"scatter\"}]}, {\"data\": [{\"marker\": {\"color\": \"red\", \"size\": 10}, \"mode\": \"markers\", \"x\": [9.89999999999998, -9.399999999999983, -8.399999999999986], \"y\": [9.399999999999983, 9.699999999999982, -8.399999999999986], \"type\": \"scatter\"}]}, {\"data\": [{\"marker\": {\"color\": \"red\", \"size\": 10}, \"mode\": \"markers\", \"x\": [9.99999999999998, -9.499999999999982, -8.499999999999986], \"y\": [9.499999999999982, 9.799999999999981, -8.499999999999986], \"type\": \"scatter\"}]}, {\"data\": [{\"marker\": {\"color\": \"red\", \"size\": 10}, \"mode\": \"markers\", \"x\": [10.09999999999998, -9.599999999999982, -8.599999999999985], \"y\": [9.599999999999982, 9.89999999999998, -8.599999999999985], \"type\": \"scatter\"}]}, {\"data\": [{\"marker\": {\"color\": \"red\", \"size\": 10}, \"mode\": \"markers\", \"x\": [10.19999999999998, -9.699999999999982, -8.699999999999985], \"y\": [9.699999999999982, 9.99999999999998, -8.699999999999985], \"type\": \"scatter\"}]}, {\"data\": [{\"marker\": {\"color\": \"red\", \"size\": 10}, \"mode\": \"markers\", \"x\": [10.29999999999998, -9.799999999999981, -8.799999999999985], \"y\": [9.799999999999981, 10.09999999999998, -8.799999999999985], \"type\": \"scatter\"}]}, {\"data\": [{\"marker\": {\"color\": \"red\", \"size\": 10}, \"mode\": \"markers\", \"x\": [10.399999999999979, -9.89999999999998, -8.899999999999984], \"y\": [9.89999999999998, 10.19999999999998, -8.899999999999984], \"type\": \"scatter\"}]}]);}).then(function(){Plotly.animate('34e4af5a-7a3e-4135-8be6-3d97efe0f86a');})\n",
       "        });</script><script type=\"text/javascript\">window.addEventListener(\"resize\", function(){window._Plotly.Plots.resize(document.getElementById(\"34e4af5a-7a3e-4135-8be6-3d97efe0f86a\"));});</script>"
      ]
     },
     "metadata": {},
     "output_type": "display_data"
    }
   ],
   "source": [
    "env = Environment(10, 10)\n",
    "md = MolecularDynamics(env)\n",
    "# [(md.plot(), md.leapfrog(1), md.leapfrog(2)) for i in range(12)]\n",
    "\n",
    "mols_x = [m.r.x for m in md.mols]\n",
    "mols_y = [m.r.y for m in md.mols]\n",
    "\n",
    "data=[dict(x=mols_x, y=mols_y, \n",
    "           mode='markers', \n",
    "           line=dict(width=2, color='blue')\n",
    "          ),\n",
    "    ]\n",
    "\n",
    "layout=dict(xaxis=dict(range=[-10, 10], autorange=False, zeroline=False),\n",
    "            yaxis=dict(range=[-10, 10], autorange=False, zeroline=False),\n",
    "            title='Kinematic Generation',\n",
    "            hovermode='closest',\n",
    "           )\n",
    "\n",
    "frames=[dict(\n",
    "    data=[dict(x=[m.r.x for m in md.mols],\n",
    "               y=[m.r.y for m in md.mols], \n",
    "               mode='markers' + md.leapfrogs(),\n",
    "               marker=dict(color='red', size=10)\n",
    "              )\n",
    "                  ]) for k in range(100)] \n",
    "\n",
    "figure=dict(data=data, layout=layout, frames=frames)          \n",
    "iplot(figure)"
   ]
  },
  {
   "cell_type": "markdown",
   "metadata": {},
   "source": [
    "# Unit Testing"
   ]
  },
  {
   "cell_type": "markdown",
   "metadata": {},
   "source": [
    "## Vector Class"
   ]
  },
  {
   "cell_type": "code",
   "execution_count": 7,
   "metadata": {},
   "outputs": [
    {
     "name": "stderr",
     "output_type": "stream",
     "text": [
      "............."
     ]
    },
    {
     "name": "stdout",
     "output_type": "stream",
     "text": [
      "Make sure that the vectors are different:\n",
      " [array([0.64390436, 0.44162406]), array([0.32734126, 0.3208004 ]), array([0.85353719, 0.07129767])]\n"
     ]
    },
    {
     "name": "stderr",
     "output_type": "stream",
     "text": [
      "\n",
      "----------------------------------------------------------------------\n",
      "Ran 13 tests in 0.025s\n",
      "\n",
      "OK\n"
     ]
    }
   ],
   "source": [
    "class VectorTest(unittest.TestCase):\n",
    "    def setUp(self):\n",
    "        self.arr = [Vector2d(), Vector2d(), Vector2d()]\n",
    "        self.v2 = Vector2d([3,4.4])\n",
    "        \n",
    "    def test_coords(self):\n",
    "        self.assertEqual(np.testing.assert_array_equal(np.array([3,4.4]), self.v2._coords), None)\n",
    "        \n",
    "    def test_random_vectors(self):\n",
    "        print('Make sure that the vectors are different:\\n',[v._coords for v in self.arr])\n",
    "        self.assertEqual(9,9)\n",
    "\n",
    "\n",
    "class VectorGetSet(unittest.TestCase):\n",
    "    def setUp(self):\n",
    "        self.v = Vector2d([10.2, 4.154])\n",
    "    \n",
    "    def test_set(self):\n",
    "        self.v.x = 3\n",
    "        self.v.y = 5\n",
    "        self.assertEqual(np.testing.assert_array_equal(np.array([3,5]), self.v._coords), None)\n",
    "\n",
    "    def test_get(self):\n",
    "        self.assertEqual(self.v.x, 10.2)\n",
    "        self.assertEqual(self.v.y, 4.154)\n",
    "\n",
    "\n",
    "\n",
    "class VectorTestStrRepr(unittest.TestCase):\n",
    "    def setUp(self):\n",
    "        self.v = Vector2d([22.351355, -44.343143])\n",
    "        \n",
    "    def test_str(self):\n",
    "        self.assertEqual(str(self.v), '[22.351, -44.343] Vector2d')\n",
    "        \n",
    "    def test_repr(self):\n",
    "        self.assertEqual((self.v.__repr__()), '[22.351355, -44.343143] Vector2d')\n",
    "\n",
    "\n",
    "class VectorEquality(unittest.TestCase):\n",
    "    def setUp(self):\n",
    "        self.v1 = Vector2d([22.351355, -44.343143])\n",
    "        self.v2 = Vector2d([22.351355, -44.343143])\n",
    "        self.v3 = Vector2d([33.3, -22.343143])\n",
    "        \n",
    "    def test_eq(self):\n",
    "        '''testing __eq__ method\n",
    "        '''\n",
    "        self.assertEqual(self.v1, self.v2)\n",
    "        \n",
    "    def test_neq(self):\n",
    "        self.assertNotEqual(self.v1, self.v3)\n",
    "\n",
    "\n",
    "class VectorAddition(unittest.TestCase):\n",
    "    def setUp(self):\n",
    "        self.v1 = Vector2d([22.3, -44])\n",
    "        self.v2 = Vector2d([2,4])\n",
    "        \n",
    "    def test_add(self):\n",
    "        result = Vector2d([24.3, -40])\n",
    "        self.assertEqual(self.v1 + self.v2, result)\n",
    "\n",
    "\n",
    "class VectorSubtraction(unittest.TestCase):\n",
    "    def setUp(self):\n",
    "        self.v1 = Vector2d([22.3, -44])\n",
    "        self.v2 = Vector2d([2,4])\n",
    "        \n",
    "    def test_add(self):\n",
    "        result = Vector2d([20.3, -48])\n",
    "        self.assertEqual(self.v1 - self.v2, result)\n",
    "        \n",
    "\n",
    "class VectorDot(unittest.TestCase):\n",
    "    def setUp(self):\n",
    "        self.v1 = Vector2d([11, -12])\n",
    "        self.v2 = Vector2d([2,4])\n",
    "        \n",
    "    def test_dot(self):\n",
    "        result = 11*2 - 12*4\n",
    "        self.assertEqual(Vector2d.dot(self.v1, self.v2), result)    \n",
    "\n",
    "\n",
    "class VectorDistance(unittest.TestCase):\n",
    "    def setUp(self):\n",
    "        self.v1 = Vector2d([11,-7])\n",
    "        self.v2 = Vector2d([7,-4])\n",
    "\n",
    "    def test_dist(self):\n",
    "        result = 11*7 + 7*4\n",
    "        self.assertEqual(Vector2d.dot(self.v1, self.v2), result)\n",
    "        self.assertEqual(Vector2d.distance(self.v1, self.v2), 5)\n",
    "\n",
    "\n",
    "class VectorRMul(unittest.TestCase):\n",
    "    def setUp(self):\n",
    "        self.v = Vector2d([11,-7])\n",
    "        self.scalar = -2\n",
    "        \n",
    "    def test_rmul(self):\n",
    "        self.assertEqual(self.scalar * self.v, Vector2d([-22,14]))\n",
    "\n",
    "        \n",
    "        \n",
    "unittest.main(argv=['first-arg-is-ignored'], exit=False);"
   ]
  },
  {
   "cell_type": "markdown",
   "metadata": {},
   "source": [
    "## Environment Class"
   ]
  },
  {
   "cell_type": "code",
   "execution_count": 8,
   "metadata": {},
   "outputs": [
    {
     "name": "stderr",
     "output_type": "stream",
     "text": [
      ".............."
     ]
    },
    {
     "name": "stdout",
     "output_type": "stream",
     "text": [
      "Make sure that the vectors are different:\n",
      " [array([0.6155596, 0.920458 ]), array([0.46075238, 0.19632744]), array([0.54121071, 0.57436689])]\n"
     ]
    },
    {
     "name": "stderr",
     "output_type": "stream",
     "text": [
      "\n",
      "----------------------------------------------------------------------\n",
      "Ran 14 tests in 0.023s\n",
      "\n",
      "OK\n"
     ]
    }
   ],
   "source": [
    "class TestEnvironment(unittest.TestCase):\n",
    "    def setUp(self):\n",
    "        self.env = Environment(3,5)\n",
    "        \n",
    "    def test_region(self):\n",
    "        self.assertEqual((self.env.width, self.env.hight), (3,5))\n",
    "\n",
    "unittest.main(argv=['first-arg-is-ignored'], exit=False);"
   ]
  },
  {
   "cell_type": "markdown",
   "metadata": {},
   "source": [
    "## Atom Class"
   ]
  },
  {
   "cell_type": "code",
   "execution_count": 15,
   "metadata": {},
   "outputs": [
    {
     "name": "stderr",
     "output_type": "stream",
     "text": [
      "................."
     ]
    },
    {
     "name": "stdout",
     "output_type": "stream",
     "text": [
      "2\n",
      "Make sure that the vectors are different:\n",
      " [array([0.07081439, 0.60235413]), array([0.75268854, 0.34682931]), array([0.36653403, 0.02466267])]\n"
     ]
    },
    {
     "name": "stderr",
     "output_type": "stream",
     "text": [
      "\n",
      "----------------------------------------------------------------------\n",
      "Ran 17 tests in 0.023s\n",
      "\n",
      "OK\n"
     ]
    }
   ],
   "source": [
    "class TestAtom(unittest.TestCase):\n",
    "    def setUp(self):\n",
    "        self.a1 = Atom(0.1)\n",
    "        self.a2 = Atom(0.1)\n",
    "        \n",
    "    def test_randomness(self):\n",
    "        a1 = self.a1\n",
    "        a2 = self.a2\n",
    "\n",
    "        self.assertNotEqual(a1.r, a1.a)\n",
    "        self.assertNotEqual(a1.r, a1.a)\n",
    "        self.assertNotEqual(a1.r, a2.r)\n",
    "\n",
    "    def test_count1(self):\n",
    "        self.assertEqual(2, Atom.count)\n",
    "        # print(Atom.count) # 2\n",
    "        # each test case starts with setUp\n",
    "        # previous tests don't have any influence\n",
    "        Atom(0.3, [3,6]), Atom(0.3, [3,6]), Atom(0.3, [3,6])\n",
    "        self.assertEqual(5, Atom.count)\n",
    "\n",
    "    def test_count2(self):\n",
    "        self.assertEqual(2, Atom.count)\n",
    "        # print(Atom.count)\n",
    "        Atom(0.3, [3,6]), Atom(0.3, [3,6]), Atom(0.3, [3,6])\n",
    "        self.assertEqual(5, Atom.count)\n",
    "    \n",
    "    def tearDown(self):\n",
    "        Atom.count = 0\n",
    "\n",
    "\n",
    "unittest.main(argv=['first-arg-is-ignored'], exit=False);"
   ]
  },
  {
   "cell_type": "markdown",
   "metadata": {},
   "source": [
    "## Moleculalr Dynamics Class"
   ]
  }
 ],
 "metadata": {
  "kernelspec": {
   "display_name": "Python 3",
   "language": "python",
   "name": "python3"
  },
  "language_info": {
   "codemirror_mode": {
    "name": "ipython",
    "version": 3
   },
   "file_extension": ".py",
   "mimetype": "text/x-python",
   "name": "python",
   "nbconvert_exporter": "python",
   "pygments_lexer": "ipython3",
   "version": "3.6.8"
  }
 },
 "nbformat": 4,
 "nbformat_minor": 2
}
