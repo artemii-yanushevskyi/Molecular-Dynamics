{
 "cells": [
  {
   "cell_type": "markdown",
   "metadata": {},
   "source": [
    "# Imports"
   ]
  },
  {
   "cell_type": "code",
   "execution_count": 1,
   "metadata": {},
   "outputs": [
    {
     "data": {
      "text/html": [
       "<script type=\"text/javascript\">window.PlotlyConfig = {MathJaxConfig: 'local'};</script><script type=\"text/javascript\">if (window.MathJax) {MathJax.Hub.Config({SVG: {font: \"STIX-Web\"}});}</script><script>requirejs.config({paths: { 'plotly': ['https://cdn.plot.ly/plotly-latest.min']},});if(!window._Plotly) {require(['plotly'],function(plotly) {window._Plotly=plotly;});}</script>"
      ],
      "text/vnd.plotly.v1+html": [
       "<script type=\"text/javascript\">window.PlotlyConfig = {MathJaxConfig: 'local'};</script><script type=\"text/javascript\">if (window.MathJax) {MathJax.Hub.Config({SVG: {font: \"STIX-Web\"}});}</script><script>requirejs.config({paths: { 'plotly': ['https://cdn.plot.ly/plotly-latest.min']},});if(!window._Plotly) {require(['plotly'],function(plotly) {window._Plotly=plotly;});}</script>"
      ]
     },
     "metadata": {},
     "output_type": "display_data"
    }
   ],
   "source": [
    "import numpy as np\n",
    "import unittest\n",
    "import math\n",
    "\n",
    "\n",
    "from plotly.offline import init_notebook_mode, iplot\n",
    "import plotly.graph_objs as go\n",
    "from IPython.display import display, HTML\n",
    "init_notebook_mode(connected=True)"
   ]
  },
  {
   "cell_type": "markdown",
   "metadata": {},
   "source": [
    "# Define Components"
   ]
  },
  {
   "cell_type": "markdown",
   "metadata": {},
   "source": [
    "## Vector Class"
   ]
  },
  {
   "cell_type": "code",
   "execution_count": 2,
   "metadata": {},
   "outputs": [],
   "source": [
    "class Vector2d:\n",
    "    def __init__(self, coords=None):\n",
    "        ''' coords is array of size two\n",
    "        if argument coords is not specified, then Vector2d will have random coordinates\n",
    "        '''\n",
    "        if type(coords) is Vector2d:\n",
    "            raise ValueError('coords parameter is already a Vector2d object')\n",
    "        \n",
    "        if coords is None:\n",
    "            self._coords = np.random.random(2)\n",
    "        else:\n",
    "            self._coords = np.array(coords)\n",
    "            \n",
    "    def get_x(self):\n",
    "        return self._coords[0]\n",
    "    \n",
    "    def set_x(self, value):\n",
    "        self._coords[0] = value\n",
    "\n",
    "    def get_y(self):\n",
    "        return self._coords[1]\n",
    "    \n",
    "    def set_y(self, value):\n",
    "        self._coords[1] = value\n",
    "    \n",
    "    x = property()\n",
    "    y = property()\n",
    "\n",
    "    x = x.getter(get_x)\n",
    "    x = x.setter(set_x)\n",
    "\n",
    "    y = y.getter(get_y)\n",
    "    y = y.setter(set_y)\n",
    "\n",
    "    def __str__(self):\n",
    "        return '[{0:,.3f}, {1:,.3f}] Vector2d'.format(self.x, self.y)\n",
    "    \n",
    "    def __repr__(self):\n",
    "        return '[{0}, {1}] Vector2d'.format(self.x, self.y)\n",
    "    \n",
    "    def __eq__(self, other):\n",
    "        return all(self._coords == other._coords)\n",
    "        \n",
    "    def __add__(self, other):\n",
    "        return Vector2d(self._coords + other._coords)\n",
    "    \n",
    "    def __sub__(self, other):\n",
    "        return Vector2d(self._coords - other._coords)\n",
    "    \n",
    "    @classmethod\n",
    "    def dot(cls, v1, v2):\n",
    "        return np.vdot(v1._coords, v2._coords)\n",
    "    \n",
    "    @classmethod\n",
    "    def distance(cls, v1, v2):\n",
    "        return math.sqrt(Vector2d.dot(v2 - v1, v2 - v1))\n",
    "    \n",
    "    def __rmul__(self, scalar):\n",
    "        return Vector2d(scalar * self._coords)\n",
    "    "
   ]
  },
  {
   "cell_type": "markdown",
   "metadata": {},
   "source": [
    "## Environment Class"
   ]
  },
  {
   "cell_type": "code",
   "execution_count": 3,
   "metadata": {},
   "outputs": [],
   "source": [
    "class Environment:\n",
    "    def __init__(self, x, y):\n",
    "        ''' \n",
    "        x and y are the size of our rectangular region.\n",
    "        The center of the region is located at the (0, 0).\n",
    "        The corners of the region are: (x/2, y/2), (x/2, -y/2), (-x/2, -y/2), (-x/2, y/2)\n",
    "        (from top right, clockwise)\n",
    "        '''\n",
    "        self.width = x\n",
    "        self.hight = y"
   ]
  },
  {
   "cell_type": "markdown",
   "metadata": {},
   "source": [
    "## Atom Class"
   ]
  },
  {
   "cell_type": "code",
   "execution_count": 4,
   "metadata": {},
   "outputs": [],
   "source": [
    "class Atom:\n",
    "    count = 0\n",
    "    def __init__(self, weight, r=None, v=None, a=None):\n",
    "        ''' Initialize r, v and a with random vectors if nothing is specified'''\n",
    "        self.weight = weight\n",
    "        self.n = Atom.count\n",
    "        if r is None:\n",
    "            self.r = Vector2d()\n",
    "        else:\n",
    "            self.r = Vector2d(r)\n",
    "        \n",
    "        if v is None:\n",
    "            self.v = Vector2d()\n",
    "        else:\n",
    "            self.v = Vector2d(v)\n",
    "            \n",
    "        if a is None:\n",
    "            self.a = Vector2d()\n",
    "        else:\n",
    "            self.a = Vector2d(a)\n",
    "        \n",
    "        Atom.count += 1"
   ]
  },
  {
   "cell_type": "markdown",
   "metadata": {},
   "source": [
    "## Moleculalr Dynamics Class"
   ]
  },
  {
   "cell_type": "code",
   "execution_count": 24,
   "metadata": {},
   "outputs": [],
   "source": [
    "class MolecularDynamics:\n",
    "    def __init__(self, environment, mode='kinematics', dt=1, mols=None):\n",
    "        self.env = environment\n",
    "        if mols == None:\n",
    "            self.mols = [\n",
    "                Atom(0.1, [0.5,0], [1,1], [0,0]),\n",
    "                Atom(0.1, [0,0.3], [-1,1], [0,0]),\n",
    "                Atom(0.1, [1,1], [-1,-1], [0,0]),\n",
    "            ]\n",
    "        else:\n",
    "            self.mols = mols\n",
    "        self.dt = dt\n",
    "        self.mode = mode\n",
    "        if mode == 'kinematics':\n",
    "            pass\n",
    "        elif mode == 'dynamics':\n",
    "            pass\n",
    "        elif mode == 'molecular dynamics':\n",
    "            pass\n",
    "        \n",
    "\n",
    "    def leapfrog(self, part):\n",
    "        if part == 1:\n",
    "            for m in self.mols:\n",
    "                m.v = m.v + 0.5 * self.dt * m.a\n",
    "                m.r = m.r + self.dt * m.v\n",
    "        elif part == 2:\n",
    "            for m in self.mols:\n",
    "                m.v = m.v + 0.5 * self.dt * m.a\n",
    "    \n",
    "    def leapfrogs(self):\n",
    "        if self.mode == 'kinematics':\n",
    "            self.leapfrog(1)\n",
    "            self.leapfrog(2)\n",
    "        return ''\n",
    "    \n",
    "    def plot(self):\n",
    "        mols_x = [m.r.x for m in self.mols]\n",
    "        mols_y = [m.r.y for m in self.mols]\n",
    "        \n",
    "        trace = go.Scatter(\n",
    "            x = mols_x,\n",
    "            y = mols_y,\n",
    "            mode = 'markers+text',\n",
    "            text = list(map(str, list(range(1,len(self.mols)+1)))),\n",
    "            textposition='bottom right',\n",
    "            textfont=dict(\n",
    "                family='sans serif',\n",
    "                size=8,\n",
    "                color='#ff7f0e'\n",
    "            )\n",
    "        )\n",
    "        data = [trace]\n",
    "        # Plot and embed in ipython notebook!\n",
    "        iplot(data)"
   ]
  },
  {
   "cell_type": "markdown",
   "metadata": {},
   "source": [
    "# Launching"
   ]
  },
  {
   "cell_type": "code",
   "execution_count": 6,
   "metadata": {},
   "outputs": [
    {
     "data": {
      "application/vnd.plotly.v1+json": {
       "config": {
        "linkText": "Export to plot.ly",
        "plotlyServerURL": "https://plot.ly",
        "showLink": "basic"
       },
       "data": [
        {
         "line": {
          "color": "blue",
          "width": 2
         },
         "mode": "markers",
         "type": "scatter",
         "uid": "37aad145-23ea-4334-b937-cc0a81bca3e7",
         "x": [
          0.5,
          0,
          1
         ],
         "y": [
          0,
          0.3,
          1
         ]
        }
       ],
       "frames": [
        {
         "data": [
          {
           "marker": {
            "color": "red",
            "size": 10
           },
           "mode": "markers",
           "type": "scatter",
           "x": [
            0.5,
            0,
            1
           ],
           "y": [
            0,
            0.3,
            1
           ]
          }
         ]
        },
        {
         "data": [
          {
           "marker": {
            "color": "red",
            "size": 10
           },
           "mode": "markers",
           "type": "scatter",
           "x": [
            1.5,
            -1,
            0
           ],
           "y": [
            1,
            1.3,
            0
           ]
          }
         ]
        },
        {
         "data": [
          {
           "marker": {
            "color": "red",
            "size": 10
           },
           "mode": "markers",
           "type": "scatter",
           "x": [
            2.5,
            -2,
            -1
           ],
           "y": [
            2,
            2.3,
            -1
           ]
          }
         ]
        },
        {
         "data": [
          {
           "marker": {
            "color": "red",
            "size": 10
           },
           "mode": "markers",
           "type": "scatter",
           "x": [
            3.5,
            -3,
            -2
           ],
           "y": [
            3,
            3.3,
            -2
           ]
          }
         ]
        },
        {
         "data": [
          {
           "marker": {
            "color": "red",
            "size": 10
           },
           "mode": "markers",
           "type": "scatter",
           "x": [
            4.5,
            -4,
            -3
           ],
           "y": [
            4,
            4.3,
            -3
           ]
          }
         ]
        },
        {
         "data": [
          {
           "marker": {
            "color": "red",
            "size": 10
           },
           "mode": "markers",
           "type": "scatter",
           "x": [
            5.5,
            -5,
            -4
           ],
           "y": [
            5,
            5.3,
            -4
           ]
          }
         ]
        },
        {
         "data": [
          {
           "marker": {
            "color": "red",
            "size": 10
           },
           "mode": "markers",
           "type": "scatter",
           "x": [
            6.5,
            -6,
            -5
           ],
           "y": [
            6,
            6.3,
            -5
           ]
          }
         ]
        },
        {
         "data": [
          {
           "marker": {
            "color": "red",
            "size": 10
           },
           "mode": "markers",
           "type": "scatter",
           "x": [
            7.5,
            -7,
            -6
           ],
           "y": [
            7,
            7.3,
            -6
           ]
          }
         ]
        },
        {
         "data": [
          {
           "marker": {
            "color": "red",
            "size": 10
           },
           "mode": "markers",
           "type": "scatter",
           "x": [
            8.5,
            -8,
            -7
           ],
           "y": [
            8,
            8.3,
            -7
           ]
          }
         ]
        },
        {
         "data": [
          {
           "marker": {
            "color": "red",
            "size": 10
           },
           "mode": "markers",
           "type": "scatter",
           "x": [
            9.5,
            -9,
            -8
           ],
           "y": [
            9,
            9.3,
            -8
           ]
          }
         ]
        },
        {
         "data": [
          {
           "marker": {
            "color": "red",
            "size": 10
           },
           "mode": "markers",
           "type": "scatter",
           "x": [
            10.5,
            -10,
            -9
           ],
           "y": [
            10,
            10.3,
            -9
           ]
          }
         ]
        },
        {
         "data": [
          {
           "marker": {
            "color": "red",
            "size": 10
           },
           "mode": "markers",
           "type": "scatter",
           "x": [
            11.5,
            -11,
            -10
           ],
           "y": [
            11,
            11.3,
            -10
           ]
          }
         ]
        },
        {
         "data": [
          {
           "marker": {
            "color": "red",
            "size": 10
           },
           "mode": "markers",
           "type": "scatter",
           "x": [
            12.5,
            -12,
            -11
           ],
           "y": [
            12,
            12.3,
            -11
           ]
          }
         ]
        },
        {
         "data": [
          {
           "marker": {
            "color": "red",
            "size": 10
           },
           "mode": "markers",
           "type": "scatter",
           "x": [
            13.5,
            -13,
            -12
           ],
           "y": [
            13,
            13.3,
            -12
           ]
          }
         ]
        },
        {
         "data": [
          {
           "marker": {
            "color": "red",
            "size": 10
           },
           "mode": "markers",
           "type": "scatter",
           "x": [
            14.5,
            -14,
            -13
           ],
           "y": [
            14,
            14.3,
            -13
           ]
          }
         ]
        },
        {
         "data": [
          {
           "marker": {
            "color": "red",
            "size": 10
           },
           "mode": "markers",
           "type": "scatter",
           "x": [
            15.5,
            -15,
            -14
           ],
           "y": [
            15,
            15.3,
            -14
           ]
          }
         ]
        },
        {
         "data": [
          {
           "marker": {
            "color": "red",
            "size": 10
           },
           "mode": "markers",
           "type": "scatter",
           "x": [
            16.5,
            -16,
            -15
           ],
           "y": [
            16,
            16.3,
            -15
           ]
          }
         ]
        },
        {
         "data": [
          {
           "marker": {
            "color": "red",
            "size": 10
           },
           "mode": "markers",
           "type": "scatter",
           "x": [
            17.5,
            -17,
            -16
           ],
           "y": [
            17,
            17.3,
            -16
           ]
          }
         ]
        },
        {
         "data": [
          {
           "marker": {
            "color": "red",
            "size": 10
           },
           "mode": "markers",
           "type": "scatter",
           "x": [
            18.5,
            -18,
            -17
           ],
           "y": [
            18,
            18.3,
            -17
           ]
          }
         ]
        },
        {
         "data": [
          {
           "marker": {
            "color": "red",
            "size": 10
           },
           "mode": "markers",
           "type": "scatter",
           "x": [
            19.5,
            -19,
            -18
           ],
           "y": [
            19,
            19.3,
            -18
           ]
          }
         ]
        },
        {
         "data": [
          {
           "marker": {
            "color": "red",
            "size": 10
           },
           "mode": "markers",
           "type": "scatter",
           "x": [
            20.5,
            -20,
            -19
           ],
           "y": [
            20,
            20.3,
            -19
           ]
          }
         ]
        },
        {
         "data": [
          {
           "marker": {
            "color": "red",
            "size": 10
           },
           "mode": "markers",
           "type": "scatter",
           "x": [
            21.5,
            -21,
            -20
           ],
           "y": [
            21,
            21.3,
            -20
           ]
          }
         ]
        },
        {
         "data": [
          {
           "marker": {
            "color": "red",
            "size": 10
           },
           "mode": "markers",
           "type": "scatter",
           "x": [
            22.5,
            -22,
            -21
           ],
           "y": [
            22,
            22.3,
            -21
           ]
          }
         ]
        },
        {
         "data": [
          {
           "marker": {
            "color": "red",
            "size": 10
           },
           "mode": "markers",
           "type": "scatter",
           "x": [
            23.5,
            -23,
            -22
           ],
           "y": [
            23,
            23.3,
            -22
           ]
          }
         ]
        },
        {
         "data": [
          {
           "marker": {
            "color": "red",
            "size": 10
           },
           "mode": "markers",
           "type": "scatter",
           "x": [
            24.5,
            -24,
            -23
           ],
           "y": [
            24,
            24.3,
            -23
           ]
          }
         ]
        },
        {
         "data": [
          {
           "marker": {
            "color": "red",
            "size": 10
           },
           "mode": "markers",
           "type": "scatter",
           "x": [
            25.5,
            -25,
            -24
           ],
           "y": [
            25,
            25.3,
            -24
           ]
          }
         ]
        },
        {
         "data": [
          {
           "marker": {
            "color": "red",
            "size": 10
           },
           "mode": "markers",
           "type": "scatter",
           "x": [
            26.5,
            -26,
            -25
           ],
           "y": [
            26,
            26.3,
            -25
           ]
          }
         ]
        },
        {
         "data": [
          {
           "marker": {
            "color": "red",
            "size": 10
           },
           "mode": "markers",
           "type": "scatter",
           "x": [
            27.5,
            -27,
            -26
           ],
           "y": [
            27,
            27.3,
            -26
           ]
          }
         ]
        },
        {
         "data": [
          {
           "marker": {
            "color": "red",
            "size": 10
           },
           "mode": "markers",
           "type": "scatter",
           "x": [
            28.5,
            -28,
            -27
           ],
           "y": [
            28,
            28.3,
            -27
           ]
          }
         ]
        },
        {
         "data": [
          {
           "marker": {
            "color": "red",
            "size": 10
           },
           "mode": "markers",
           "type": "scatter",
           "x": [
            29.5,
            -29,
            -28
           ],
           "y": [
            29,
            29.3,
            -28
           ]
          }
         ]
        },
        {
         "data": [
          {
           "marker": {
            "color": "red",
            "size": 10
           },
           "mode": "markers",
           "type": "scatter",
           "x": [
            30.5,
            -30,
            -29
           ],
           "y": [
            30,
            30.3,
            -29
           ]
          }
         ]
        },
        {
         "data": [
          {
           "marker": {
            "color": "red",
            "size": 10
           },
           "mode": "markers",
           "type": "scatter",
           "x": [
            31.5,
            -31,
            -30
           ],
           "y": [
            31,
            31.3,
            -30
           ]
          }
         ]
        },
        {
         "data": [
          {
           "marker": {
            "color": "red",
            "size": 10
           },
           "mode": "markers",
           "type": "scatter",
           "x": [
            32.5,
            -32,
            -31
           ],
           "y": [
            32,
            32.3,
            -31
           ]
          }
         ]
        },
        {
         "data": [
          {
           "marker": {
            "color": "red",
            "size": 10
           },
           "mode": "markers",
           "type": "scatter",
           "x": [
            33.5,
            -33,
            -32
           ],
           "y": [
            33,
            33.3,
            -32
           ]
          }
         ]
        },
        {
         "data": [
          {
           "marker": {
            "color": "red",
            "size": 10
           },
           "mode": "markers",
           "type": "scatter",
           "x": [
            34.5,
            -34,
            -33
           ],
           "y": [
            34,
            34.3,
            -33
           ]
          }
         ]
        },
        {
         "data": [
          {
           "marker": {
            "color": "red",
            "size": 10
           },
           "mode": "markers",
           "type": "scatter",
           "x": [
            35.5,
            -35,
            -34
           ],
           "y": [
            35,
            35.3,
            -34
           ]
          }
         ]
        },
        {
         "data": [
          {
           "marker": {
            "color": "red",
            "size": 10
           },
           "mode": "markers",
           "type": "scatter",
           "x": [
            36.5,
            -36,
            -35
           ],
           "y": [
            36,
            36.3,
            -35
           ]
          }
         ]
        },
        {
         "data": [
          {
           "marker": {
            "color": "red",
            "size": 10
           },
           "mode": "markers",
           "type": "scatter",
           "x": [
            37.5,
            -37,
            -36
           ],
           "y": [
            37,
            37.3,
            -36
           ]
          }
         ]
        },
        {
         "data": [
          {
           "marker": {
            "color": "red",
            "size": 10
           },
           "mode": "markers",
           "type": "scatter",
           "x": [
            38.5,
            -38,
            -37
           ],
           "y": [
            38,
            38.3,
            -37
           ]
          }
         ]
        },
        {
         "data": [
          {
           "marker": {
            "color": "red",
            "size": 10
           },
           "mode": "markers",
           "type": "scatter",
           "x": [
            39.5,
            -39,
            -38
           ],
           "y": [
            39,
            39.3,
            -38
           ]
          }
         ]
        },
        {
         "data": [
          {
           "marker": {
            "color": "red",
            "size": 10
           },
           "mode": "markers",
           "type": "scatter",
           "x": [
            40.5,
            -40,
            -39
           ],
           "y": [
            40,
            40.3,
            -39
           ]
          }
         ]
        },
        {
         "data": [
          {
           "marker": {
            "color": "red",
            "size": 10
           },
           "mode": "markers",
           "type": "scatter",
           "x": [
            41.5,
            -41,
            -40
           ],
           "y": [
            41,
            41.3,
            -40
           ]
          }
         ]
        },
        {
         "data": [
          {
           "marker": {
            "color": "red",
            "size": 10
           },
           "mode": "markers",
           "type": "scatter",
           "x": [
            42.5,
            -42,
            -41
           ],
           "y": [
            42,
            42.3,
            -41
           ]
          }
         ]
        },
        {
         "data": [
          {
           "marker": {
            "color": "red",
            "size": 10
           },
           "mode": "markers",
           "type": "scatter",
           "x": [
            43.5,
            -43,
            -42
           ],
           "y": [
            43,
            43.3,
            -42
           ]
          }
         ]
        },
        {
         "data": [
          {
           "marker": {
            "color": "red",
            "size": 10
           },
           "mode": "markers",
           "type": "scatter",
           "x": [
            44.5,
            -44,
            -43
           ],
           "y": [
            44,
            44.3,
            -43
           ]
          }
         ]
        },
        {
         "data": [
          {
           "marker": {
            "color": "red",
            "size": 10
           },
           "mode": "markers",
           "type": "scatter",
           "x": [
            45.5,
            -45,
            -44
           ],
           "y": [
            45,
            45.3,
            -44
           ]
          }
         ]
        },
        {
         "data": [
          {
           "marker": {
            "color": "red",
            "size": 10
           },
           "mode": "markers",
           "type": "scatter",
           "x": [
            46.5,
            -46,
            -45
           ],
           "y": [
            46,
            46.3,
            -45
           ]
          }
         ]
        },
        {
         "data": [
          {
           "marker": {
            "color": "red",
            "size": 10
           },
           "mode": "markers",
           "type": "scatter",
           "x": [
            47.5,
            -47,
            -46
           ],
           "y": [
            47,
            47.3,
            -46
           ]
          }
         ]
        },
        {
         "data": [
          {
           "marker": {
            "color": "red",
            "size": 10
           },
           "mode": "markers",
           "type": "scatter",
           "x": [
            48.5,
            -48,
            -47
           ],
           "y": [
            48,
            48.3,
            -47
           ]
          }
         ]
        },
        {
         "data": [
          {
           "marker": {
            "color": "red",
            "size": 10
           },
           "mode": "markers",
           "type": "scatter",
           "x": [
            49.5,
            -49,
            -48
           ],
           "y": [
            49,
            49.3,
            -48
           ]
          }
         ]
        },
        {
         "data": [
          {
           "marker": {
            "color": "red",
            "size": 10
           },
           "mode": "markers",
           "type": "scatter",
           "x": [
            50.5,
            -50,
            -49
           ],
           "y": [
            50,
            50.3,
            -49
           ]
          }
         ]
        },
        {
         "data": [
          {
           "marker": {
            "color": "red",
            "size": 10
           },
           "mode": "markers",
           "type": "scatter",
           "x": [
            51.5,
            -51,
            -50
           ],
           "y": [
            51,
            51.3,
            -50
           ]
          }
         ]
        },
        {
         "data": [
          {
           "marker": {
            "color": "red",
            "size": 10
           },
           "mode": "markers",
           "type": "scatter",
           "x": [
            52.5,
            -52,
            -51
           ],
           "y": [
            52,
            52.3,
            -51
           ]
          }
         ]
        },
        {
         "data": [
          {
           "marker": {
            "color": "red",
            "size": 10
           },
           "mode": "markers",
           "type": "scatter",
           "x": [
            53.5,
            -53,
            -52
           ],
           "y": [
            53,
            53.3,
            -52
           ]
          }
         ]
        },
        {
         "data": [
          {
           "marker": {
            "color": "red",
            "size": 10
           },
           "mode": "markers",
           "type": "scatter",
           "x": [
            54.5,
            -54,
            -53
           ],
           "y": [
            54,
            54.3,
            -53
           ]
          }
         ]
        },
        {
         "data": [
          {
           "marker": {
            "color": "red",
            "size": 10
           },
           "mode": "markers",
           "type": "scatter",
           "x": [
            55.5,
            -55,
            -54
           ],
           "y": [
            55,
            55.3,
            -54
           ]
          }
         ]
        },
        {
         "data": [
          {
           "marker": {
            "color": "red",
            "size": 10
           },
           "mode": "markers",
           "type": "scatter",
           "x": [
            56.5,
            -56,
            -55
           ],
           "y": [
            56,
            56.3,
            -55
           ]
          }
         ]
        },
        {
         "data": [
          {
           "marker": {
            "color": "red",
            "size": 10
           },
           "mode": "markers",
           "type": "scatter",
           "x": [
            57.5,
            -57,
            -56
           ],
           "y": [
            57,
            57.3,
            -56
           ]
          }
         ]
        },
        {
         "data": [
          {
           "marker": {
            "color": "red",
            "size": 10
           },
           "mode": "markers",
           "type": "scatter",
           "x": [
            58.5,
            -58,
            -57
           ],
           "y": [
            58,
            58.3,
            -57
           ]
          }
         ]
        },
        {
         "data": [
          {
           "marker": {
            "color": "red",
            "size": 10
           },
           "mode": "markers",
           "type": "scatter",
           "x": [
            59.5,
            -59,
            -58
           ],
           "y": [
            59,
            59.3,
            -58
           ]
          }
         ]
        },
        {
         "data": [
          {
           "marker": {
            "color": "red",
            "size": 10
           },
           "mode": "markers",
           "type": "scatter",
           "x": [
            60.5,
            -60,
            -59
           ],
           "y": [
            60,
            60.3,
            -59
           ]
          }
         ]
        },
        {
         "data": [
          {
           "marker": {
            "color": "red",
            "size": 10
           },
           "mode": "markers",
           "type": "scatter",
           "x": [
            61.5,
            -61,
            -60
           ],
           "y": [
            61,
            61.3,
            -60
           ]
          }
         ]
        },
        {
         "data": [
          {
           "marker": {
            "color": "red",
            "size": 10
           },
           "mode": "markers",
           "type": "scatter",
           "x": [
            62.5,
            -62,
            -61
           ],
           "y": [
            62,
            62.3,
            -61
           ]
          }
         ]
        },
        {
         "data": [
          {
           "marker": {
            "color": "red",
            "size": 10
           },
           "mode": "markers",
           "type": "scatter",
           "x": [
            63.5,
            -63,
            -62
           ],
           "y": [
            63,
            63.3,
            -62
           ]
          }
         ]
        },
        {
         "data": [
          {
           "marker": {
            "color": "red",
            "size": 10
           },
           "mode": "markers",
           "type": "scatter",
           "x": [
            64.5,
            -64,
            -63
           ],
           "y": [
            64,
            64.3,
            -63
           ]
          }
         ]
        },
        {
         "data": [
          {
           "marker": {
            "color": "red",
            "size": 10
           },
           "mode": "markers",
           "type": "scatter",
           "x": [
            65.5,
            -65,
            -64
           ],
           "y": [
            65,
            65.3,
            -64
           ]
          }
         ]
        },
        {
         "data": [
          {
           "marker": {
            "color": "red",
            "size": 10
           },
           "mode": "markers",
           "type": "scatter",
           "x": [
            66.5,
            -66,
            -65
           ],
           "y": [
            66,
            66.3,
            -65
           ]
          }
         ]
        },
        {
         "data": [
          {
           "marker": {
            "color": "red",
            "size": 10
           },
           "mode": "markers",
           "type": "scatter",
           "x": [
            67.5,
            -67,
            -66
           ],
           "y": [
            67,
            67.3,
            -66
           ]
          }
         ]
        },
        {
         "data": [
          {
           "marker": {
            "color": "red",
            "size": 10
           },
           "mode": "markers",
           "type": "scatter",
           "x": [
            68.5,
            -68,
            -67
           ],
           "y": [
            68,
            68.3,
            -67
           ]
          }
         ]
        },
        {
         "data": [
          {
           "marker": {
            "color": "red",
            "size": 10
           },
           "mode": "markers",
           "type": "scatter",
           "x": [
            69.5,
            -69,
            -68
           ],
           "y": [
            69,
            69.3,
            -68
           ]
          }
         ]
        },
        {
         "data": [
          {
           "marker": {
            "color": "red",
            "size": 10
           },
           "mode": "markers",
           "type": "scatter",
           "x": [
            70.5,
            -70,
            -69
           ],
           "y": [
            70,
            70.3,
            -69
           ]
          }
         ]
        },
        {
         "data": [
          {
           "marker": {
            "color": "red",
            "size": 10
           },
           "mode": "markers",
           "type": "scatter",
           "x": [
            71.5,
            -71,
            -70
           ],
           "y": [
            71,
            71.3,
            -70
           ]
          }
         ]
        },
        {
         "data": [
          {
           "marker": {
            "color": "red",
            "size": 10
           },
           "mode": "markers",
           "type": "scatter",
           "x": [
            72.5,
            -72,
            -71
           ],
           "y": [
            72,
            72.3,
            -71
           ]
          }
         ]
        },
        {
         "data": [
          {
           "marker": {
            "color": "red",
            "size": 10
           },
           "mode": "markers",
           "type": "scatter",
           "x": [
            73.5,
            -73,
            -72
           ],
           "y": [
            73,
            73.3,
            -72
           ]
          }
         ]
        },
        {
         "data": [
          {
           "marker": {
            "color": "red",
            "size": 10
           },
           "mode": "markers",
           "type": "scatter",
           "x": [
            74.5,
            -74,
            -73
           ],
           "y": [
            74,
            74.3,
            -73
           ]
          }
         ]
        },
        {
         "data": [
          {
           "marker": {
            "color": "red",
            "size": 10
           },
           "mode": "markers",
           "type": "scatter",
           "x": [
            75.5,
            -75,
            -74
           ],
           "y": [
            75,
            75.3,
            -74
           ]
          }
         ]
        },
        {
         "data": [
          {
           "marker": {
            "color": "red",
            "size": 10
           },
           "mode": "markers",
           "type": "scatter",
           "x": [
            76.5,
            -76,
            -75
           ],
           "y": [
            76,
            76.3,
            -75
           ]
          }
         ]
        },
        {
         "data": [
          {
           "marker": {
            "color": "red",
            "size": 10
           },
           "mode": "markers",
           "type": "scatter",
           "x": [
            77.5,
            -77,
            -76
           ],
           "y": [
            77,
            77.3,
            -76
           ]
          }
         ]
        },
        {
         "data": [
          {
           "marker": {
            "color": "red",
            "size": 10
           },
           "mode": "markers",
           "type": "scatter",
           "x": [
            78.5,
            -78,
            -77
           ],
           "y": [
            78,
            78.3,
            -77
           ]
          }
         ]
        },
        {
         "data": [
          {
           "marker": {
            "color": "red",
            "size": 10
           },
           "mode": "markers",
           "type": "scatter",
           "x": [
            79.5,
            -79,
            -78
           ],
           "y": [
            79,
            79.3,
            -78
           ]
          }
         ]
        },
        {
         "data": [
          {
           "marker": {
            "color": "red",
            "size": 10
           },
           "mode": "markers",
           "type": "scatter",
           "x": [
            80.5,
            -80,
            -79
           ],
           "y": [
            80,
            80.3,
            -79
           ]
          }
         ]
        },
        {
         "data": [
          {
           "marker": {
            "color": "red",
            "size": 10
           },
           "mode": "markers",
           "type": "scatter",
           "x": [
            81.5,
            -81,
            -80
           ],
           "y": [
            81,
            81.3,
            -80
           ]
          }
         ]
        },
        {
         "data": [
          {
           "marker": {
            "color": "red",
            "size": 10
           },
           "mode": "markers",
           "type": "scatter",
           "x": [
            82.5,
            -82,
            -81
           ],
           "y": [
            82,
            82.3,
            -81
           ]
          }
         ]
        },
        {
         "data": [
          {
           "marker": {
            "color": "red",
            "size": 10
           },
           "mode": "markers",
           "type": "scatter",
           "x": [
            83.5,
            -83,
            -82
           ],
           "y": [
            83,
            83.3,
            -82
           ]
          }
         ]
        },
        {
         "data": [
          {
           "marker": {
            "color": "red",
            "size": 10
           },
           "mode": "markers",
           "type": "scatter",
           "x": [
            84.5,
            -84,
            -83
           ],
           "y": [
            84,
            84.3,
            -83
           ]
          }
         ]
        },
        {
         "data": [
          {
           "marker": {
            "color": "red",
            "size": 10
           },
           "mode": "markers",
           "type": "scatter",
           "x": [
            85.5,
            -85,
            -84
           ],
           "y": [
            85,
            85.3,
            -84
           ]
          }
         ]
        },
        {
         "data": [
          {
           "marker": {
            "color": "red",
            "size": 10
           },
           "mode": "markers",
           "type": "scatter",
           "x": [
            86.5,
            -86,
            -85
           ],
           "y": [
            86,
            86.3,
            -85
           ]
          }
         ]
        },
        {
         "data": [
          {
           "marker": {
            "color": "red",
            "size": 10
           },
           "mode": "markers",
           "type": "scatter",
           "x": [
            87.5,
            -87,
            -86
           ],
           "y": [
            87,
            87.3,
            -86
           ]
          }
         ]
        },
        {
         "data": [
          {
           "marker": {
            "color": "red",
            "size": 10
           },
           "mode": "markers",
           "type": "scatter",
           "x": [
            88.5,
            -88,
            -87
           ],
           "y": [
            88,
            88.3,
            -87
           ]
          }
         ]
        },
        {
         "data": [
          {
           "marker": {
            "color": "red",
            "size": 10
           },
           "mode": "markers",
           "type": "scatter",
           "x": [
            89.5,
            -89,
            -88
           ],
           "y": [
            89,
            89.3,
            -88
           ]
          }
         ]
        },
        {
         "data": [
          {
           "marker": {
            "color": "red",
            "size": 10
           },
           "mode": "markers",
           "type": "scatter",
           "x": [
            90.5,
            -90,
            -89
           ],
           "y": [
            90,
            90.3,
            -89
           ]
          }
         ]
        },
        {
         "data": [
          {
           "marker": {
            "color": "red",
            "size": 10
           },
           "mode": "markers",
           "type": "scatter",
           "x": [
            91.5,
            -91,
            -90
           ],
           "y": [
            91,
            91.3,
            -90
           ]
          }
         ]
        },
        {
         "data": [
          {
           "marker": {
            "color": "red",
            "size": 10
           },
           "mode": "markers",
           "type": "scatter",
           "x": [
            92.5,
            -92,
            -91
           ],
           "y": [
            92,
            92.3,
            -91
           ]
          }
         ]
        },
        {
         "data": [
          {
           "marker": {
            "color": "red",
            "size": 10
           },
           "mode": "markers",
           "type": "scatter",
           "x": [
            93.5,
            -93,
            -92
           ],
           "y": [
            93,
            93.3,
            -92
           ]
          }
         ]
        },
        {
         "data": [
          {
           "marker": {
            "color": "red",
            "size": 10
           },
           "mode": "markers",
           "type": "scatter",
           "x": [
            94.5,
            -94,
            -93
           ],
           "y": [
            94,
            94.3,
            -93
           ]
          }
         ]
        },
        {
         "data": [
          {
           "marker": {
            "color": "red",
            "size": 10
           },
           "mode": "markers",
           "type": "scatter",
           "x": [
            95.5,
            -95,
            -94
           ],
           "y": [
            95,
            95.3,
            -94
           ]
          }
         ]
        },
        {
         "data": [
          {
           "marker": {
            "color": "red",
            "size": 10
           },
           "mode": "markers",
           "type": "scatter",
           "x": [
            96.5,
            -96,
            -95
           ],
           "y": [
            96,
            96.3,
            -95
           ]
          }
         ]
        },
        {
         "data": [
          {
           "marker": {
            "color": "red",
            "size": 10
           },
           "mode": "markers",
           "type": "scatter",
           "x": [
            97.5,
            -97,
            -96
           ],
           "y": [
            97,
            97.3,
            -96
           ]
          }
         ]
        },
        {
         "data": [
          {
           "marker": {
            "color": "red",
            "size": 10
           },
           "mode": "markers",
           "type": "scatter",
           "x": [
            98.5,
            -98,
            -97
           ],
           "y": [
            98,
            98.3,
            -97
           ]
          }
         ]
        },
        {
         "data": [
          {
           "marker": {
            "color": "red",
            "size": 10
           },
           "mode": "markers",
           "type": "scatter",
           "x": [
            99.5,
            -99,
            -98
           ],
           "y": [
            99,
            99.3,
            -98
           ]
          }
         ]
        }
       ],
       "layout": {
        "hovermode": "closest",
        "title": {
         "text": "Kinematic Generation"
        },
        "xaxis": {
         "autorange": false,
         "range": [
          -10,
          10
         ],
         "zeroline": false
        },
        "yaxis": {
         "autorange": false,
         "range": [
          -10,
          10
         ],
         "scaleanchor": "x",
         "scaleratio": 1,
         "zeroline": false
        }
       }
      },
      "text/html": [
       "<div id=\"1bc6bf20-9628-4e6e-996b-a3e5dfbf7bba\" style=\"height: 525px; width: 100%;\" class=\"plotly-graph-div\"></div><script type=\"text/javascript\">require([\"plotly\"], function(Plotly) { window.PLOTLYENV=window.PLOTLYENV || {};window.PLOTLYENV.BASE_URL=\"https://plot.ly\";\n",
       "        Plotly.plot(\n",
       "            '1bc6bf20-9628-4e6e-996b-a3e5dfbf7bba',\n",
       "            [{\"line\": {\"color\": \"blue\", \"width\": 2}, \"mode\": \"markers\", \"x\": [0.5, 0.0, 1], \"y\": [0.0, 0.3, 1], \"type\": \"scatter\", \"uid\": \"07def601-67e5-42ff-ae32-2f101a2028dc\"}],\n",
       "            {\"hovermode\": \"closest\", \"title\": {\"text\": \"Kinematic Generation\"}, \"xaxis\": {\"autorange\": false, \"range\": [-10, 10], \"zeroline\": false}, \"yaxis\": {\"autorange\": false, \"range\": [-10, 10], \"scaleanchor\": \"x\", \"scaleratio\": 1, \"zeroline\": false}},\n",
       "            {\"showLink\": \"basic\", \"linkText\": \"Export to plot.ly\", \"plotlyServerURL\": \"https://plot.ly\"}\n",
       "        ).then(function () {return Plotly.addFrames('1bc6bf20-9628-4e6e-996b-a3e5dfbf7bba',[{\"data\": [{\"marker\": {\"color\": \"red\", \"size\": 10}, \"mode\": \"markers\", \"x\": [0.5, 0.0, 1], \"y\": [0.0, 0.3, 1], \"type\": \"scatter\"}]}, {\"data\": [{\"marker\": {\"color\": \"red\", \"size\": 10}, \"mode\": \"markers\", \"x\": [1.5, -1.0, 0.0], \"y\": [1.0, 1.3, 0.0], \"type\": \"scatter\"}]}, {\"data\": [{\"marker\": {\"color\": \"red\", \"size\": 10}, \"mode\": \"markers\", \"x\": [2.5, -2.0, -1.0], \"y\": [2.0, 2.3, -1.0], \"type\": \"scatter\"}]}, {\"data\": [{\"marker\": {\"color\": \"red\", \"size\": 10}, \"mode\": \"markers\", \"x\": [3.5, -3.0, -2.0], \"y\": [3.0, 3.3, -2.0], \"type\": \"scatter\"}]}, {\"data\": [{\"marker\": {\"color\": \"red\", \"size\": 10}, \"mode\": \"markers\", \"x\": [4.5, -4.0, -3.0], \"y\": [4.0, 4.3, -3.0], \"type\": \"scatter\"}]}, {\"data\": [{\"marker\": {\"color\": \"red\", \"size\": 10}, \"mode\": \"markers\", \"x\": [5.5, -5.0, -4.0], \"y\": [5.0, 5.3, -4.0], \"type\": \"scatter\"}]}, {\"data\": [{\"marker\": {\"color\": \"red\", \"size\": 10}, \"mode\": \"markers\", \"x\": [6.5, -6.0, -5.0], \"y\": [6.0, 6.3, -5.0], \"type\": \"scatter\"}]}, {\"data\": [{\"marker\": {\"color\": \"red\", \"size\": 10}, \"mode\": \"markers\", \"x\": [7.5, -7.0, -6.0], \"y\": [7.0, 7.3, -6.0], \"type\": \"scatter\"}]}, {\"data\": [{\"marker\": {\"color\": \"red\", \"size\": 10}, \"mode\": \"markers\", \"x\": [8.5, -8.0, -7.0], \"y\": [8.0, 8.3, -7.0], \"type\": \"scatter\"}]}, {\"data\": [{\"marker\": {\"color\": \"red\", \"size\": 10}, \"mode\": \"markers\", \"x\": [9.5, -9.0, -8.0], \"y\": [9.0, 9.3, -8.0], \"type\": \"scatter\"}]}, {\"data\": [{\"marker\": {\"color\": \"red\", \"size\": 10}, \"mode\": \"markers\", \"x\": [10.5, -10.0, -9.0], \"y\": [10.0, 10.3, -9.0], \"type\": \"scatter\"}]}, {\"data\": [{\"marker\": {\"color\": \"red\", \"size\": 10}, \"mode\": \"markers\", \"x\": [11.5, -11.0, -10.0], \"y\": [11.0, 11.3, -10.0], \"type\": \"scatter\"}]}, {\"data\": [{\"marker\": {\"color\": \"red\", \"size\": 10}, \"mode\": \"markers\", \"x\": [12.5, -12.0, -11.0], \"y\": [12.0, 12.3, -11.0], \"type\": \"scatter\"}]}, {\"data\": [{\"marker\": {\"color\": \"red\", \"size\": 10}, \"mode\": \"markers\", \"x\": [13.5, -13.0, -12.0], \"y\": [13.0, 13.3, -12.0], \"type\": \"scatter\"}]}, {\"data\": [{\"marker\": {\"color\": \"red\", \"size\": 10}, \"mode\": \"markers\", \"x\": [14.5, -14.0, -13.0], \"y\": [14.0, 14.3, -13.0], \"type\": \"scatter\"}]}, {\"data\": [{\"marker\": {\"color\": \"red\", \"size\": 10}, \"mode\": \"markers\", \"x\": [15.5, -15.0, -14.0], \"y\": [15.0, 15.3, -14.0], \"type\": \"scatter\"}]}, {\"data\": [{\"marker\": {\"color\": \"red\", \"size\": 10}, \"mode\": \"markers\", \"x\": [16.5, -16.0, -15.0], \"y\": [16.0, 16.3, -15.0], \"type\": \"scatter\"}]}, {\"data\": [{\"marker\": {\"color\": \"red\", \"size\": 10}, \"mode\": \"markers\", \"x\": [17.5, -17.0, -16.0], \"y\": [17.0, 17.3, -16.0], \"type\": \"scatter\"}]}, {\"data\": [{\"marker\": {\"color\": \"red\", \"size\": 10}, \"mode\": \"markers\", \"x\": [18.5, -18.0, -17.0], \"y\": [18.0, 18.3, -17.0], \"type\": \"scatter\"}]}, {\"data\": [{\"marker\": {\"color\": \"red\", \"size\": 10}, \"mode\": \"markers\", \"x\": [19.5, -19.0, -18.0], \"y\": [19.0, 19.3, -18.0], \"type\": \"scatter\"}]}, {\"data\": [{\"marker\": {\"color\": \"red\", \"size\": 10}, \"mode\": \"markers\", \"x\": [20.5, -20.0, -19.0], \"y\": [20.0, 20.3, -19.0], \"type\": \"scatter\"}]}, {\"data\": [{\"marker\": {\"color\": \"red\", \"size\": 10}, \"mode\": \"markers\", \"x\": [21.5, -21.0, -20.0], \"y\": [21.0, 21.3, -20.0], \"type\": \"scatter\"}]}, {\"data\": [{\"marker\": {\"color\": \"red\", \"size\": 10}, \"mode\": \"markers\", \"x\": [22.5, -22.0, -21.0], \"y\": [22.0, 22.3, -21.0], \"type\": \"scatter\"}]}, {\"data\": [{\"marker\": {\"color\": \"red\", \"size\": 10}, \"mode\": \"markers\", \"x\": [23.5, -23.0, -22.0], \"y\": [23.0, 23.3, -22.0], \"type\": \"scatter\"}]}, {\"data\": [{\"marker\": {\"color\": \"red\", \"size\": 10}, \"mode\": \"markers\", \"x\": [24.5, -24.0, -23.0], \"y\": [24.0, 24.3, -23.0], \"type\": \"scatter\"}]}, {\"data\": [{\"marker\": {\"color\": \"red\", \"size\": 10}, \"mode\": \"markers\", \"x\": [25.5, -25.0, -24.0], \"y\": [25.0, 25.3, -24.0], \"type\": \"scatter\"}]}, {\"data\": [{\"marker\": {\"color\": \"red\", \"size\": 10}, \"mode\": \"markers\", \"x\": [26.5, -26.0, -25.0], \"y\": [26.0, 26.3, -25.0], \"type\": \"scatter\"}]}, {\"data\": [{\"marker\": {\"color\": \"red\", \"size\": 10}, \"mode\": \"markers\", \"x\": [27.5, -27.0, -26.0], \"y\": [27.0, 27.3, -26.0], \"type\": \"scatter\"}]}, {\"data\": [{\"marker\": {\"color\": \"red\", \"size\": 10}, \"mode\": \"markers\", \"x\": [28.5, -28.0, -27.0], \"y\": [28.0, 28.3, -27.0], \"type\": \"scatter\"}]}, {\"data\": [{\"marker\": {\"color\": \"red\", \"size\": 10}, \"mode\": \"markers\", \"x\": [29.5, -29.0, -28.0], \"y\": [29.0, 29.3, -28.0], \"type\": \"scatter\"}]}, {\"data\": [{\"marker\": {\"color\": \"red\", \"size\": 10}, \"mode\": \"markers\", \"x\": [30.5, -30.0, -29.0], \"y\": [30.0, 30.3, -29.0], \"type\": \"scatter\"}]}, {\"data\": [{\"marker\": {\"color\": \"red\", \"size\": 10}, \"mode\": \"markers\", \"x\": [31.5, -31.0, -30.0], \"y\": [31.0, 31.3, -30.0], \"type\": \"scatter\"}]}, {\"data\": [{\"marker\": {\"color\": \"red\", \"size\": 10}, \"mode\": \"markers\", \"x\": [32.5, -32.0, -31.0], \"y\": [32.0, 32.3, -31.0], \"type\": \"scatter\"}]}, {\"data\": [{\"marker\": {\"color\": \"red\", \"size\": 10}, \"mode\": \"markers\", \"x\": [33.5, -33.0, -32.0], \"y\": [33.0, 33.3, -32.0], \"type\": \"scatter\"}]}, {\"data\": [{\"marker\": {\"color\": \"red\", \"size\": 10}, \"mode\": \"markers\", \"x\": [34.5, -34.0, -33.0], \"y\": [34.0, 34.3, -33.0], \"type\": \"scatter\"}]}, {\"data\": [{\"marker\": {\"color\": \"red\", \"size\": 10}, \"mode\": \"markers\", \"x\": [35.5, -35.0, -34.0], \"y\": [35.0, 35.3, -34.0], \"type\": \"scatter\"}]}, {\"data\": [{\"marker\": {\"color\": \"red\", \"size\": 10}, \"mode\": \"markers\", \"x\": [36.5, -36.0, -35.0], \"y\": [36.0, 36.3, -35.0], \"type\": \"scatter\"}]}, {\"data\": [{\"marker\": {\"color\": \"red\", \"size\": 10}, \"mode\": \"markers\", \"x\": [37.5, -37.0, -36.0], \"y\": [37.0, 37.3, -36.0], \"type\": \"scatter\"}]}, {\"data\": [{\"marker\": {\"color\": \"red\", \"size\": 10}, \"mode\": \"markers\", \"x\": [38.5, -38.0, -37.0], \"y\": [38.0, 38.3, -37.0], \"type\": \"scatter\"}]}, {\"data\": [{\"marker\": {\"color\": \"red\", \"size\": 10}, \"mode\": \"markers\", \"x\": [39.5, -39.0, -38.0], \"y\": [39.0, 39.3, -38.0], \"type\": \"scatter\"}]}, {\"data\": [{\"marker\": {\"color\": \"red\", \"size\": 10}, \"mode\": \"markers\", \"x\": [40.5, -40.0, -39.0], \"y\": [40.0, 40.3, -39.0], \"type\": \"scatter\"}]}, {\"data\": [{\"marker\": {\"color\": \"red\", \"size\": 10}, \"mode\": \"markers\", \"x\": [41.5, -41.0, -40.0], \"y\": [41.0, 41.3, -40.0], \"type\": \"scatter\"}]}, {\"data\": [{\"marker\": {\"color\": \"red\", \"size\": 10}, \"mode\": \"markers\", \"x\": [42.5, -42.0, -41.0], \"y\": [42.0, 42.3, -41.0], \"type\": \"scatter\"}]}, {\"data\": [{\"marker\": {\"color\": \"red\", \"size\": 10}, \"mode\": \"markers\", \"x\": [43.5, -43.0, -42.0], \"y\": [43.0, 43.3, -42.0], \"type\": \"scatter\"}]}, {\"data\": [{\"marker\": {\"color\": \"red\", \"size\": 10}, \"mode\": \"markers\", \"x\": [44.5, -44.0, -43.0], \"y\": [44.0, 44.3, -43.0], \"type\": \"scatter\"}]}, {\"data\": [{\"marker\": {\"color\": \"red\", \"size\": 10}, \"mode\": \"markers\", \"x\": [45.5, -45.0, -44.0], \"y\": [45.0, 45.3, -44.0], \"type\": \"scatter\"}]}, {\"data\": [{\"marker\": {\"color\": \"red\", \"size\": 10}, \"mode\": \"markers\", \"x\": [46.5, -46.0, -45.0], \"y\": [46.0, 46.3, -45.0], \"type\": \"scatter\"}]}, {\"data\": [{\"marker\": {\"color\": \"red\", \"size\": 10}, \"mode\": \"markers\", \"x\": [47.5, -47.0, -46.0], \"y\": [47.0, 47.3, -46.0], \"type\": \"scatter\"}]}, {\"data\": [{\"marker\": {\"color\": \"red\", \"size\": 10}, \"mode\": \"markers\", \"x\": [48.5, -48.0, -47.0], \"y\": [48.0, 48.3, -47.0], \"type\": \"scatter\"}]}, {\"data\": [{\"marker\": {\"color\": \"red\", \"size\": 10}, \"mode\": \"markers\", \"x\": [49.5, -49.0, -48.0], \"y\": [49.0, 49.3, -48.0], \"type\": \"scatter\"}]}, {\"data\": [{\"marker\": {\"color\": \"red\", \"size\": 10}, \"mode\": \"markers\", \"x\": [50.5, -50.0, -49.0], \"y\": [50.0, 50.3, -49.0], \"type\": \"scatter\"}]}, {\"data\": [{\"marker\": {\"color\": \"red\", \"size\": 10}, \"mode\": \"markers\", \"x\": [51.5, -51.0, -50.0], \"y\": [51.0, 51.3, -50.0], \"type\": \"scatter\"}]}, {\"data\": [{\"marker\": {\"color\": \"red\", \"size\": 10}, \"mode\": \"markers\", \"x\": [52.5, -52.0, -51.0], \"y\": [52.0, 52.3, -51.0], \"type\": \"scatter\"}]}, {\"data\": [{\"marker\": {\"color\": \"red\", \"size\": 10}, \"mode\": \"markers\", \"x\": [53.5, -53.0, -52.0], \"y\": [53.0, 53.3, -52.0], \"type\": \"scatter\"}]}, {\"data\": [{\"marker\": {\"color\": \"red\", \"size\": 10}, \"mode\": \"markers\", \"x\": [54.5, -54.0, -53.0], \"y\": [54.0, 54.3, -53.0], \"type\": \"scatter\"}]}, {\"data\": [{\"marker\": {\"color\": \"red\", \"size\": 10}, \"mode\": \"markers\", \"x\": [55.5, -55.0, -54.0], \"y\": [55.0, 55.3, -54.0], \"type\": \"scatter\"}]}, {\"data\": [{\"marker\": {\"color\": \"red\", \"size\": 10}, \"mode\": \"markers\", \"x\": [56.5, -56.0, -55.0], \"y\": [56.0, 56.3, -55.0], \"type\": \"scatter\"}]}, {\"data\": [{\"marker\": {\"color\": \"red\", \"size\": 10}, \"mode\": \"markers\", \"x\": [57.5, -57.0, -56.0], \"y\": [57.0, 57.3, -56.0], \"type\": \"scatter\"}]}, {\"data\": [{\"marker\": {\"color\": \"red\", \"size\": 10}, \"mode\": \"markers\", \"x\": [58.5, -58.0, -57.0], \"y\": [58.0, 58.3, -57.0], \"type\": \"scatter\"}]}, {\"data\": [{\"marker\": {\"color\": \"red\", \"size\": 10}, \"mode\": \"markers\", \"x\": [59.5, -59.0, -58.0], \"y\": [59.0, 59.3, -58.0], \"type\": \"scatter\"}]}, {\"data\": [{\"marker\": {\"color\": \"red\", \"size\": 10}, \"mode\": \"markers\", \"x\": [60.5, -60.0, -59.0], \"y\": [60.0, 60.3, -59.0], \"type\": \"scatter\"}]}, {\"data\": [{\"marker\": {\"color\": \"red\", \"size\": 10}, \"mode\": \"markers\", \"x\": [61.5, -61.0, -60.0], \"y\": [61.0, 61.3, -60.0], \"type\": \"scatter\"}]}, {\"data\": [{\"marker\": {\"color\": \"red\", \"size\": 10}, \"mode\": \"markers\", \"x\": [62.5, -62.0, -61.0], \"y\": [62.0, 62.3, -61.0], \"type\": \"scatter\"}]}, {\"data\": [{\"marker\": {\"color\": \"red\", \"size\": 10}, \"mode\": \"markers\", \"x\": [63.5, -63.0, -62.0], \"y\": [63.0, 63.3, -62.0], \"type\": \"scatter\"}]}, {\"data\": [{\"marker\": {\"color\": \"red\", \"size\": 10}, \"mode\": \"markers\", \"x\": [64.5, -64.0, -63.0], \"y\": [64.0, 64.3, -63.0], \"type\": \"scatter\"}]}, {\"data\": [{\"marker\": {\"color\": \"red\", \"size\": 10}, \"mode\": \"markers\", \"x\": [65.5, -65.0, -64.0], \"y\": [65.0, 65.3, -64.0], \"type\": \"scatter\"}]}, {\"data\": [{\"marker\": {\"color\": \"red\", \"size\": 10}, \"mode\": \"markers\", \"x\": [66.5, -66.0, -65.0], \"y\": [66.0, 66.3, -65.0], \"type\": \"scatter\"}]}, {\"data\": [{\"marker\": {\"color\": \"red\", \"size\": 10}, \"mode\": \"markers\", \"x\": [67.5, -67.0, -66.0], \"y\": [67.0, 67.3, -66.0], \"type\": \"scatter\"}]}, {\"data\": [{\"marker\": {\"color\": \"red\", \"size\": 10}, \"mode\": \"markers\", \"x\": [68.5, -68.0, -67.0], \"y\": [68.0, 68.3, -67.0], \"type\": \"scatter\"}]}, {\"data\": [{\"marker\": {\"color\": \"red\", \"size\": 10}, \"mode\": \"markers\", \"x\": [69.5, -69.0, -68.0], \"y\": [69.0, 69.3, -68.0], \"type\": \"scatter\"}]}, {\"data\": [{\"marker\": {\"color\": \"red\", \"size\": 10}, \"mode\": \"markers\", \"x\": [70.5, -70.0, -69.0], \"y\": [70.0, 70.3, -69.0], \"type\": \"scatter\"}]}, {\"data\": [{\"marker\": {\"color\": \"red\", \"size\": 10}, \"mode\": \"markers\", \"x\": [71.5, -71.0, -70.0], \"y\": [71.0, 71.3, -70.0], \"type\": \"scatter\"}]}, {\"data\": [{\"marker\": {\"color\": \"red\", \"size\": 10}, \"mode\": \"markers\", \"x\": [72.5, -72.0, -71.0], \"y\": [72.0, 72.3, -71.0], \"type\": \"scatter\"}]}, {\"data\": [{\"marker\": {\"color\": \"red\", \"size\": 10}, \"mode\": \"markers\", \"x\": [73.5, -73.0, -72.0], \"y\": [73.0, 73.3, -72.0], \"type\": \"scatter\"}]}, {\"data\": [{\"marker\": {\"color\": \"red\", \"size\": 10}, \"mode\": \"markers\", \"x\": [74.5, -74.0, -73.0], \"y\": [74.0, 74.3, -73.0], \"type\": \"scatter\"}]}, {\"data\": [{\"marker\": {\"color\": \"red\", \"size\": 10}, \"mode\": \"markers\", \"x\": [75.5, -75.0, -74.0], \"y\": [75.0, 75.3, -74.0], \"type\": \"scatter\"}]}, {\"data\": [{\"marker\": {\"color\": \"red\", \"size\": 10}, \"mode\": \"markers\", \"x\": [76.5, -76.0, -75.0], \"y\": [76.0, 76.3, -75.0], \"type\": \"scatter\"}]}, {\"data\": [{\"marker\": {\"color\": \"red\", \"size\": 10}, \"mode\": \"markers\", \"x\": [77.5, -77.0, -76.0], \"y\": [77.0, 77.3, -76.0], \"type\": \"scatter\"}]}, {\"data\": [{\"marker\": {\"color\": \"red\", \"size\": 10}, \"mode\": \"markers\", \"x\": [78.5, -78.0, -77.0], \"y\": [78.0, 78.3, -77.0], \"type\": \"scatter\"}]}, {\"data\": [{\"marker\": {\"color\": \"red\", \"size\": 10}, \"mode\": \"markers\", \"x\": [79.5, -79.0, -78.0], \"y\": [79.0, 79.3, -78.0], \"type\": \"scatter\"}]}, {\"data\": [{\"marker\": {\"color\": \"red\", \"size\": 10}, \"mode\": \"markers\", \"x\": [80.5, -80.0, -79.0], \"y\": [80.0, 80.3, -79.0], \"type\": \"scatter\"}]}, {\"data\": [{\"marker\": {\"color\": \"red\", \"size\": 10}, \"mode\": \"markers\", \"x\": [81.5, -81.0, -80.0], \"y\": [81.0, 81.3, -80.0], \"type\": \"scatter\"}]}, {\"data\": [{\"marker\": {\"color\": \"red\", \"size\": 10}, \"mode\": \"markers\", \"x\": [82.5, -82.0, -81.0], \"y\": [82.0, 82.3, -81.0], \"type\": \"scatter\"}]}, {\"data\": [{\"marker\": {\"color\": \"red\", \"size\": 10}, \"mode\": \"markers\", \"x\": [83.5, -83.0, -82.0], \"y\": [83.0, 83.3, -82.0], \"type\": \"scatter\"}]}, {\"data\": [{\"marker\": {\"color\": \"red\", \"size\": 10}, \"mode\": \"markers\", \"x\": [84.5, -84.0, -83.0], \"y\": [84.0, 84.3, -83.0], \"type\": \"scatter\"}]}, {\"data\": [{\"marker\": {\"color\": \"red\", \"size\": 10}, \"mode\": \"markers\", \"x\": [85.5, -85.0, -84.0], \"y\": [85.0, 85.3, -84.0], \"type\": \"scatter\"}]}, {\"data\": [{\"marker\": {\"color\": \"red\", \"size\": 10}, \"mode\": \"markers\", \"x\": [86.5, -86.0, -85.0], \"y\": [86.0, 86.3, -85.0], \"type\": \"scatter\"}]}, {\"data\": [{\"marker\": {\"color\": \"red\", \"size\": 10}, \"mode\": \"markers\", \"x\": [87.5, -87.0, -86.0], \"y\": [87.0, 87.3, -86.0], \"type\": \"scatter\"}]}, {\"data\": [{\"marker\": {\"color\": \"red\", \"size\": 10}, \"mode\": \"markers\", \"x\": [88.5, -88.0, -87.0], \"y\": [88.0, 88.3, -87.0], \"type\": \"scatter\"}]}, {\"data\": [{\"marker\": {\"color\": \"red\", \"size\": 10}, \"mode\": \"markers\", \"x\": [89.5, -89.0, -88.0], \"y\": [89.0, 89.3, -88.0], \"type\": \"scatter\"}]}, {\"data\": [{\"marker\": {\"color\": \"red\", \"size\": 10}, \"mode\": \"markers\", \"x\": [90.5, -90.0, -89.0], \"y\": [90.0, 90.3, -89.0], \"type\": \"scatter\"}]}, {\"data\": [{\"marker\": {\"color\": \"red\", \"size\": 10}, \"mode\": \"markers\", \"x\": [91.5, -91.0, -90.0], \"y\": [91.0, 91.3, -90.0], \"type\": \"scatter\"}]}, {\"data\": [{\"marker\": {\"color\": \"red\", \"size\": 10}, \"mode\": \"markers\", \"x\": [92.5, -92.0, -91.0], \"y\": [92.0, 92.3, -91.0], \"type\": \"scatter\"}]}, {\"data\": [{\"marker\": {\"color\": \"red\", \"size\": 10}, \"mode\": \"markers\", \"x\": [93.5, -93.0, -92.0], \"y\": [93.0, 93.3, -92.0], \"type\": \"scatter\"}]}, {\"data\": [{\"marker\": {\"color\": \"red\", \"size\": 10}, \"mode\": \"markers\", \"x\": [94.5, -94.0, -93.0], \"y\": [94.0, 94.3, -93.0], \"type\": \"scatter\"}]}, {\"data\": [{\"marker\": {\"color\": \"red\", \"size\": 10}, \"mode\": \"markers\", \"x\": [95.5, -95.0, -94.0], \"y\": [95.0, 95.3, -94.0], \"type\": \"scatter\"}]}, {\"data\": [{\"marker\": {\"color\": \"red\", \"size\": 10}, \"mode\": \"markers\", \"x\": [96.5, -96.0, -95.0], \"y\": [96.0, 96.3, -95.0], \"type\": \"scatter\"}]}, {\"data\": [{\"marker\": {\"color\": \"red\", \"size\": 10}, \"mode\": \"markers\", \"x\": [97.5, -97.0, -96.0], \"y\": [97.0, 97.3, -96.0], \"type\": \"scatter\"}]}, {\"data\": [{\"marker\": {\"color\": \"red\", \"size\": 10}, \"mode\": \"markers\", \"x\": [98.5, -98.0, -97.0], \"y\": [98.0, 98.3, -97.0], \"type\": \"scatter\"}]}, {\"data\": [{\"marker\": {\"color\": \"red\", \"size\": 10}, \"mode\": \"markers\", \"x\": [99.5, -99.0, -98.0], \"y\": [99.0, 99.3, -98.0], \"type\": \"scatter\"}]}]);}).then(function(){Plotly.animate('1bc6bf20-9628-4e6e-996b-a3e5dfbf7bba');})\n",
       "        });</script><script type=\"text/javascript\">window.addEventListener(\"resize\", function(){window._Plotly.Plots.resize(document.getElementById(\"1bc6bf20-9628-4e6e-996b-a3e5dfbf7bba\"));});</script>"
      ],
      "text/vnd.plotly.v1+html": [
       "<div id=\"1bc6bf20-9628-4e6e-996b-a3e5dfbf7bba\" style=\"height: 525px; width: 100%;\" class=\"plotly-graph-div\"></div><script type=\"text/javascript\">require([\"plotly\"], function(Plotly) { window.PLOTLYENV=window.PLOTLYENV || {};window.PLOTLYENV.BASE_URL=\"https://plot.ly\";\n",
       "        Plotly.plot(\n",
       "            '1bc6bf20-9628-4e6e-996b-a3e5dfbf7bba',\n",
       "            [{\"line\": {\"color\": \"blue\", \"width\": 2}, \"mode\": \"markers\", \"x\": [0.5, 0.0, 1], \"y\": [0.0, 0.3, 1], \"type\": \"scatter\", \"uid\": \"07def601-67e5-42ff-ae32-2f101a2028dc\"}],\n",
       "            {\"hovermode\": \"closest\", \"title\": {\"text\": \"Kinematic Generation\"}, \"xaxis\": {\"autorange\": false, \"range\": [-10, 10], \"zeroline\": false}, \"yaxis\": {\"autorange\": false, \"range\": [-10, 10], \"scaleanchor\": \"x\", \"scaleratio\": 1, \"zeroline\": false}},\n",
       "            {\"showLink\": \"basic\", \"linkText\": \"Export to plot.ly\", \"plotlyServerURL\": \"https://plot.ly\"}\n",
       "        ).then(function () {return Plotly.addFrames('1bc6bf20-9628-4e6e-996b-a3e5dfbf7bba',[{\"data\": [{\"marker\": {\"color\": \"red\", \"size\": 10}, \"mode\": \"markers\", \"x\": [0.5, 0.0, 1], \"y\": [0.0, 0.3, 1], \"type\": \"scatter\"}]}, {\"data\": [{\"marker\": {\"color\": \"red\", \"size\": 10}, \"mode\": \"markers\", \"x\": [1.5, -1.0, 0.0], \"y\": [1.0, 1.3, 0.0], \"type\": \"scatter\"}]}, {\"data\": [{\"marker\": {\"color\": \"red\", \"size\": 10}, \"mode\": \"markers\", \"x\": [2.5, -2.0, -1.0], \"y\": [2.0, 2.3, -1.0], \"type\": \"scatter\"}]}, {\"data\": [{\"marker\": {\"color\": \"red\", \"size\": 10}, \"mode\": \"markers\", \"x\": [3.5, -3.0, -2.0], \"y\": [3.0, 3.3, -2.0], \"type\": \"scatter\"}]}, {\"data\": [{\"marker\": {\"color\": \"red\", \"size\": 10}, \"mode\": \"markers\", \"x\": [4.5, -4.0, -3.0], \"y\": [4.0, 4.3, -3.0], \"type\": \"scatter\"}]}, {\"data\": [{\"marker\": {\"color\": \"red\", \"size\": 10}, \"mode\": \"markers\", \"x\": [5.5, -5.0, -4.0], \"y\": [5.0, 5.3, -4.0], \"type\": \"scatter\"}]}, {\"data\": [{\"marker\": {\"color\": \"red\", \"size\": 10}, \"mode\": \"markers\", \"x\": [6.5, -6.0, -5.0], \"y\": [6.0, 6.3, -5.0], \"type\": \"scatter\"}]}, {\"data\": [{\"marker\": {\"color\": \"red\", \"size\": 10}, \"mode\": \"markers\", \"x\": [7.5, -7.0, -6.0], \"y\": [7.0, 7.3, -6.0], \"type\": \"scatter\"}]}, {\"data\": [{\"marker\": {\"color\": \"red\", \"size\": 10}, \"mode\": \"markers\", \"x\": [8.5, -8.0, -7.0], \"y\": [8.0, 8.3, -7.0], \"type\": \"scatter\"}]}, {\"data\": [{\"marker\": {\"color\": \"red\", \"size\": 10}, \"mode\": \"markers\", \"x\": [9.5, -9.0, -8.0], \"y\": [9.0, 9.3, -8.0], \"type\": \"scatter\"}]}, {\"data\": [{\"marker\": {\"color\": \"red\", \"size\": 10}, \"mode\": \"markers\", \"x\": [10.5, -10.0, -9.0], \"y\": [10.0, 10.3, -9.0], \"type\": \"scatter\"}]}, {\"data\": [{\"marker\": {\"color\": \"red\", \"size\": 10}, \"mode\": \"markers\", \"x\": [11.5, -11.0, -10.0], \"y\": [11.0, 11.3, -10.0], \"type\": \"scatter\"}]}, {\"data\": [{\"marker\": {\"color\": \"red\", \"size\": 10}, \"mode\": \"markers\", \"x\": [12.5, -12.0, -11.0], \"y\": [12.0, 12.3, -11.0], \"type\": \"scatter\"}]}, {\"data\": [{\"marker\": {\"color\": \"red\", \"size\": 10}, \"mode\": \"markers\", \"x\": [13.5, -13.0, -12.0], \"y\": [13.0, 13.3, -12.0], \"type\": \"scatter\"}]}, {\"data\": [{\"marker\": {\"color\": \"red\", \"size\": 10}, \"mode\": \"markers\", \"x\": [14.5, -14.0, -13.0], \"y\": [14.0, 14.3, -13.0], \"type\": \"scatter\"}]}, {\"data\": [{\"marker\": {\"color\": \"red\", \"size\": 10}, \"mode\": \"markers\", \"x\": [15.5, -15.0, -14.0], \"y\": [15.0, 15.3, -14.0], \"type\": \"scatter\"}]}, {\"data\": [{\"marker\": {\"color\": \"red\", \"size\": 10}, \"mode\": \"markers\", \"x\": [16.5, -16.0, -15.0], \"y\": [16.0, 16.3, -15.0], \"type\": \"scatter\"}]}, {\"data\": [{\"marker\": {\"color\": \"red\", \"size\": 10}, \"mode\": \"markers\", \"x\": [17.5, -17.0, -16.0], \"y\": [17.0, 17.3, -16.0], \"type\": \"scatter\"}]}, {\"data\": [{\"marker\": {\"color\": \"red\", \"size\": 10}, \"mode\": \"markers\", \"x\": [18.5, -18.0, -17.0], \"y\": [18.0, 18.3, -17.0], \"type\": \"scatter\"}]}, {\"data\": [{\"marker\": {\"color\": \"red\", \"size\": 10}, \"mode\": \"markers\", \"x\": [19.5, -19.0, -18.0], \"y\": [19.0, 19.3, -18.0], \"type\": \"scatter\"}]}, {\"data\": [{\"marker\": {\"color\": \"red\", \"size\": 10}, \"mode\": \"markers\", \"x\": [20.5, -20.0, -19.0], \"y\": [20.0, 20.3, -19.0], \"type\": \"scatter\"}]}, {\"data\": [{\"marker\": {\"color\": \"red\", \"size\": 10}, \"mode\": \"markers\", \"x\": [21.5, -21.0, -20.0], \"y\": [21.0, 21.3, -20.0], \"type\": \"scatter\"}]}, {\"data\": [{\"marker\": {\"color\": \"red\", \"size\": 10}, \"mode\": \"markers\", \"x\": [22.5, -22.0, -21.0], \"y\": [22.0, 22.3, -21.0], \"type\": \"scatter\"}]}, {\"data\": [{\"marker\": {\"color\": \"red\", \"size\": 10}, \"mode\": \"markers\", \"x\": [23.5, -23.0, -22.0], \"y\": [23.0, 23.3, -22.0], \"type\": \"scatter\"}]}, {\"data\": [{\"marker\": {\"color\": \"red\", \"size\": 10}, \"mode\": \"markers\", \"x\": [24.5, -24.0, -23.0], \"y\": [24.0, 24.3, -23.0], \"type\": \"scatter\"}]}, {\"data\": [{\"marker\": {\"color\": \"red\", \"size\": 10}, \"mode\": \"markers\", \"x\": [25.5, -25.0, -24.0], \"y\": [25.0, 25.3, -24.0], \"type\": \"scatter\"}]}, {\"data\": [{\"marker\": {\"color\": \"red\", \"size\": 10}, \"mode\": \"markers\", \"x\": [26.5, -26.0, -25.0], \"y\": [26.0, 26.3, -25.0], \"type\": \"scatter\"}]}, {\"data\": [{\"marker\": {\"color\": \"red\", \"size\": 10}, \"mode\": \"markers\", \"x\": [27.5, -27.0, -26.0], \"y\": [27.0, 27.3, -26.0], \"type\": \"scatter\"}]}, {\"data\": [{\"marker\": {\"color\": \"red\", \"size\": 10}, \"mode\": \"markers\", \"x\": [28.5, -28.0, -27.0], \"y\": [28.0, 28.3, -27.0], \"type\": \"scatter\"}]}, {\"data\": [{\"marker\": {\"color\": \"red\", \"size\": 10}, \"mode\": \"markers\", \"x\": [29.5, -29.0, -28.0], \"y\": [29.0, 29.3, -28.0], \"type\": \"scatter\"}]}, {\"data\": [{\"marker\": {\"color\": \"red\", \"size\": 10}, \"mode\": \"markers\", \"x\": [30.5, -30.0, -29.0], \"y\": [30.0, 30.3, -29.0], \"type\": \"scatter\"}]}, {\"data\": [{\"marker\": {\"color\": \"red\", \"size\": 10}, \"mode\": \"markers\", \"x\": [31.5, -31.0, -30.0], \"y\": [31.0, 31.3, -30.0], \"type\": \"scatter\"}]}, {\"data\": [{\"marker\": {\"color\": \"red\", \"size\": 10}, \"mode\": \"markers\", \"x\": [32.5, -32.0, -31.0], \"y\": [32.0, 32.3, -31.0], \"type\": \"scatter\"}]}, {\"data\": [{\"marker\": {\"color\": \"red\", \"size\": 10}, \"mode\": \"markers\", \"x\": [33.5, -33.0, -32.0], \"y\": [33.0, 33.3, -32.0], \"type\": \"scatter\"}]}, {\"data\": [{\"marker\": {\"color\": \"red\", \"size\": 10}, \"mode\": \"markers\", \"x\": [34.5, -34.0, -33.0], \"y\": [34.0, 34.3, -33.0], \"type\": \"scatter\"}]}, {\"data\": [{\"marker\": {\"color\": \"red\", \"size\": 10}, \"mode\": \"markers\", \"x\": [35.5, -35.0, -34.0], \"y\": [35.0, 35.3, -34.0], \"type\": \"scatter\"}]}, {\"data\": [{\"marker\": {\"color\": \"red\", \"size\": 10}, \"mode\": \"markers\", \"x\": [36.5, -36.0, -35.0], \"y\": [36.0, 36.3, -35.0], \"type\": \"scatter\"}]}, {\"data\": [{\"marker\": {\"color\": \"red\", \"size\": 10}, \"mode\": \"markers\", \"x\": [37.5, -37.0, -36.0], \"y\": [37.0, 37.3, -36.0], \"type\": \"scatter\"}]}, {\"data\": [{\"marker\": {\"color\": \"red\", \"size\": 10}, \"mode\": \"markers\", \"x\": [38.5, -38.0, -37.0], \"y\": [38.0, 38.3, -37.0], \"type\": \"scatter\"}]}, {\"data\": [{\"marker\": {\"color\": \"red\", \"size\": 10}, \"mode\": \"markers\", \"x\": [39.5, -39.0, -38.0], \"y\": [39.0, 39.3, -38.0], \"type\": \"scatter\"}]}, {\"data\": [{\"marker\": {\"color\": \"red\", \"size\": 10}, \"mode\": \"markers\", \"x\": [40.5, -40.0, -39.0], \"y\": [40.0, 40.3, -39.0], \"type\": \"scatter\"}]}, {\"data\": [{\"marker\": {\"color\": \"red\", \"size\": 10}, \"mode\": \"markers\", \"x\": [41.5, -41.0, -40.0], \"y\": [41.0, 41.3, -40.0], \"type\": \"scatter\"}]}, {\"data\": [{\"marker\": {\"color\": \"red\", \"size\": 10}, \"mode\": \"markers\", \"x\": [42.5, -42.0, -41.0], \"y\": [42.0, 42.3, -41.0], \"type\": \"scatter\"}]}, {\"data\": [{\"marker\": {\"color\": \"red\", \"size\": 10}, \"mode\": \"markers\", \"x\": [43.5, -43.0, -42.0], \"y\": [43.0, 43.3, -42.0], \"type\": \"scatter\"}]}, {\"data\": [{\"marker\": {\"color\": \"red\", \"size\": 10}, \"mode\": \"markers\", \"x\": [44.5, -44.0, -43.0], \"y\": [44.0, 44.3, -43.0], \"type\": \"scatter\"}]}, {\"data\": [{\"marker\": {\"color\": \"red\", \"size\": 10}, \"mode\": \"markers\", \"x\": [45.5, -45.0, -44.0], \"y\": [45.0, 45.3, -44.0], \"type\": \"scatter\"}]}, {\"data\": [{\"marker\": {\"color\": \"red\", \"size\": 10}, \"mode\": \"markers\", \"x\": [46.5, -46.0, -45.0], \"y\": [46.0, 46.3, -45.0], \"type\": \"scatter\"}]}, {\"data\": [{\"marker\": {\"color\": \"red\", \"size\": 10}, \"mode\": \"markers\", \"x\": [47.5, -47.0, -46.0], \"y\": [47.0, 47.3, -46.0], \"type\": \"scatter\"}]}, {\"data\": [{\"marker\": {\"color\": \"red\", \"size\": 10}, \"mode\": \"markers\", \"x\": [48.5, -48.0, -47.0], \"y\": [48.0, 48.3, -47.0], \"type\": \"scatter\"}]}, {\"data\": [{\"marker\": {\"color\": \"red\", \"size\": 10}, \"mode\": \"markers\", \"x\": [49.5, -49.0, -48.0], \"y\": [49.0, 49.3, -48.0], \"type\": \"scatter\"}]}, {\"data\": [{\"marker\": {\"color\": \"red\", \"size\": 10}, \"mode\": \"markers\", \"x\": [50.5, -50.0, -49.0], \"y\": [50.0, 50.3, -49.0], \"type\": \"scatter\"}]}, {\"data\": [{\"marker\": {\"color\": \"red\", \"size\": 10}, \"mode\": \"markers\", \"x\": [51.5, -51.0, -50.0], \"y\": [51.0, 51.3, -50.0], \"type\": \"scatter\"}]}, {\"data\": [{\"marker\": {\"color\": \"red\", \"size\": 10}, \"mode\": \"markers\", \"x\": [52.5, -52.0, -51.0], \"y\": [52.0, 52.3, -51.0], \"type\": \"scatter\"}]}, {\"data\": [{\"marker\": {\"color\": \"red\", \"size\": 10}, \"mode\": \"markers\", \"x\": [53.5, -53.0, -52.0], \"y\": [53.0, 53.3, -52.0], \"type\": \"scatter\"}]}, {\"data\": [{\"marker\": {\"color\": \"red\", \"size\": 10}, \"mode\": \"markers\", \"x\": [54.5, -54.0, -53.0], \"y\": [54.0, 54.3, -53.0], \"type\": \"scatter\"}]}, {\"data\": [{\"marker\": {\"color\": \"red\", \"size\": 10}, \"mode\": \"markers\", \"x\": [55.5, -55.0, -54.0], \"y\": [55.0, 55.3, -54.0], \"type\": \"scatter\"}]}, {\"data\": [{\"marker\": {\"color\": \"red\", \"size\": 10}, \"mode\": \"markers\", \"x\": [56.5, -56.0, -55.0], \"y\": [56.0, 56.3, -55.0], \"type\": \"scatter\"}]}, {\"data\": [{\"marker\": {\"color\": \"red\", \"size\": 10}, \"mode\": \"markers\", \"x\": [57.5, -57.0, -56.0], \"y\": [57.0, 57.3, -56.0], \"type\": \"scatter\"}]}, {\"data\": [{\"marker\": {\"color\": \"red\", \"size\": 10}, \"mode\": \"markers\", \"x\": [58.5, -58.0, -57.0], \"y\": [58.0, 58.3, -57.0], \"type\": \"scatter\"}]}, {\"data\": [{\"marker\": {\"color\": \"red\", \"size\": 10}, \"mode\": \"markers\", \"x\": [59.5, -59.0, -58.0], \"y\": [59.0, 59.3, -58.0], \"type\": \"scatter\"}]}, {\"data\": [{\"marker\": {\"color\": \"red\", \"size\": 10}, \"mode\": \"markers\", \"x\": [60.5, -60.0, -59.0], \"y\": [60.0, 60.3, -59.0], \"type\": \"scatter\"}]}, {\"data\": [{\"marker\": {\"color\": \"red\", \"size\": 10}, \"mode\": \"markers\", \"x\": [61.5, -61.0, -60.0], \"y\": [61.0, 61.3, -60.0], \"type\": \"scatter\"}]}, {\"data\": [{\"marker\": {\"color\": \"red\", \"size\": 10}, \"mode\": \"markers\", \"x\": [62.5, -62.0, -61.0], \"y\": [62.0, 62.3, -61.0], \"type\": \"scatter\"}]}, {\"data\": [{\"marker\": {\"color\": \"red\", \"size\": 10}, \"mode\": \"markers\", \"x\": [63.5, -63.0, -62.0], \"y\": [63.0, 63.3, -62.0], \"type\": \"scatter\"}]}, {\"data\": [{\"marker\": {\"color\": \"red\", \"size\": 10}, \"mode\": \"markers\", \"x\": [64.5, -64.0, -63.0], \"y\": [64.0, 64.3, -63.0], \"type\": \"scatter\"}]}, {\"data\": [{\"marker\": {\"color\": \"red\", \"size\": 10}, \"mode\": \"markers\", \"x\": [65.5, -65.0, -64.0], \"y\": [65.0, 65.3, -64.0], \"type\": \"scatter\"}]}, {\"data\": [{\"marker\": {\"color\": \"red\", \"size\": 10}, \"mode\": \"markers\", \"x\": [66.5, -66.0, -65.0], \"y\": [66.0, 66.3, -65.0], \"type\": \"scatter\"}]}, {\"data\": [{\"marker\": {\"color\": \"red\", \"size\": 10}, \"mode\": \"markers\", \"x\": [67.5, -67.0, -66.0], \"y\": [67.0, 67.3, -66.0], \"type\": \"scatter\"}]}, {\"data\": [{\"marker\": {\"color\": \"red\", \"size\": 10}, \"mode\": \"markers\", \"x\": [68.5, -68.0, -67.0], \"y\": [68.0, 68.3, -67.0], \"type\": \"scatter\"}]}, {\"data\": [{\"marker\": {\"color\": \"red\", \"size\": 10}, \"mode\": \"markers\", \"x\": [69.5, -69.0, -68.0], \"y\": [69.0, 69.3, -68.0], \"type\": \"scatter\"}]}, {\"data\": [{\"marker\": {\"color\": \"red\", \"size\": 10}, \"mode\": \"markers\", \"x\": [70.5, -70.0, -69.0], \"y\": [70.0, 70.3, -69.0], \"type\": \"scatter\"}]}, {\"data\": [{\"marker\": {\"color\": \"red\", \"size\": 10}, \"mode\": \"markers\", \"x\": [71.5, -71.0, -70.0], \"y\": [71.0, 71.3, -70.0], \"type\": \"scatter\"}]}, {\"data\": [{\"marker\": {\"color\": \"red\", \"size\": 10}, \"mode\": \"markers\", \"x\": [72.5, -72.0, -71.0], \"y\": [72.0, 72.3, -71.0], \"type\": \"scatter\"}]}, {\"data\": [{\"marker\": {\"color\": \"red\", \"size\": 10}, \"mode\": \"markers\", \"x\": [73.5, -73.0, -72.0], \"y\": [73.0, 73.3, -72.0], \"type\": \"scatter\"}]}, {\"data\": [{\"marker\": {\"color\": \"red\", \"size\": 10}, \"mode\": \"markers\", \"x\": [74.5, -74.0, -73.0], \"y\": [74.0, 74.3, -73.0], \"type\": \"scatter\"}]}, {\"data\": [{\"marker\": {\"color\": \"red\", \"size\": 10}, \"mode\": \"markers\", \"x\": [75.5, -75.0, -74.0], \"y\": [75.0, 75.3, -74.0], \"type\": \"scatter\"}]}, {\"data\": [{\"marker\": {\"color\": \"red\", \"size\": 10}, \"mode\": \"markers\", \"x\": [76.5, -76.0, -75.0], \"y\": [76.0, 76.3, -75.0], \"type\": \"scatter\"}]}, {\"data\": [{\"marker\": {\"color\": \"red\", \"size\": 10}, \"mode\": \"markers\", \"x\": [77.5, -77.0, -76.0], \"y\": [77.0, 77.3, -76.0], \"type\": \"scatter\"}]}, {\"data\": [{\"marker\": {\"color\": \"red\", \"size\": 10}, \"mode\": \"markers\", \"x\": [78.5, -78.0, -77.0], \"y\": [78.0, 78.3, -77.0], \"type\": \"scatter\"}]}, {\"data\": [{\"marker\": {\"color\": \"red\", \"size\": 10}, \"mode\": \"markers\", \"x\": [79.5, -79.0, -78.0], \"y\": [79.0, 79.3, -78.0], \"type\": \"scatter\"}]}, {\"data\": [{\"marker\": {\"color\": \"red\", \"size\": 10}, \"mode\": \"markers\", \"x\": [80.5, -80.0, -79.0], \"y\": [80.0, 80.3, -79.0], \"type\": \"scatter\"}]}, {\"data\": [{\"marker\": {\"color\": \"red\", \"size\": 10}, \"mode\": \"markers\", \"x\": [81.5, -81.0, -80.0], \"y\": [81.0, 81.3, -80.0], \"type\": \"scatter\"}]}, {\"data\": [{\"marker\": {\"color\": \"red\", \"size\": 10}, \"mode\": \"markers\", \"x\": [82.5, -82.0, -81.0], \"y\": [82.0, 82.3, -81.0], \"type\": \"scatter\"}]}, {\"data\": [{\"marker\": {\"color\": \"red\", \"size\": 10}, \"mode\": \"markers\", \"x\": [83.5, -83.0, -82.0], \"y\": [83.0, 83.3, -82.0], \"type\": \"scatter\"}]}, {\"data\": [{\"marker\": {\"color\": \"red\", \"size\": 10}, \"mode\": \"markers\", \"x\": [84.5, -84.0, -83.0], \"y\": [84.0, 84.3, -83.0], \"type\": \"scatter\"}]}, {\"data\": [{\"marker\": {\"color\": \"red\", \"size\": 10}, \"mode\": \"markers\", \"x\": [85.5, -85.0, -84.0], \"y\": [85.0, 85.3, -84.0], \"type\": \"scatter\"}]}, {\"data\": [{\"marker\": {\"color\": \"red\", \"size\": 10}, \"mode\": \"markers\", \"x\": [86.5, -86.0, -85.0], \"y\": [86.0, 86.3, -85.0], \"type\": \"scatter\"}]}, {\"data\": [{\"marker\": {\"color\": \"red\", \"size\": 10}, \"mode\": \"markers\", \"x\": [87.5, -87.0, -86.0], \"y\": [87.0, 87.3, -86.0], \"type\": \"scatter\"}]}, {\"data\": [{\"marker\": {\"color\": \"red\", \"size\": 10}, \"mode\": \"markers\", \"x\": [88.5, -88.0, -87.0], \"y\": [88.0, 88.3, -87.0], \"type\": \"scatter\"}]}, {\"data\": [{\"marker\": {\"color\": \"red\", \"size\": 10}, \"mode\": \"markers\", \"x\": [89.5, -89.0, -88.0], \"y\": [89.0, 89.3, -88.0], \"type\": \"scatter\"}]}, {\"data\": [{\"marker\": {\"color\": \"red\", \"size\": 10}, \"mode\": \"markers\", \"x\": [90.5, -90.0, -89.0], \"y\": [90.0, 90.3, -89.0], \"type\": \"scatter\"}]}, {\"data\": [{\"marker\": {\"color\": \"red\", \"size\": 10}, \"mode\": \"markers\", \"x\": [91.5, -91.0, -90.0], \"y\": [91.0, 91.3, -90.0], \"type\": \"scatter\"}]}, {\"data\": [{\"marker\": {\"color\": \"red\", \"size\": 10}, \"mode\": \"markers\", \"x\": [92.5, -92.0, -91.0], \"y\": [92.0, 92.3, -91.0], \"type\": \"scatter\"}]}, {\"data\": [{\"marker\": {\"color\": \"red\", \"size\": 10}, \"mode\": \"markers\", \"x\": [93.5, -93.0, -92.0], \"y\": [93.0, 93.3, -92.0], \"type\": \"scatter\"}]}, {\"data\": [{\"marker\": {\"color\": \"red\", \"size\": 10}, \"mode\": \"markers\", \"x\": [94.5, -94.0, -93.0], \"y\": [94.0, 94.3, -93.0], \"type\": \"scatter\"}]}, {\"data\": [{\"marker\": {\"color\": \"red\", \"size\": 10}, \"mode\": \"markers\", \"x\": [95.5, -95.0, -94.0], \"y\": [95.0, 95.3, -94.0], \"type\": \"scatter\"}]}, {\"data\": [{\"marker\": {\"color\": \"red\", \"size\": 10}, \"mode\": \"markers\", \"x\": [96.5, -96.0, -95.0], \"y\": [96.0, 96.3, -95.0], \"type\": \"scatter\"}]}, {\"data\": [{\"marker\": {\"color\": \"red\", \"size\": 10}, \"mode\": \"markers\", \"x\": [97.5, -97.0, -96.0], \"y\": [97.0, 97.3, -96.0], \"type\": \"scatter\"}]}, {\"data\": [{\"marker\": {\"color\": \"red\", \"size\": 10}, \"mode\": \"markers\", \"x\": [98.5, -98.0, -97.0], \"y\": [98.0, 98.3, -97.0], \"type\": \"scatter\"}]}, {\"data\": [{\"marker\": {\"color\": \"red\", \"size\": 10}, \"mode\": \"markers\", \"x\": [99.5, -99.0, -98.0], \"y\": [99.0, 99.3, -98.0], \"type\": \"scatter\"}]}]);}).then(function(){Plotly.animate('1bc6bf20-9628-4e6e-996b-a3e5dfbf7bba');})\n",
       "        });</script><script type=\"text/javascript\">window.addEventListener(\"resize\", function(){window._Plotly.Plots.resize(document.getElementById(\"1bc6bf20-9628-4e6e-996b-a3e5dfbf7bba\"));});</script>"
      ]
     },
     "metadata": {},
     "output_type": "display_data"
    },
    {
     "data": {
      "text/plain": [
       "3"
      ]
     },
     "execution_count": 6,
     "metadata": {},
     "output_type": "execute_result"
    }
   ],
   "source": [
    "launch = True\n",
    "if launch == True:\n",
    "    env = Environment(10, 10)\n",
    "    md = MolecularDynamics(env, mode='kinematics')\n",
    "    # [(md.plot(), md.leapfrog(1), md.leapfrog(2)) for i in range(12)]\n",
    "\n",
    "    mols_x = [m.r.x for m in md.mols]\n",
    "    mols_y = [m.r.y for m in md.mols]\n",
    "\n",
    "    data=[dict(x=mols_x, y=mols_y, \n",
    "               mode='markers', \n",
    "               line=dict(width=2, color='blue')\n",
    "              ),\n",
    "        ]\n",
    "\n",
    "    layout=dict(xaxis=dict(range=[-10, 10], autorange=False, zeroline=False),\n",
    "                yaxis=dict(range=[-10, 10], autorange=False, zeroline=False, scaleanchor=\"x\", scaleratio=1),\n",
    "                title='Kinematic Generation',\n",
    "                hovermode='closest',\n",
    "               )\n",
    "\n",
    "    frames=[dict(\n",
    "        data=[dict(x=[m.r.x for m in md.mols],\n",
    "                   y=[m.r.y for m in md.mols], \n",
    "                   mode='markers' + md.leapfrogs(),\n",
    "                   marker=dict(color='red', size=10)\n",
    "                  )\n",
    "                      ]) for k in range(100)] \n",
    "\n",
    "    figure=dict(data=data, layout=layout, frames=frames)          \n",
    "    iplot(figure, 'basic')\n",
    "\n",
    "Atom.count"
   ]
  },
  {
   "cell_type": "markdown",
   "metadata": {},
   "source": [
    "# Unit Testing"
   ]
  },
  {
   "cell_type": "markdown",
   "metadata": {},
   "source": [
    "## Vector Class"
   ]
  },
  {
   "cell_type": "code",
   "execution_count": 7,
   "metadata": {},
   "outputs": [
    {
     "name": "stderr",
     "output_type": "stream",
     "text": [
      "............."
     ]
    },
    {
     "name": "stdout",
     "output_type": "stream",
     "text": [
      "Make sure that the vectors are different:\n",
      " [array([0.74183406, 0.76542199]), array([0.84194705, 0.85588764]), array([0.85820177, 0.69640784])]\n"
     ]
    },
    {
     "name": "stderr",
     "output_type": "stream",
     "text": [
      "\n",
      "----------------------------------------------------------------------\n",
      "Ran 13 tests in 0.016s\n",
      "\n",
      "OK\n"
     ]
    }
   ],
   "source": [
    "class VectorTest(unittest.TestCase):\n",
    "    def setUp(self):\n",
    "        self.arr = [Vector2d(), Vector2d(), Vector2d()]\n",
    "        self.v2 = Vector2d([3,4.4])\n",
    "        \n",
    "    def test_coords(self):\n",
    "        self.assertEqual(np.testing.assert_array_equal(np.array([3,4.4]), self.v2._coords), None)\n",
    "        \n",
    "    def test_random_vectors(self):\n",
    "        print('Make sure that the vectors are different:\\n',[v._coords for v in self.arr])\n",
    "        self.assertEqual(9,9)\n",
    "\n",
    "\n",
    "class VectorGetSet(unittest.TestCase):\n",
    "    def setUp(self):\n",
    "        self.v = Vector2d([10.2, 4.154])\n",
    "    \n",
    "    def test_set(self):\n",
    "        self.v.x = 3\n",
    "        self.v.y = 5\n",
    "        self.assertEqual(np.testing.assert_array_equal(np.array([3,5]), self.v._coords), None)\n",
    "\n",
    "    def test_get(self):\n",
    "        self.assertEqual(self.v.x, 10.2)\n",
    "        self.assertEqual(self.v.y, 4.154)\n",
    "\n",
    "\n",
    "\n",
    "class VectorTestStrRepr(unittest.TestCase):\n",
    "    def setUp(self):\n",
    "        self.v = Vector2d([22.351355, -44.343143])\n",
    "        \n",
    "    def test_str(self):\n",
    "        self.assertEqual(str(self.v), '[22.351, -44.343] Vector2d')\n",
    "        \n",
    "    def test_repr(self):\n",
    "        self.assertEqual((self.v.__repr__()), '[22.351355, -44.343143] Vector2d')\n",
    "\n",
    "\n",
    "class VectorEquality(unittest.TestCase):\n",
    "    def setUp(self):\n",
    "        self.v1 = Vector2d([22.351355, -44.343143])\n",
    "        self.v2 = Vector2d([22.351355, -44.343143])\n",
    "        self.v3 = Vector2d([33.3, -22.343143])\n",
    "        \n",
    "    def test_eq(self):\n",
    "        '''testing __eq__ method\n",
    "        '''\n",
    "        self.assertEqual(self.v1, self.v2)\n",
    "        \n",
    "    def test_neq(self):\n",
    "        self.assertNotEqual(self.v1, self.v3)\n",
    "\n",
    "\n",
    "class VectorAddition(unittest.TestCase):\n",
    "    def setUp(self):\n",
    "        self.v1 = Vector2d([22.3, -44])\n",
    "        self.v2 = Vector2d([2,4])\n",
    "        \n",
    "    def test_add(self):\n",
    "        result = Vector2d([24.3, -40])\n",
    "        self.assertEqual(self.v1 + self.v2, result)\n",
    "\n",
    "\n",
    "class VectorSubtraction(unittest.TestCase):\n",
    "    def setUp(self):\n",
    "        self.v1 = Vector2d([22.3, -44])\n",
    "        self.v2 = Vector2d([2,4])\n",
    "        \n",
    "    def test_add(self):\n",
    "        result = Vector2d([20.3, -48])\n",
    "        self.assertEqual(self.v1 - self.v2, result)\n",
    "        \n",
    "\n",
    "class VectorDot(unittest.TestCase):\n",
    "    def setUp(self):\n",
    "        self.v1 = Vector2d([11, -12])\n",
    "        self.v2 = Vector2d([2,4])\n",
    "        \n",
    "    def test_dot(self):\n",
    "        result = 11*2 - 12*4\n",
    "        self.assertEqual(Vector2d.dot(self.v1, self.v2), result)    \n",
    "\n",
    "\n",
    "class VectorDistance(unittest.TestCase):\n",
    "    def setUp(self):\n",
    "        self.v1 = Vector2d([11,-7])\n",
    "        self.v2 = Vector2d([7,-4])\n",
    "\n",
    "    def test_dist(self):\n",
    "        result = 11*7 + 7*4\n",
    "        self.assertEqual(Vector2d.dot(self.v1, self.v2), result)\n",
    "        self.assertEqual(Vector2d.distance(self.v1, self.v2), 5)\n",
    "\n",
    "\n",
    "class VectorRMul(unittest.TestCase):\n",
    "    def setUp(self):\n",
    "        self.v = Vector2d([11,-7])\n",
    "        self.scalar = -2\n",
    "        \n",
    "    def test_rmul(self):\n",
    "        self.assertEqual(self.scalar * self.v, Vector2d([-22,14]))\n",
    "\n",
    "        \n",
    "        \n",
    "unittest.main(argv=['first-arg-is-ignored'], exit=False);"
   ]
  },
  {
   "cell_type": "markdown",
   "metadata": {},
   "source": [
    "## Environment Class"
   ]
  },
  {
   "cell_type": "code",
   "execution_count": 8,
   "metadata": {},
   "outputs": [
    {
     "name": "stderr",
     "output_type": "stream",
     "text": [
      ".............."
     ]
    },
    {
     "name": "stdout",
     "output_type": "stream",
     "text": [
      "Make sure that the vectors are different:\n",
      " [array([0.41331678, 0.62870364]), array([0.31280266, 0.92206109]), array([0.12168709, 0.55402106])]\n"
     ]
    },
    {
     "name": "stderr",
     "output_type": "stream",
     "text": [
      "\n",
      "----------------------------------------------------------------------\n",
      "Ran 14 tests in 0.030s\n",
      "\n",
      "OK\n"
     ]
    }
   ],
   "source": [
    "class TestEnvironment(unittest.TestCase):\n",
    "    def setUp(self):\n",
    "        self.env = Environment(3,5)\n",
    "        \n",
    "    def test_region(self):\n",
    "        self.assertEqual((self.env.width, self.env.hight), (3,5))\n",
    "\n",
    "unittest.main(argv=['first-arg-is-ignored'], exit=False);"
   ]
  },
  {
   "cell_type": "markdown",
   "metadata": {},
   "source": [
    "## Atom Class"
   ]
  },
  {
   "cell_type": "code",
   "execution_count": 32,
   "metadata": {},
   "outputs": [
    {
     "name": "stderr",
     "output_type": "stream",
     "text": [
      ".................."
     ]
    },
    {
     "name": "stdout",
     "output_type": "stream",
     "text": [
      "TestMD\n",
      "Make sure that the vectors are different:\n",
      " [array([0.40370578, 0.67828531]), array([0.73168032, 0.75156227]), array([0.77679199, 0.90742719])]\n"
     ]
    },
    {
     "name": "stderr",
     "output_type": "stream",
     "text": [
      "\n",
      "----------------------------------------------------------------------\n",
      "Ran 18 tests in 0.033s\n",
      "\n",
      "OK\n"
     ]
    }
   ],
   "source": [
    "class TestAtom(unittest.TestCase):\n",
    "    def setUp(self):\n",
    "        Atom.count = 0\n",
    "        self.a1 = Atom(0.1)\n",
    "        self.a2 = Atom(0.1)\n",
    "        \n",
    "    def test_randomness(self):\n",
    "        a1 = self.a1\n",
    "        a2 = self.a2\n",
    "\n",
    "        self.assertNotEqual(a1.r, a1.a)\n",
    "        self.assertNotEqual(a1.r, a1.a)\n",
    "        self.assertNotEqual(a1.r, a2.r)\n",
    "\n",
    "    def test_count1(self):\n",
    "        self.assertEqual(2, Atom.count)\n",
    "        # print(Atom.count) # 2\n",
    "        # each test case starts with setUp\n",
    "        # previous tests don't have any influence\n",
    "        Atom(0.3, [3,6]), Atom(0.3, [3,6]), Atom(0.3, [3,6])\n",
    "        self.assertEqual(5, Atom.count)\n",
    "\n",
    "    def test_count2(self):\n",
    "        self.assertEqual(2, Atom.count)\n",
    "        # print(Atom.count)\n",
    "        Atom(0.3, [3,6]), Atom(0.3, [3,6]), Atom(0.3, [3,6])\n",
    "        self.assertEqual(5, Atom.count)\n",
    "    \n",
    "    def tearDown(self):\n",
    "        Atom.count = 0\n",
    "\n",
    "unittest.main(argv=['first-arg-is-ignored'], exit=False);"
   ]
  },
  {
   "cell_type": "markdown",
   "metadata": {},
   "source": [
    "## Moleculalr Dynamics Class"
   ]
  },
  {
   "cell_type": "code",
   "execution_count": 91,
   "metadata": {},
   "outputs": [
    {
     "name": "stderr",
     "output_type": "stream",
     "text": [
      "...."
     ]
    },
    {
     "data": {
      "application/vnd.plotly.v1+json": {
       "config": {
        "linkText": "Export to plot.ly",
        "plotlyServerURL": "https://plot.ly",
        "showLink": false
       },
       "data": [
        {
         "marker": {
          "color": "red",
          "size": 11
         },
         "mode": "markers",
         "name": "Simulation",
         "type": "scatter",
         "uid": "a3956457-a00e-4473-af99-a486f82c4f4f",
         "x": [
          -10,
          -9.65,
          -9.3,
          -8.950000000000001,
          -8.600000000000001,
          -8.250000000000002,
          -7.900000000000002,
          -7.5500000000000025,
          -7.200000000000003,
          -6.850000000000003,
          -6.5000000000000036,
          -6.150000000000004,
          -5.800000000000004,
          -5.450000000000005,
          -5.100000000000005,
          -4.750000000000005,
          -4.400000000000006,
          -4.050000000000006,
          -3.700000000000006,
          -3.350000000000006,
          -3.0000000000000058,
          -2.6500000000000057,
          -2.3000000000000056,
          -1.9500000000000055,
          -1.6000000000000054,
          -1.2500000000000053,
          -0.9000000000000052,
          -0.5500000000000052,
          -0.20000000000000512,
          0.14999999999999492,
          0.49999999999999495,
          0.849999999999995,
          1.199999999999995,
          1.5499999999999952,
          1.8999999999999952,
          2.249999999999995,
          2.599999999999995,
          2.9499999999999953,
          3.2999999999999954,
          3.6499999999999955,
          3.9999999999999956,
          4.349999999999995,
          4.699999999999995,
          5.0499999999999945,
          5.399999999999994,
          5.749999999999994,
          6.099999999999993,
          6.449999999999993,
          6.799999999999993,
          7.149999999999992,
          7.499999999999992,
          7.849999999999992,
          8.199999999999992,
          8.549999999999992,
          8.899999999999991,
          9.249999999999991,
          9.59999999999999,
          9.94999999999999,
          10.29999999999999,
          10.64999999999999,
          10.99999999999999,
          11.349999999999989,
          11.699999999999989,
          12.049999999999988,
          12.399999999999988,
          12.749999999999988,
          13.099999999999987,
          13.449999999999987,
          13.799999999999986,
          14.149999999999986,
          14.499999999999986,
          14.849999999999985,
          15.199999999999985,
          15.549999999999985,
          15.899999999999984,
          16.249999999999986,
          16.599999999999987,
          16.94999999999999,
          17.29999999999999,
          17.64999999999999,
          17.999999999999993,
          18.349999999999994,
          18.699999999999996,
          19.049999999999997,
          19.4,
          19.75,
          20.1,
          20.450000000000003,
          20.800000000000004,
          21.150000000000006,
          21.500000000000007,
          21.85000000000001,
          22.20000000000001,
          22.55000000000001,
          22.900000000000013,
          23.250000000000014,
          23.600000000000016,
          23.950000000000017,
          24.30000000000002,
          24.65000000000002
         ],
         "y": [
          10,
          9.98775,
          9.951,
          9.889750000000001,
          9.804,
          9.69375,
          9.559,
          9.39975,
          9.216,
          9.00775,
          8.775,
          8.51775,
          8.235999999999999,
          7.9297499999999985,
          7.598999999999998,
          7.243749999999999,
          6.863999999999998,
          6.459749999999998,
          6.030999999999998,
          5.577749999999998,
          5.099999999999998,
          4.597749999999998,
          4.070999999999998,
          3.5197499999999984,
          2.9439999999999986,
          2.343749999999999,
          1.7189999999999996,
          1.0697500000000002,
          0.3960000000000009,
          -0.30224999999999835,
          -1.0249999999999975,
          -1.7722499999999966,
          -2.5439999999999956,
          -3.3402499999999944,
          -4.160999999999993,
          -5.0062499999999925,
          -5.8759999999999915,
          -6.770249999999991,
          -7.68899999999999,
          -8.63224999999999,
          -9.599999999999989,
          -10.59224999999999,
          -11.60899999999999,
          -12.65024999999999,
          -13.715999999999989,
          -14.806249999999988,
          -15.920999999999989,
          -17.06024999999999,
          -18.22399999999999,
          -19.41224999999999,
          -20.62499999999999,
          -21.86224999999999,
          -23.123999999999988,
          -24.41024999999999,
          -25.720999999999993,
          -27.056249999999995,
          -28.415999999999997,
          -29.80025,
          -31.209,
          -32.642250000000004,
          -34.10000000000001,
          -35.58225000000001,
          -37.08900000000001,
          -38.62025000000001,
          -40.176000000000016,
          -41.756250000000016,
          -43.36100000000002,
          -44.99025000000002,
          -46.64400000000002,
          -48.32225000000002,
          -50.02500000000002,
          -51.75225000000002,
          -53.50400000000002,
          -55.28025000000002,
          -57.08100000000002,
          -58.906250000000014,
          -60.756000000000014,
          -62.63025000000001,
          -64.52900000000001,
          -66.45225,
          -68.4,
          -70.37225000000001,
          -72.369,
          -74.39025,
          -76.43599999999999,
          -78.50625,
          -80.60099999999998,
          -82.72024999999998,
          -84.86399999999998,
          -87.03224999999998,
          -89.22499999999997,
          -91.44224999999996,
          -93.68399999999995,
          -95.95024999999995,
          -98.24099999999994,
          -100.55624999999993,
          -102.89599999999993,
          -105.26024999999993,
          -107.64899999999992,
          -110.0622499999999
         ]
        },
        {
         "marker": {
          "color": "blue"
         },
         "name": "Prediction",
         "type": "scatter",
         "uid": "7aa793a7-2104-4dd2-ad79-a4821a3b57a9",
         "x": [
          -10,
          -9.92964824120603,
          -9.859296482412061,
          -9.78894472361809,
          -9.71859296482412,
          -9.64824120603015,
          -9.577889447236181,
          -9.507537688442211,
          -9.43718592964824,
          -9.366834170854272,
          -9.296482412060302,
          -9.226130653266331,
          -9.155778894472363,
          -9.085427135678392,
          -9.015075376884422,
          -8.944723618090451,
          -8.874371859296483,
          -8.804020100502512,
          -8.733668341708542,
          -8.663316582914574,
          -8.592964824120603,
          -8.522613065326633,
          -8.452261306532662,
          -8.381909547738694,
          -8.311557788944723,
          -8.241206030150753,
          -8.170854271356784,
          -8.100502512562814,
          -8.030150753768844,
          -7.959798994974875,
          -7.889447236180905,
          -7.819095477386934,
          -7.748743718592965,
          -7.678391959798995,
          -7.608040201005025,
          -7.537688442211055,
          -7.467336683417085,
          -7.396984924623116,
          -7.326633165829145,
          -7.256281407035176,
          -7.185929648241206,
          -7.115577889447236,
          -7.045226130653266,
          -6.974874371859297,
          -6.9045226130653266,
          -6.834170854271356,
          -6.763819095477387,
          -6.693467336683417,
          -6.623115577889447,
          -6.552763819095477,
          -6.482412060301508,
          -6.4120603015075375,
          -6.341708542713567,
          -6.2713567839195985,
          -6.201005025125628,
          -6.130653266331658,
          -6.060301507537688,
          -5.989949748743719,
          -5.919597989949749,
          -5.849246231155779,
          -5.7788944723618085,
          -5.708542713567839,
          -5.638190954773869,
          -5.5678391959799,
          -5.49748743718593,
          -5.427135678391959,
          -5.35678391959799,
          -5.28643216080402,
          -5.216080402010051,
          -5.1457286432160805,
          -5.07537688442211,
          -5.005025125628141,
          -4.93467336683417,
          -4.864321608040202,
          -4.793969849246231,
          -4.723618090452261,
          -4.653266331658291,
          -4.582914572864322,
          -4.5125628140703515,
          -4.442211055276382,
          -4.371859296482412,
          -4.301507537688442,
          -4.231155778894472,
          -4.160804020100502,
          -4.090452261306533,
          -4.0201005025125625,
          -3.949748743718593,
          -3.8793969849246235,
          -3.809045226130653,
          -3.7386934673366836,
          -3.6683417085427132,
          -3.5979899497487438,
          -3.5276381909547734,
          -3.457286432160804,
          -3.3869346733668344,
          -3.316582914572864,
          -3.2462311557788945,
          -3.175879396984925,
          -3.1055276381909547,
          -3.035175879396985,
          -2.9648241206030157,
          -2.8944723618090453,
          -2.824120603015075,
          -2.7537688442211055,
          -2.683417085427135,
          -2.6130653266331665,
          -2.542713567839196,
          -2.4723618090452266,
          -2.4020100502512562,
          -2.331658291457286,
          -2.2613065326633155,
          -2.190954773869347,
          -2.1206030150753765,
          -2.050251256281407,
          -1.9798994974874375,
          -1.9095477386934672,
          -1.8391959798994986,
          -1.7688442211055282,
          -1.6984924623115578,
          -1.6281407035175874,
          -1.557788944723617,
          -1.4874371859296485,
          -1.417085427135678,
          -1.3467336683417077,
          -1.2763819095477373,
          -1.2060301507537687,
          -1.1356783919598001,
          -1.0653266331658298,
          -0.9949748743718594,
          -0.924623115577889,
          -0.8542713567839186,
          -0.78391959798995,
          -0.7135678391959797,
          -0.6432160804020093,
          -0.5728643216080407,
          -0.5025125628140703,
          -0.4321608040201017,
          -0.36180904522613133,
          -0.29145728643216096,
          -0.22110552763819058,
          -0.1507537688442202,
          -0.0804020100502516,
          -0.010050251256281229,
          0.06030150753768915,
          0.13065326633165952,
          0.20100502512562812,
          0.2713567839195967,
          0.3417085427135671,
          0.4120603015075375,
          0.48241206030150785,
          0.5527638190954782,
          0.6231155778894486,
          0.6934673366834172,
          0.7638190954773876,
          0.8341708542713562,
          0.9045226130653266,
          0.9748743718592969,
          1.0452261306532655,
          1.115577889447236,
          1.1859296482412063,
          1.2562814070351767,
          1.326633165829147,
          1.3969849246231156,
          1.467336683417086,
          1.5376884422110564,
          1.608040201005025,
          1.6783919597989954,
          1.748743718592964,
          1.8190954773869343,
          1.8894472361809047,
          1.959798994974875,
          2.0301507537688455,
          2.100502512562814,
          2.1708542713567844,
          2.241206030150753,
          2.3115577889447234,
          2.381909547738694,
          2.4522613065326624,
          2.5226130653266328,
          2.592964824120603,
          2.6633165829145735,
          2.733668341708544,
          2.8040201005025125,
          2.874371859296483,
          2.9447236180904532,
          3.015075376884422,
          3.085427135678392,
          3.155778894472361,
          3.226130653266331,
          3.2964824120603016,
          3.366834170854272,
          3.4371859296482423,
          3.507537688442211,
          3.5778894472361813,
          3.64824120603015,
          3.7185929648241203,
          3.7889447236180906,
          3.859296482412061,
          3.9296482412060296,
          4
         ],
         "y": [
          10,
          9.99950506300346,
          9.998020252013838,
          9.995545567031135,
          9.992081008055353,
          9.987626575086487,
          9.982182268124543,
          9.975748087169515,
          9.968324032221409,
          9.95991010328022,
          9.950506300345952,
          9.940112623418601,
          9.92872907249817,
          9.916355647584657,
          9.902992348678064,
          9.888639175778389,
          9.873296128885634,
          9.856963207999797,
          9.83964041312088,
          9.821327744248883,
          9.802025201383803,
          9.781732784525643,
          9.760450493674401,
          9.73817832883008,
          9.714916289992678,
          9.690664377162193,
          9.665422590338627,
          9.639190929521982,
          9.611969394712254,
          9.583757985909447,
          9.554556703113558,
          9.524365546324587,
          9.493184515542536,
          9.461013610767404,
          9.427852831999193,
          9.393702179237899,
          9.358561652483523,
          9.322431251736067,
          9.28531097699553,
          9.247200828261912,
          9.208100805535214,
          9.168010908815434,
          9.126931138102574,
          9.084861493396632,
          9.04180197469761,
          8.997752582005505,
          8.95271331532032,
          8.906684174642054,
          8.859665159970708,
          8.81165627130628,
          8.762657508648772,
          8.712668871998181,
          8.66169036135451,
          8.60972197671776,
          8.556763718087927,
          8.502815585465013,
          8.447877578849019,
          8.391949698239943,
          8.335031943637787,
          8.277124315042549,
          8.21822681245423,
          8.158339435872831,
          8.097462185298351,
          8.03559506073079,
          7.972738062170148,
          7.908891189616423,
          7.84405444306962,
          7.778227822529734,
          7.7114113279967675,
          7.64360495947072,
          7.574808716951592,
          7.505022600439383,
          7.4342466099340925,
          7.362480745435722,
          7.289725006944269,
          7.215979394459735,
          7.141243907982121,
          7.0655185475114255,
          6.988803313047649,
          6.911098204590793,
          6.832403222140854,
          6.752718365697836,
          6.672043635261735,
          6.590379030832555,
          6.507724552410293,
          6.424080199994949,
          6.339445973586526,
          6.25382187318502,
          6.1672078987904335,
          6.079604050402768,
          5.9910103280220195,
          5.901426731648191,
          5.81085326128128,
          5.719289916921289,
          5.626736698568218,
          5.533193606222064,
          5.438660639882832,
          5.343137799550516,
          5.246625085225119,
          5.149122496906643,
          5.050630034595087,
          4.951147698290447,
          4.850675487992727,
          4.749213403701926,
          4.6467614454180435,
          4.543319613141082,
          4.438887906871039,
          4.333466326607914,
          4.227054872351707,
          4.1196535441024205,
          4.011262341860052,
          3.9018812656246054,
          3.791510315396075,
          3.6801494911744648,
          3.5677987929597723,
          3.4544582207519987,
          3.3401277745511475,
          3.2248074543572125,
          3.1084972601701972,
          2.9911971919901,
          2.8729072498169224,
          2.7536274336506654,
          2.6333577434913256,
          2.5120981793389046,
          2.3898487411934024,
          2.266609429054819,
          2.142380242923159,
          2.0171611827984135,
          1.8909522486805894,
          1.7637534405696815,
          1.6355647584656925,
          1.5063862023686276,
          1.376217772278478,
          1.2450594681952474,
          1.1129112901189355,
          0.9797732380495425,
          0.8456453119870719,
          0.7105275119315166,
          0.5744198378828802,
          0.4373222898411644,
          0.29923486780636743,
          0.1601575717784911,
          0.02009040175753185,
          -0.12096664225650855,
          -0.2630135602636301,
          -0.40605035226383457,
          -0.5500770182571131,
          -0.6950935582434798,
          -0.8410999722229242,
          -0.9880962601954515,
          -1.1360824221610581,
          -1.285058458119746,
          -1.435024368071515,
          -1.5859801520163632,
          -1.7379258099542962,
          -1.8908613418853086,
          -2.044786747809402,
          -2.1997020277265715,
          -2.3556071816368274,
          -2.5125022095401643,
          -2.6703871114365825,
          -2.82926188732608,
          -2.989126537208657,
          -3.1499810610843166,
          -3.3118254589530594,
          -3.4746597308148814,
          -3.638483876669783,
          -3.8032978965177655,
          -3.9691017903588293,
          -4.135895558192976,
          -4.303679200020204,
          -4.472452715840511,
          -4.6422161056538975,
          -4.812969369460369,
          -4.984712507259919,
          -5.157445519052551,
          -5.331168404838264,
          -5.505881164617055,
          -5.68158379838893,
          -5.858276306153886,
          -6.035958687911922,
          -6.2146309436630425,
          -6.394293073407237,
          -6.574945077144516,
          -6.75658695487488,
          -6.9392187065983215,
          -7.122840332314844,
          -7.307451832024444,
          -7.493053205727129,
          -7.679644453422895,
          -7.867225575111743,
          -8.055796570793671,
          -8.245357440468673,
          -8.435908184136764,
          -8.627448801797936,
          -8.819979293452189,
          -9.013499659099523,
          -9.208009898739935,
          -9.403510012373427,
          -9.600000000000001
         ]
        }
       ],
       "layout": {
        "title": {
         "text": "$\\text{Simulation and prediction of }r(t)= r + v\\cdot t + \\frac{a\\cdot t^2}2$"
        },
        "xaxis": {
         "autorange": false,
         "range": [
          -11,
          -5
         ],
         "zeroline": false
        },
        "yaxis": {
         "autorange": false,
         "range": [
          -10,
          11
         ],
         "scaleanchor": "x",
         "scaleratio": 1,
         "zeroline": false
        }
       }
      },
      "text/html": [
       "<div id=\"c1c5ef58-e712-4c36-902d-9b7d398d5dab\" style=\"height: 525px; width: 100%;\" class=\"plotly-graph-div\"></div><script type=\"text/javascript\">require([\"plotly\"], function(Plotly) { window.PLOTLYENV=window.PLOTLYENV || {};window.PLOTLYENV.BASE_URL=\"https://plot.ly\";Plotly.newPlot(\"c1c5ef58-e712-4c36-902d-9b7d398d5dab\", [{\"marker\": {\"color\": \"red\", \"size\": 11}, \"mode\": \"markers\", \"name\": \"Simulation\", \"x\": [-10, -9.65, -9.3, -8.950000000000001, -8.600000000000001, -8.250000000000002, -7.900000000000002, -7.5500000000000025, -7.200000000000003, -6.850000000000003, -6.5000000000000036, -6.150000000000004, -5.800000000000004, -5.450000000000005, -5.100000000000005, -4.750000000000005, -4.400000000000006, -4.050000000000006, -3.700000000000006, -3.350000000000006, -3.0000000000000058, -2.6500000000000057, -2.3000000000000056, -1.9500000000000055, -1.6000000000000054, -1.2500000000000053, -0.9000000000000052, -0.5500000000000052, -0.20000000000000512, 0.14999999999999492, 0.49999999999999495, 0.849999999999995, 1.199999999999995, 1.5499999999999952, 1.8999999999999952, 2.249999999999995, 2.599999999999995, 2.9499999999999953, 3.2999999999999954, 3.6499999999999955, 3.9999999999999956, 4.349999999999995, 4.699999999999995, 5.0499999999999945, 5.399999999999994, 5.749999999999994, 6.099999999999993, 6.449999999999993, 6.799999999999993, 7.149999999999992, 7.499999999999992, 7.849999999999992, 8.199999999999992, 8.549999999999992, 8.899999999999991, 9.249999999999991, 9.59999999999999, 9.94999999999999, 10.29999999999999, 10.64999999999999, 10.99999999999999, 11.349999999999989, 11.699999999999989, 12.049999999999988, 12.399999999999988, 12.749999999999988, 13.099999999999987, 13.449999999999987, 13.799999999999986, 14.149999999999986, 14.499999999999986, 14.849999999999985, 15.199999999999985, 15.549999999999985, 15.899999999999984, 16.249999999999986, 16.599999999999987, 16.94999999999999, 17.29999999999999, 17.64999999999999, 17.999999999999993, 18.349999999999994, 18.699999999999996, 19.049999999999997, 19.4, 19.75, 20.1, 20.450000000000003, 20.800000000000004, 21.150000000000006, 21.500000000000007, 21.85000000000001, 22.20000000000001, 22.55000000000001, 22.900000000000013, 23.250000000000014, 23.600000000000016, 23.950000000000017, 24.30000000000002, 24.65000000000002], \"y\": [10, 9.98775, 9.951, 9.889750000000001, 9.804, 9.69375, 9.559, 9.39975, 9.216, 9.00775, 8.775, 8.51775, 8.235999999999999, 7.9297499999999985, 7.598999999999998, 7.243749999999999, 6.863999999999998, 6.459749999999998, 6.030999999999998, 5.577749999999998, 5.099999999999998, 4.597749999999998, 4.070999999999998, 3.5197499999999984, 2.9439999999999986, 2.343749999999999, 1.7189999999999996, 1.0697500000000002, 0.3960000000000009, -0.30224999999999835, -1.0249999999999975, -1.7722499999999966, -2.5439999999999956, -3.3402499999999944, -4.160999999999993, -5.0062499999999925, -5.8759999999999915, -6.770249999999991, -7.68899999999999, -8.63224999999999, -9.599999999999989, -10.59224999999999, -11.60899999999999, -12.65024999999999, -13.715999999999989, -14.806249999999988, -15.920999999999989, -17.06024999999999, -18.22399999999999, -19.41224999999999, -20.62499999999999, -21.86224999999999, -23.123999999999988, -24.41024999999999, -25.720999999999993, -27.056249999999995, -28.415999999999997, -29.80025, -31.209, -32.642250000000004, -34.10000000000001, -35.58225000000001, -37.08900000000001, -38.62025000000001, -40.176000000000016, -41.756250000000016, -43.36100000000002, -44.99025000000002, -46.64400000000002, -48.32225000000002, -50.02500000000002, -51.75225000000002, -53.50400000000002, -55.28025000000002, -57.08100000000002, -58.906250000000014, -60.756000000000014, -62.63025000000001, -64.52900000000001, -66.45225, -68.4, -70.37225000000001, -72.369, -74.39025, -76.43599999999999, -78.50625, -80.60099999999998, -82.72024999999998, -84.86399999999998, -87.03224999999998, -89.22499999999997, -91.44224999999996, -93.68399999999995, -95.95024999999995, -98.24099999999994, -100.55624999999993, -102.89599999999993, -105.26024999999993, -107.64899999999992, -110.0622499999999], \"type\": \"scatter\", \"uid\": \"e046721b-6518-441d-8fce-2072442bbd79\"}, {\"marker\": {\"color\": \"blue\"}, \"name\": \"Prediction\", \"x\": [-10.0, -9.92964824120603, -9.859296482412061, -9.78894472361809, -9.71859296482412, -9.64824120603015, -9.577889447236181, -9.507537688442211, -9.43718592964824, -9.366834170854272, -9.296482412060302, -9.226130653266331, -9.155778894472363, -9.085427135678392, -9.015075376884422, -8.944723618090451, -8.874371859296483, -8.804020100502512, -8.733668341708542, -8.663316582914574, -8.592964824120603, -8.522613065326633, -8.452261306532662, -8.381909547738694, -8.311557788944723, -8.241206030150753, -8.170854271356784, -8.100502512562814, -8.030150753768844, -7.959798994974875, -7.889447236180905, -7.819095477386934, -7.748743718592965, -7.678391959798995, -7.608040201005025, -7.537688442211055, -7.467336683417085, -7.396984924623116, -7.326633165829145, -7.256281407035176, -7.185929648241206, -7.115577889447236, -7.045226130653266, -6.974874371859297, -6.9045226130653266, -6.834170854271356, -6.763819095477387, -6.693467336683417, -6.623115577889447, -6.552763819095477, -6.482412060301508, -6.4120603015075375, -6.341708542713567, -6.2713567839195985, -6.201005025125628, -6.130653266331658, -6.060301507537688, -5.989949748743719, -5.919597989949749, -5.849246231155779, -5.7788944723618085, -5.708542713567839, -5.638190954773869, -5.5678391959799, -5.49748743718593, -5.427135678391959, -5.35678391959799, -5.28643216080402, -5.216080402010051, -5.1457286432160805, -5.07537688442211, -5.005025125628141, -4.93467336683417, -4.864321608040202, -4.793969849246231, -4.723618090452261, -4.653266331658291, -4.582914572864322, -4.5125628140703515, -4.442211055276382, -4.371859296482412, -4.301507537688442, -4.231155778894472, -4.160804020100502, -4.090452261306533, -4.0201005025125625, -3.949748743718593, -3.8793969849246235, -3.809045226130653, -3.7386934673366836, -3.6683417085427132, -3.5979899497487438, -3.5276381909547734, -3.457286432160804, -3.3869346733668344, -3.316582914572864, -3.2462311557788945, -3.175879396984925, -3.1055276381909547, -3.035175879396985, -2.9648241206030157, -2.8944723618090453, -2.824120603015075, -2.7537688442211055, -2.683417085427135, -2.6130653266331665, -2.542713567839196, -2.4723618090452266, -2.4020100502512562, -2.331658291457286, -2.2613065326633155, -2.190954773869347, -2.1206030150753765, -2.050251256281407, -1.9798994974874375, -1.9095477386934672, -1.8391959798994986, -1.7688442211055282, -1.6984924623115578, -1.6281407035175874, -1.557788944723617, -1.4874371859296485, -1.417085427135678, -1.3467336683417077, -1.2763819095477373, -1.2060301507537687, -1.1356783919598001, -1.0653266331658298, -0.9949748743718594, -0.924623115577889, -0.8542713567839186, -0.78391959798995, -0.7135678391959797, -0.6432160804020093, -0.5728643216080407, -0.5025125628140703, -0.4321608040201017, -0.36180904522613133, -0.29145728643216096, -0.22110552763819058, -0.1507537688442202, -0.0804020100502516, -0.010050251256281229, 0.06030150753768915, 0.13065326633165952, 0.20100502512562812, 0.2713567839195967, 0.3417085427135671, 0.4120603015075375, 0.48241206030150785, 0.5527638190954782, 0.6231155778894486, 0.6934673366834172, 0.7638190954773876, 0.8341708542713562, 0.9045226130653266, 0.9748743718592969, 1.0452261306532655, 1.115577889447236, 1.1859296482412063, 1.2562814070351767, 1.326633165829147, 1.3969849246231156, 1.467336683417086, 1.5376884422110564, 1.608040201005025, 1.6783919597989954, 1.748743718592964, 1.8190954773869343, 1.8894472361809047, 1.959798994974875, 2.0301507537688455, 2.100502512562814, 2.1708542713567844, 2.241206030150753, 2.3115577889447234, 2.381909547738694, 2.4522613065326624, 2.5226130653266328, 2.592964824120603, 2.6633165829145735, 2.733668341708544, 2.8040201005025125, 2.874371859296483, 2.9447236180904532, 3.015075376884422, 3.085427135678392, 3.155778894472361, 3.226130653266331, 3.2964824120603016, 3.366834170854272, 3.4371859296482423, 3.507537688442211, 3.5778894472361813, 3.64824120603015, 3.7185929648241203, 3.7889447236180906, 3.859296482412061, 3.9296482412060296, 4.0], \"y\": [10.0, 9.99950506300346, 9.998020252013838, 9.995545567031135, 9.992081008055353, 9.987626575086487, 9.982182268124543, 9.975748087169515, 9.968324032221409, 9.95991010328022, 9.950506300345952, 9.940112623418601, 9.92872907249817, 9.916355647584657, 9.902992348678064, 9.888639175778389, 9.873296128885634, 9.856963207999797, 9.83964041312088, 9.821327744248883, 9.802025201383803, 9.781732784525643, 9.760450493674401, 9.73817832883008, 9.714916289992678, 9.690664377162193, 9.665422590338627, 9.639190929521982, 9.611969394712254, 9.583757985909447, 9.554556703113558, 9.524365546324587, 9.493184515542536, 9.461013610767404, 9.427852831999193, 9.393702179237899, 9.358561652483523, 9.322431251736067, 9.28531097699553, 9.247200828261912, 9.208100805535214, 9.168010908815434, 9.126931138102574, 9.084861493396632, 9.04180197469761, 8.997752582005505, 8.95271331532032, 8.906684174642054, 8.859665159970708, 8.81165627130628, 8.762657508648772, 8.712668871998181, 8.66169036135451, 8.60972197671776, 8.556763718087927, 8.502815585465013, 8.447877578849019, 8.391949698239943, 8.335031943637787, 8.277124315042549, 8.21822681245423, 8.158339435872831, 8.097462185298351, 8.03559506073079, 7.972738062170148, 7.908891189616423, 7.84405444306962, 7.778227822529734, 7.7114113279967675, 7.64360495947072, 7.574808716951592, 7.505022600439383, 7.4342466099340925, 7.362480745435722, 7.289725006944269, 7.215979394459735, 7.141243907982121, 7.0655185475114255, 6.988803313047649, 6.911098204590793, 6.832403222140854, 6.752718365697836, 6.672043635261735, 6.590379030832555, 6.507724552410293, 6.424080199994949, 6.339445973586526, 6.25382187318502, 6.1672078987904335, 6.079604050402768, 5.9910103280220195, 5.901426731648191, 5.81085326128128, 5.719289916921289, 5.626736698568218, 5.533193606222064, 5.438660639882832, 5.343137799550516, 5.246625085225119, 5.149122496906643, 5.050630034595087, 4.951147698290447, 4.850675487992727, 4.749213403701926, 4.6467614454180435, 4.543319613141082, 4.438887906871039, 4.333466326607914, 4.227054872351707, 4.1196535441024205, 4.011262341860052, 3.9018812656246054, 3.791510315396075, 3.6801494911744648, 3.5677987929597723, 3.4544582207519987, 3.3401277745511475, 3.2248074543572125, 3.1084972601701972, 2.9911971919901, 2.8729072498169224, 2.7536274336506654, 2.6333577434913256, 2.5120981793389046, 2.3898487411934024, 2.266609429054819, 2.142380242923159, 2.0171611827984135, 1.8909522486805894, 1.7637534405696815, 1.6355647584656925, 1.5063862023686276, 1.376217772278478, 1.2450594681952474, 1.1129112901189355, 0.9797732380495425, 0.8456453119870719, 0.7105275119315166, 0.5744198378828802, 0.4373222898411644, 0.29923486780636743, 0.1601575717784911, 0.02009040175753185, -0.12096664225650855, -0.2630135602636301, -0.40605035226383457, -0.5500770182571131, -0.6950935582434798, -0.8410999722229242, -0.9880962601954515, -1.1360824221610581, -1.285058458119746, -1.435024368071515, -1.5859801520163632, -1.7379258099542962, -1.8908613418853086, -2.044786747809402, -2.1997020277265715, -2.3556071816368274, -2.5125022095401643, -2.6703871114365825, -2.82926188732608, -2.989126537208657, -3.1499810610843166, -3.3118254589530594, -3.4746597308148814, -3.638483876669783, -3.8032978965177655, -3.9691017903588293, -4.135895558192976, -4.303679200020204, -4.472452715840511, -4.6422161056538975, -4.812969369460369, -4.984712507259919, -5.157445519052551, -5.331168404838264, -5.505881164617055, -5.68158379838893, -5.858276306153886, -6.035958687911922, -6.2146309436630425, -6.394293073407237, -6.574945077144516, -6.75658695487488, -6.9392187065983215, -7.122840332314844, -7.307451832024444, -7.493053205727129, -7.679644453422895, -7.867225575111743, -8.055796570793671, -8.245357440468673, -8.435908184136764, -8.627448801797936, -8.819979293452189, -9.013499659099523, -9.208009898739935, -9.403510012373427, -9.600000000000001], \"type\": \"scatter\", \"uid\": \"09c0127d-7f5b-4ac6-9f94-c13ef7e64ec3\"}], {\"title\": {\"text\": \"$\\\\text{Simulation and prediction of }r(t)= r + v\\\\cdot t + \\\\frac{a\\\\cdot t^2}2$\"}, \"xaxis\": {\"autorange\": false, \"range\": [-11, -5], \"zeroline\": false}, \"yaxis\": {\"autorange\": false, \"range\": [-10, 11], \"scaleanchor\": \"x\", \"scaleratio\": 1, \"zeroline\": false}}, {\"showLink\": false, \"linkText\": \"Export to plot.ly\", \"plotlyServerURL\": \"https://plot.ly\"})});</script><script type=\"text/javascript\">window.addEventListener(\"resize\", function(){window._Plotly.Plots.resize(document.getElementById(\"c1c5ef58-e712-4c36-902d-9b7d398d5dab\"));});</script>"
      ],
      "text/vnd.plotly.v1+html": [
       "<div id=\"c1c5ef58-e712-4c36-902d-9b7d398d5dab\" style=\"height: 525px; width: 100%;\" class=\"plotly-graph-div\"></div><script type=\"text/javascript\">require([\"plotly\"], function(Plotly) { window.PLOTLYENV=window.PLOTLYENV || {};window.PLOTLYENV.BASE_URL=\"https://plot.ly\";Plotly.newPlot(\"c1c5ef58-e712-4c36-902d-9b7d398d5dab\", [{\"marker\": {\"color\": \"red\", \"size\": 11}, \"mode\": \"markers\", \"name\": \"Simulation\", \"x\": [-10, -9.65, -9.3, -8.950000000000001, -8.600000000000001, -8.250000000000002, -7.900000000000002, -7.5500000000000025, -7.200000000000003, -6.850000000000003, -6.5000000000000036, -6.150000000000004, -5.800000000000004, -5.450000000000005, -5.100000000000005, -4.750000000000005, -4.400000000000006, -4.050000000000006, -3.700000000000006, -3.350000000000006, -3.0000000000000058, -2.6500000000000057, -2.3000000000000056, -1.9500000000000055, -1.6000000000000054, -1.2500000000000053, -0.9000000000000052, -0.5500000000000052, -0.20000000000000512, 0.14999999999999492, 0.49999999999999495, 0.849999999999995, 1.199999999999995, 1.5499999999999952, 1.8999999999999952, 2.249999999999995, 2.599999999999995, 2.9499999999999953, 3.2999999999999954, 3.6499999999999955, 3.9999999999999956, 4.349999999999995, 4.699999999999995, 5.0499999999999945, 5.399999999999994, 5.749999999999994, 6.099999999999993, 6.449999999999993, 6.799999999999993, 7.149999999999992, 7.499999999999992, 7.849999999999992, 8.199999999999992, 8.549999999999992, 8.899999999999991, 9.249999999999991, 9.59999999999999, 9.94999999999999, 10.29999999999999, 10.64999999999999, 10.99999999999999, 11.349999999999989, 11.699999999999989, 12.049999999999988, 12.399999999999988, 12.749999999999988, 13.099999999999987, 13.449999999999987, 13.799999999999986, 14.149999999999986, 14.499999999999986, 14.849999999999985, 15.199999999999985, 15.549999999999985, 15.899999999999984, 16.249999999999986, 16.599999999999987, 16.94999999999999, 17.29999999999999, 17.64999999999999, 17.999999999999993, 18.349999999999994, 18.699999999999996, 19.049999999999997, 19.4, 19.75, 20.1, 20.450000000000003, 20.800000000000004, 21.150000000000006, 21.500000000000007, 21.85000000000001, 22.20000000000001, 22.55000000000001, 22.900000000000013, 23.250000000000014, 23.600000000000016, 23.950000000000017, 24.30000000000002, 24.65000000000002], \"y\": [10, 9.98775, 9.951, 9.889750000000001, 9.804, 9.69375, 9.559, 9.39975, 9.216, 9.00775, 8.775, 8.51775, 8.235999999999999, 7.9297499999999985, 7.598999999999998, 7.243749999999999, 6.863999999999998, 6.459749999999998, 6.030999999999998, 5.577749999999998, 5.099999999999998, 4.597749999999998, 4.070999999999998, 3.5197499999999984, 2.9439999999999986, 2.343749999999999, 1.7189999999999996, 1.0697500000000002, 0.3960000000000009, -0.30224999999999835, -1.0249999999999975, -1.7722499999999966, -2.5439999999999956, -3.3402499999999944, -4.160999999999993, -5.0062499999999925, -5.8759999999999915, -6.770249999999991, -7.68899999999999, -8.63224999999999, -9.599999999999989, -10.59224999999999, -11.60899999999999, -12.65024999999999, -13.715999999999989, -14.806249999999988, -15.920999999999989, -17.06024999999999, -18.22399999999999, -19.41224999999999, -20.62499999999999, -21.86224999999999, -23.123999999999988, -24.41024999999999, -25.720999999999993, -27.056249999999995, -28.415999999999997, -29.80025, -31.209, -32.642250000000004, -34.10000000000001, -35.58225000000001, -37.08900000000001, -38.62025000000001, -40.176000000000016, -41.756250000000016, -43.36100000000002, -44.99025000000002, -46.64400000000002, -48.32225000000002, -50.02500000000002, -51.75225000000002, -53.50400000000002, -55.28025000000002, -57.08100000000002, -58.906250000000014, -60.756000000000014, -62.63025000000001, -64.52900000000001, -66.45225, -68.4, -70.37225000000001, -72.369, -74.39025, -76.43599999999999, -78.50625, -80.60099999999998, -82.72024999999998, -84.86399999999998, -87.03224999999998, -89.22499999999997, -91.44224999999996, -93.68399999999995, -95.95024999999995, -98.24099999999994, -100.55624999999993, -102.89599999999993, -105.26024999999993, -107.64899999999992, -110.0622499999999], \"type\": \"scatter\", \"uid\": \"e046721b-6518-441d-8fce-2072442bbd79\"}, {\"marker\": {\"color\": \"blue\"}, \"name\": \"Prediction\", \"x\": [-10.0, -9.92964824120603, -9.859296482412061, -9.78894472361809, -9.71859296482412, -9.64824120603015, -9.577889447236181, -9.507537688442211, -9.43718592964824, -9.366834170854272, -9.296482412060302, -9.226130653266331, -9.155778894472363, -9.085427135678392, -9.015075376884422, -8.944723618090451, -8.874371859296483, -8.804020100502512, -8.733668341708542, -8.663316582914574, -8.592964824120603, -8.522613065326633, -8.452261306532662, -8.381909547738694, -8.311557788944723, -8.241206030150753, -8.170854271356784, -8.100502512562814, -8.030150753768844, -7.959798994974875, -7.889447236180905, -7.819095477386934, -7.748743718592965, -7.678391959798995, -7.608040201005025, -7.537688442211055, -7.467336683417085, -7.396984924623116, -7.326633165829145, -7.256281407035176, -7.185929648241206, -7.115577889447236, -7.045226130653266, -6.974874371859297, -6.9045226130653266, -6.834170854271356, -6.763819095477387, -6.693467336683417, -6.623115577889447, -6.552763819095477, -6.482412060301508, -6.4120603015075375, -6.341708542713567, -6.2713567839195985, -6.201005025125628, -6.130653266331658, -6.060301507537688, -5.989949748743719, -5.919597989949749, -5.849246231155779, -5.7788944723618085, -5.708542713567839, -5.638190954773869, -5.5678391959799, -5.49748743718593, -5.427135678391959, -5.35678391959799, -5.28643216080402, -5.216080402010051, -5.1457286432160805, -5.07537688442211, -5.005025125628141, -4.93467336683417, -4.864321608040202, -4.793969849246231, -4.723618090452261, -4.653266331658291, -4.582914572864322, -4.5125628140703515, -4.442211055276382, -4.371859296482412, -4.301507537688442, -4.231155778894472, -4.160804020100502, -4.090452261306533, -4.0201005025125625, -3.949748743718593, -3.8793969849246235, -3.809045226130653, -3.7386934673366836, -3.6683417085427132, -3.5979899497487438, -3.5276381909547734, -3.457286432160804, -3.3869346733668344, -3.316582914572864, -3.2462311557788945, -3.175879396984925, -3.1055276381909547, -3.035175879396985, -2.9648241206030157, -2.8944723618090453, -2.824120603015075, -2.7537688442211055, -2.683417085427135, -2.6130653266331665, -2.542713567839196, -2.4723618090452266, -2.4020100502512562, -2.331658291457286, -2.2613065326633155, -2.190954773869347, -2.1206030150753765, -2.050251256281407, -1.9798994974874375, -1.9095477386934672, -1.8391959798994986, -1.7688442211055282, -1.6984924623115578, -1.6281407035175874, -1.557788944723617, -1.4874371859296485, -1.417085427135678, -1.3467336683417077, -1.2763819095477373, -1.2060301507537687, -1.1356783919598001, -1.0653266331658298, -0.9949748743718594, -0.924623115577889, -0.8542713567839186, -0.78391959798995, -0.7135678391959797, -0.6432160804020093, -0.5728643216080407, -0.5025125628140703, -0.4321608040201017, -0.36180904522613133, -0.29145728643216096, -0.22110552763819058, -0.1507537688442202, -0.0804020100502516, -0.010050251256281229, 0.06030150753768915, 0.13065326633165952, 0.20100502512562812, 0.2713567839195967, 0.3417085427135671, 0.4120603015075375, 0.48241206030150785, 0.5527638190954782, 0.6231155778894486, 0.6934673366834172, 0.7638190954773876, 0.8341708542713562, 0.9045226130653266, 0.9748743718592969, 1.0452261306532655, 1.115577889447236, 1.1859296482412063, 1.2562814070351767, 1.326633165829147, 1.3969849246231156, 1.467336683417086, 1.5376884422110564, 1.608040201005025, 1.6783919597989954, 1.748743718592964, 1.8190954773869343, 1.8894472361809047, 1.959798994974875, 2.0301507537688455, 2.100502512562814, 2.1708542713567844, 2.241206030150753, 2.3115577889447234, 2.381909547738694, 2.4522613065326624, 2.5226130653266328, 2.592964824120603, 2.6633165829145735, 2.733668341708544, 2.8040201005025125, 2.874371859296483, 2.9447236180904532, 3.015075376884422, 3.085427135678392, 3.155778894472361, 3.226130653266331, 3.2964824120603016, 3.366834170854272, 3.4371859296482423, 3.507537688442211, 3.5778894472361813, 3.64824120603015, 3.7185929648241203, 3.7889447236180906, 3.859296482412061, 3.9296482412060296, 4.0], \"y\": [10.0, 9.99950506300346, 9.998020252013838, 9.995545567031135, 9.992081008055353, 9.987626575086487, 9.982182268124543, 9.975748087169515, 9.968324032221409, 9.95991010328022, 9.950506300345952, 9.940112623418601, 9.92872907249817, 9.916355647584657, 9.902992348678064, 9.888639175778389, 9.873296128885634, 9.856963207999797, 9.83964041312088, 9.821327744248883, 9.802025201383803, 9.781732784525643, 9.760450493674401, 9.73817832883008, 9.714916289992678, 9.690664377162193, 9.665422590338627, 9.639190929521982, 9.611969394712254, 9.583757985909447, 9.554556703113558, 9.524365546324587, 9.493184515542536, 9.461013610767404, 9.427852831999193, 9.393702179237899, 9.358561652483523, 9.322431251736067, 9.28531097699553, 9.247200828261912, 9.208100805535214, 9.168010908815434, 9.126931138102574, 9.084861493396632, 9.04180197469761, 8.997752582005505, 8.95271331532032, 8.906684174642054, 8.859665159970708, 8.81165627130628, 8.762657508648772, 8.712668871998181, 8.66169036135451, 8.60972197671776, 8.556763718087927, 8.502815585465013, 8.447877578849019, 8.391949698239943, 8.335031943637787, 8.277124315042549, 8.21822681245423, 8.158339435872831, 8.097462185298351, 8.03559506073079, 7.972738062170148, 7.908891189616423, 7.84405444306962, 7.778227822529734, 7.7114113279967675, 7.64360495947072, 7.574808716951592, 7.505022600439383, 7.4342466099340925, 7.362480745435722, 7.289725006944269, 7.215979394459735, 7.141243907982121, 7.0655185475114255, 6.988803313047649, 6.911098204590793, 6.832403222140854, 6.752718365697836, 6.672043635261735, 6.590379030832555, 6.507724552410293, 6.424080199994949, 6.339445973586526, 6.25382187318502, 6.1672078987904335, 6.079604050402768, 5.9910103280220195, 5.901426731648191, 5.81085326128128, 5.719289916921289, 5.626736698568218, 5.533193606222064, 5.438660639882832, 5.343137799550516, 5.246625085225119, 5.149122496906643, 5.050630034595087, 4.951147698290447, 4.850675487992727, 4.749213403701926, 4.6467614454180435, 4.543319613141082, 4.438887906871039, 4.333466326607914, 4.227054872351707, 4.1196535441024205, 4.011262341860052, 3.9018812656246054, 3.791510315396075, 3.6801494911744648, 3.5677987929597723, 3.4544582207519987, 3.3401277745511475, 3.2248074543572125, 3.1084972601701972, 2.9911971919901, 2.8729072498169224, 2.7536274336506654, 2.6333577434913256, 2.5120981793389046, 2.3898487411934024, 2.266609429054819, 2.142380242923159, 2.0171611827984135, 1.8909522486805894, 1.7637534405696815, 1.6355647584656925, 1.5063862023686276, 1.376217772278478, 1.2450594681952474, 1.1129112901189355, 0.9797732380495425, 0.8456453119870719, 0.7105275119315166, 0.5744198378828802, 0.4373222898411644, 0.29923486780636743, 0.1601575717784911, 0.02009040175753185, -0.12096664225650855, -0.2630135602636301, -0.40605035226383457, -0.5500770182571131, -0.6950935582434798, -0.8410999722229242, -0.9880962601954515, -1.1360824221610581, -1.285058458119746, -1.435024368071515, -1.5859801520163632, -1.7379258099542962, -1.8908613418853086, -2.044786747809402, -2.1997020277265715, -2.3556071816368274, -2.5125022095401643, -2.6703871114365825, -2.82926188732608, -2.989126537208657, -3.1499810610843166, -3.3118254589530594, -3.4746597308148814, -3.638483876669783, -3.8032978965177655, -3.9691017903588293, -4.135895558192976, -4.303679200020204, -4.472452715840511, -4.6422161056538975, -4.812969369460369, -4.984712507259919, -5.157445519052551, -5.331168404838264, -5.505881164617055, -5.68158379838893, -5.858276306153886, -6.035958687911922, -6.2146309436630425, -6.394293073407237, -6.574945077144516, -6.75658695487488, -6.9392187065983215, -7.122840332314844, -7.307451832024444, -7.493053205727129, -7.679644453422895, -7.867225575111743, -8.055796570793671, -8.245357440468673, -8.435908184136764, -8.627448801797936, -8.819979293452189, -9.013499659099523, -9.208009898739935, -9.403510012373427, -9.600000000000001], \"type\": \"scatter\", \"uid\": \"09c0127d-7f5b-4ac6-9f94-c13ef7e64ec3\"}], {\"title\": {\"text\": \"$\\\\text{Simulation and prediction of }r(t)= r + v\\\\cdot t + \\\\frac{a\\\\cdot t^2}2$\"}, \"xaxis\": {\"autorange\": false, \"range\": [-11, -5], \"zeroline\": false}, \"yaxis\": {\"autorange\": false, \"range\": [-10, 11], \"scaleanchor\": \"x\", \"scaleratio\": 1, \"zeroline\": false}}, {\"showLink\": false, \"linkText\": \"Export to plot.ly\", \"plotlyServerURL\": \"https://plot.ly\"})});</script><script type=\"text/javascript\">window.addEventListener(\"resize\", function(){window._Plotly.Plots.resize(document.getElementById(\"c1c5ef58-e712-4c36-902d-9b7d398d5dab\"));});</script>"
      ]
     },
     "metadata": {},
     "output_type": "display_data"
    },
    {
     "name": "stderr",
     "output_type": "stream",
     "text": [
      ".............."
     ]
    },
    {
     "name": "stdout",
     "output_type": "stream",
     "text": [
      "Make sure that the vectors are different:\n",
      " [array([0.41276981, 0.63588606]), array([0.63771189, 0.95682776]), array([0.68866219, 0.52941675])]\n"
     ]
    },
    {
     "name": "stderr",
     "output_type": "stream",
     "text": [
      "\n",
      "----------------------------------------------------------------------\n",
      "Ran 18 tests in 0.157s\n",
      "\n",
      "OK\n"
     ]
    }
   ],
   "source": [
    "class TestMD(unittest.TestCase):\n",
    "    def setUp(self):\n",
    "        self.env = Environment(11, 11)\n",
    "        self.r = np.array([-10, 10])\n",
    "        self.v = np.array([7, 0])\n",
    "        self.a = np.array([0, -9.8])\n",
    "        self.atom = Atom(0.1, self.r, self.v, self.a)\n",
    "        self.md = MolecularDynamics(env, mode='kinematics', dt=0.05, mols=[self.atom])\n",
    "    \n",
    "    def test_leapfrog(self):\n",
    "        # real\n",
    "        self.r_coords = []\n",
    "        for i in range(100):\n",
    "            self.r_coords.append(self.md.mols[0].r)\n",
    "            self.md.leapfrogs()\n",
    "        # print(self.r_coords)\n",
    "        \n",
    "        r_coords_x = [r.x for r in self.r_coords]\n",
    "        r_coords_y = [r.y for r in self.r_coords]\n",
    "        \n",
    "        trace0 = go.Scatter(\n",
    "            x=r_coords_x,\n",
    "            y=r_coords_y,\n",
    "            mode='markers',\n",
    "            marker={'color': 'red', 'size': 11},\n",
    "            name='Simulation',\n",
    "        )\n",
    "        \n",
    "        # prediction\n",
    "        time = np.linspace(0, 2, 200)\n",
    "\n",
    "        r_coords = [self.r + t * self.v + self.a * t**2/2 for t in time]\n",
    "\n",
    "        trace1 = go.Scatter(\n",
    "            x=[r[0] for r in r_coords],\n",
    "            y=[r[1] for r in r_coords], \n",
    "            marker={'color': 'blue'},\n",
    "            name='Prediction',\n",
    "        )\n",
    "        \n",
    "        data = [trace0, trace1]\n",
    "        layout = {\n",
    "            'xaxis': dict(range=[-11, -5], autorange=False, zeroline=False),\n",
    "            'yaxis': dict(range=[-10, 11], autorange=False, zeroline=False, scaleanchor=\"x\", scaleratio=1),\n",
    "            'title': \"$\\\\text{Simulation and prediction of }r(t)= r + v\\cdot t + \\\\frac{a\\cdot t^2}2$\",\n",
    "        }\n",
    "        fig = {\n",
    "            'data': data,\n",
    "            'layout': layout,\n",
    "        }\n",
    "        \n",
    "        iplot(fig, filename='falling')\n",
    "        \n",
    "        \n",
    "\n",
    "unittest.main(argv=['first-arg-is-ignored'], exit=False); # don't forget to put it next time"
   ]
  },
  {
   "cell_type": "code",
   "execution_count": null,
   "metadata": {},
   "outputs": [],
   "source": []
  }
 ],
 "metadata": {
  "kernelspec": {
   "display_name": "Python 3",
   "language": "python",
   "name": "python3"
  },
  "language_info": {
   "codemirror_mode": {
    "name": "ipython",
    "version": 3
   },
   "file_extension": ".py",
   "mimetype": "text/x-python",
   "name": "python",
   "nbconvert_exporter": "python",
   "pygments_lexer": "ipython3",
   "version": "3.6.8"
  }
 },
 "nbformat": 4,
 "nbformat_minor": 2
}
